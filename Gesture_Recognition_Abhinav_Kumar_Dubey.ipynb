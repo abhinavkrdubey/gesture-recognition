{
 "cells": [
  {
   "cell_type": "markdown",
   "metadata": {},
   "source": [
    "# Gesture Recognition\n",
    "In this group project, you are going to build a 3D Conv model that will be able to predict the 5 gestures correctly. Please import the following libraries to get started."
   ]
  },
  {
   "cell_type": "code",
   "execution_count": 1,
   "metadata": {},
   "outputs": [],
   "source": [
    "import numpy as np\n",
    "import os\n",
    "from skimage.transform import resize\n",
    "from imageio import imread\n",
    "import matplotlib.pyplot as plt\n",
    "import datetime\n",
    "import os\n",
    "import math"
   ]
  },
  {
   "cell_type": "markdown",
   "metadata": {},
   "source": [
    "We set the random seed so that the results don't vary drastically."
   ]
  },
  {
   "cell_type": "code",
   "execution_count": 2,
   "metadata": {},
   "outputs": [],
   "source": [
    "np.random.seed(30)\n",
    "import random as rn\n",
    "rn.seed(30)\n",
    "from keras import backend as K\n",
    "import tensorflow as tf\n",
    "tf.random.set_seed(30)"
   ]
  },
  {
   "cell_type": "markdown",
   "metadata": {},
   "source": [
    "In this block, you read the folder names for training and validation. You also set the `batch_size` here. Note that you set the batch size in such a way that you are able to use the GPU in full capacity. You keep increasing the batch size until the machine throws an error."
   ]
  },
  {
   "cell_type": "code",
   "execution_count": 3,
   "metadata": {},
   "outputs": [],
   "source": [
    "train_doc = np.random.permutation(open('D:/Master AI and ML/New Project/Project_data/train.csv').readlines())\n",
    "val_doc = np.random.permutation(open('D:/Master AI and ML/New Project/Project_data/val.csv').readlines())\n",
    "batch_size = 10"
   ]
  },
  {
   "cell_type": "markdown",
   "metadata": {},
   "source": [
    "## Generator\n",
    "This is one of the most important part of the code. The overall structure of the generator has been given. In the generator, you are going to preprocess the images as you have images of 2 different dimensions as well as create a batch of video frames. You have to experiment with `img_idx`, `y`,`z` and normalization such that you get high accuracy."
   ]
  },
  {
   "cell_type": "code",
   "execution_count": 4,
   "metadata": {},
   "outputs": [],
   "source": [
    "x = 30\n",
    "y = 120\n",
    "z = 120\n",
    "input_shape = (x,y,z,3)"
   ]
  },
  {
   "cell_type": "code",
   "execution_count": 5,
   "metadata": {},
   "outputs": [],
   "source": [
    "def generator(source_path, folder_list, batch_size):\n",
    "    print( 'Source path = ', source_path, '; batch size =', batch_size)\n",
    "    img_idx = [x for x in range(0,x)]\n",
    "    while True:\n",
    "        t = np.random.permutation(folder_list)\n",
    "        num_batches = math.floor(len(folder_list)/batch_size)\n",
    "        for batch in range(num_batches): # we iterate over the number of batches\n",
    "            batch_data = np.zeros((batch_size,x,y,z,3)) # x is the number of images you use for each video, (y,z) is the final size of the input images and 3 is the number of channels RGB\n",
    "            batch_labels = np.zeros((batch_size,5)) # batch_labels is the one hot representation of the output\n",
    "            for folder in range(batch_size): # iterate over the batch_size\n",
    "                imgs = os.listdir(source_path+'/'+ t[folder + (batch*batch_size)].split(';')[0]) # read all the images in the folder\n",
    "                for idx,item in enumerate(img_idx): #  Iterate iver the frames/images of a folder to read them in\n",
    "                    image = imread(source_path+'/'+ t[folder + (batch*batch_size)].strip().split(';')[0]+'/'+imgs[item]).astype(np.float32)\n",
    "                    \n",
    "                    #crop the images and resize them. Note that the images are of 2 different shape \n",
    "                    #and the conv3D will throw error if the inputs in a batch have different shapes\n",
    "                    resized_img = resize(image,(120,120))\n",
    "\n",
    "                    batch_data[folder,idx,:,:,0] = resized_img[:,:,0]/255\n",
    "                    batch_data[folder,idx,:,:,1] = resized_img[:,:,1]/255\n",
    "                    batch_data[folder,idx,:,:,2] = resized_img[:,:,2]/255\n",
    "                    \n",
    "                batch_labels[folder, int(t[folder + (batch*batch_size)].strip().split(';')[2])] = 1\n",
    "            yield batch_data, batch_labels #you yield the batch_data and the batch_labels, remember what does yield do\n",
    "\n",
    "        \n",
    "        # write the code for the remaining data points which are left after full batches\n",
    "        batch_size_remain = len(folder_list) % batch_size\n",
    "        batch += 1\n",
    "        if (batch_size_remain!=0):\n",
    "            batch_data = np.zeros((batch_size_remain,x,y,z,3))\n",
    "            batch_labels = np.zeros((batch_size_remain,5))\n",
    "            for folder in range(batch_size_remain):\n",
    "                imgs = os.listdir(source_path+'/'+ t[folder + (batch*batch_size)].split(';')[0])\n",
    "                for idx, item in enumerate(img_idx):\n",
    "                    image = imread(source_path+'/'+ t[folder + (batch*batch_size)].strip().split(';')[0]+'/'+imgs[item]).astype(np.float32)\n",
    "                    resized_img = resize(image,(120,120))\n",
    "                    \n",
    "                    batch_data[folder,idx,:,:,0] = resized_img[:,:,0]/255\n",
    "                    batch_data[folder,idx,:,:,1] = resized_img[:,:,1]/255\n",
    "                    batch_data[folder,idx,:,:,2] = resized_img[:,:,2]/255\n",
    "                batch_labels[folder, int(t[folder + (batch*batch_size)].strip().split(';')[2])] = 1\n",
    "            yield batch_data, batch_labels"
   ]
  },
  {
   "cell_type": "markdown",
   "metadata": {},
   "source": [
    "Note here that a video is represented above in the generator as (number of images, height, width, number of channels). Take this into consideration while creating the model architecture."
   ]
  },
  {
   "cell_type": "code",
   "execution_count": 6,
   "metadata": {},
   "outputs": [
    {
     "name": "stdout",
     "output_type": "stream",
     "text": [
      "# training sequences = 663\n",
      "# validation sequences = 100\n",
      "# epochs = 20\n"
     ]
    }
   ],
   "source": [
    "curr_dt_time = datetime.datetime.now()\n",
    "train_path = 'D:/Master AI and ML/New Project/Project_data/train'\n",
    "val_path = 'D:/Master AI and ML/New Project/Project_data/val'\n",
    "num_train_sequences = len(train_doc)\n",
    "print('# training sequences =', num_train_sequences)\n",
    "num_val_sequences = len(val_doc)\n",
    "print('# validation sequences =', num_val_sequences)\n",
    "num_epochs = 20\n",
    "print ('# epochs =', num_epochs)"
   ]
  },
  {
   "cell_type": "markdown",
   "metadata": {},
   "source": [
    "## Model\n",
    "Here you make the model using different functionalities that Keras provides. Remember to use `Conv3D` and `MaxPooling3D` and not `Conv2D` and `Maxpooling2D` for a 3D convolution model. You would want to use `TimeDistributed` while building a Conv2D + RNN model. Also remember that the last layer is the softmax. Design the network in such a way that the model is able to give good accuracy on the least number of parameters so that it can fit in the memory of the webcam."
   ]
  },
  {
   "cell_type": "markdown",
   "metadata": {},
   "source": [
    "### CNN2D + RNN Model"
   ]
  },
  {
   "cell_type": "markdown",
   "metadata": {},
   "source": [
    "#### CNN2D + GRU"
   ]
  },
  {
   "cell_type": "code",
   "execution_count": 7,
   "metadata": {},
   "outputs": [],
   "source": [
    "from tensorflow.keras.models import Sequential, Model\n",
    "from tensorflow.keras.layers import Dense, GRU, Flatten, TimeDistributed, Flatten, BatchNormalization, Activation, Dropout, LSTM\n",
    "from keras.layers.convolutional import Conv3D, MaxPooling3D, MaxPooling2D, Conv2D\n",
    "from tensorflow.keras.callbacks import ModelCheckpoint, ReduceLROnPlateau\n",
    "from tensorflow.keras import optimizers\n",
    "\n",
    "model = Sequential()\n",
    "\n",
    "model.add(TimeDistributed(Conv2D(16,(3,3),padding = 'same',activation='relu'),input_shape = input_shape))\n",
    "model.add(TimeDistributed(BatchNormalization()))\n",
    "model.add(TimeDistributed(MaxPooling2D(2,2)))\n",
    "\n",
    "model.add(TimeDistributed(Conv2D(32,(3,3),padding = 'same',activation='relu'),input_shape = input_shape))\n",
    "model.add(TimeDistributed(BatchNormalization()))\n",
    "model.add(TimeDistributed(MaxPooling2D(2,2)))\n",
    "\n",
    "model.add(TimeDistributed(Conv2D(64,(3,3),padding = 'same',activation='relu')))\n",
    "model.add(TimeDistributed(BatchNormalization()))\n",
    "model.add(TimeDistributed(MaxPooling2D(2,2)))\n",
    "\n",
    "model.add(TimeDistributed(Conv2D(128,(3,3),padding = 'same',activation='relu')))\n",
    "model.add(TimeDistributed(BatchNormalization()))\n",
    "model.add(TimeDistributed(MaxPooling2D(2,2)))\n",
    "\n",
    "model.add(TimeDistributed(Conv2D(256,(3,3),padding = 'same',activation='relu')))\n",
    "model.add(TimeDistributed(BatchNormalization()))\n",
    "model.add(TimeDistributed(MaxPooling2D(2,2)))\n",
    "\n",
    "model.add(TimeDistributed(Flatten()))\n",
    "\n",
    "model.add(GRU(256,return_sequences = False))\n",
    "model.add(Dropout(0.25))\n",
    "model.add(Dense(256,activation='relu'))\n",
    "model.add(Dropout(0.25))\n",
    "model.add(Dense(5,activation='softmax'))"
   ]
  },
  {
   "cell_type": "markdown",
   "metadata": {},
   "source": [
    "Now that you have written the model, the next step is to `compile` the model. When you print the `summary` of the model, you'll see the total number of parameters you have to train."
   ]
  },
  {
   "cell_type": "code",
   "execution_count": 8,
   "metadata": {
    "scrolled": true
   },
   "outputs": [
    {
     "name": "stdout",
     "output_type": "stream",
     "text": [
      "Model: \"sequential\"\n",
      "_________________________________________________________________\n",
      " Layer (type)                Output Shape              Param #   \n",
      "=================================================================\n",
      " time_distributed (TimeDistr  (None, 30, 120, 120, 16)  448      \n",
      " ibuted)                                                         \n",
      "                                                                 \n",
      " time_distributed_1 (TimeDis  (None, 30, 120, 120, 16)  64       \n",
      " tributed)                                                       \n",
      "                                                                 \n",
      " time_distributed_2 (TimeDis  (None, 30, 60, 60, 16)   0         \n",
      " tributed)                                                       \n",
      "                                                                 \n",
      " time_distributed_3 (TimeDis  (None, 30, 60, 60, 32)   4640      \n",
      " tributed)                                                       \n",
      "                                                                 \n",
      " time_distributed_4 (TimeDis  (None, 30, 60, 60, 32)   128       \n",
      " tributed)                                                       \n",
      "                                                                 \n",
      " time_distributed_5 (TimeDis  (None, 30, 30, 30, 32)   0         \n",
      " tributed)                                                       \n",
      "                                                                 \n",
      " time_distributed_6 (TimeDis  (None, 30, 30, 30, 64)   18496     \n",
      " tributed)                                                       \n",
      "                                                                 \n",
      " time_distributed_7 (TimeDis  (None, 30, 30, 30, 64)   256       \n",
      " tributed)                                                       \n",
      "                                                                 \n",
      " time_distributed_8 (TimeDis  (None, 30, 15, 15, 64)   0         \n",
      " tributed)                                                       \n",
      "                                                                 \n",
      " time_distributed_9 (TimeDis  (None, 30, 15, 15, 128)  73856     \n",
      " tributed)                                                       \n",
      "                                                                 \n",
      " time_distributed_10 (TimeDi  (None, 30, 15, 15, 128)  512       \n",
      " stributed)                                                      \n",
      "                                                                 \n",
      " time_distributed_11 (TimeDi  (None, 30, 7, 7, 128)    0         \n",
      " stributed)                                                      \n",
      "                                                                 \n",
      " time_distributed_12 (TimeDi  (None, 30, 7, 7, 256)    295168    \n",
      " stributed)                                                      \n",
      "                                                                 \n",
      " time_distributed_13 (TimeDi  (None, 30, 7, 7, 256)    1024      \n",
      " stributed)                                                      \n",
      "                                                                 \n",
      " time_distributed_14 (TimeDi  (None, 30, 3, 3, 256)    0         \n",
      " stributed)                                                      \n",
      "                                                                 \n",
      " time_distributed_15 (TimeDi  (None, 30, 2304)         0         \n",
      " stributed)                                                      \n",
      "                                                                 \n",
      " gru (GRU)                   (None, 256)               1967616   \n",
      "                                                                 \n",
      " dropout (Dropout)           (None, 256)               0         \n",
      "                                                                 \n",
      " dense (Dense)               (None, 256)               65792     \n",
      "                                                                 \n",
      " dropout_1 (Dropout)         (None, 256)               0         \n",
      "                                                                 \n",
      " dense_1 (Dense)             (None, 5)                 1285      \n",
      "                                                                 \n",
      "=================================================================\n",
      "Total params: 2,429,285\n",
      "Trainable params: 2,428,293\n",
      "Non-trainable params: 992\n",
      "_________________________________________________________________\n",
      "None\n"
     ]
    }
   ],
   "source": [
    "optimiser = optimizers.Adam(0.0001)\n",
    "model.compile(optimizer=optimiser, loss='categorical_crossentropy', metrics=['categorical_accuracy'])\n",
    "print (model.summary())"
   ]
  },
  {
   "cell_type": "markdown",
   "metadata": {},
   "source": [
    "Let us create the `train_generator` and the `val_generator` which will be used in `.fit_generator`."
   ]
  },
  {
   "cell_type": "code",
   "execution_count": 9,
   "metadata": {},
   "outputs": [],
   "source": [
    "train_generator = generator(train_path, train_doc, batch_size)\n",
    "val_generator = generator(val_path, val_doc, batch_size)"
   ]
  },
  {
   "cell_type": "code",
   "execution_count": 10,
   "metadata": {},
   "outputs": [
    {
     "name": "stdout",
     "output_type": "stream",
     "text": [
      "WARNING:tensorflow:`period` argument is deprecated. Please use `save_freq` to specify the frequency in number of batches seen.\n"
     ]
    }
   ],
   "source": [
    "model_name = 'model_initCNN2DGRU' + '_' + str(curr_dt_time).replace(' ','').replace(':','_') + '/'\n",
    "    \n",
    "if not os.path.exists(model_name):\n",
    "    os.mkdir(model_name)\n",
    "        \n",
    "filepath = model_name + 'model-{epoch:05d}-{loss:.5f}-{categorical_accuracy:.5f}-{val_loss:.5f}-{val_categorical_accuracy:.5f}.h5'\n",
    "\n",
    "checkpoint = ModelCheckpoint(filepath, monitor='val_loss', verbose=1, save_best_only=False, save_weights_only=False, mode='auto', period=1)\n",
    "\n",
    "LR = ReduceLROnPlateau(monitor='val_loss',factor=0.5,patience=2,cooldown=1,verbose=1)\n",
    "callbacks_list = [checkpoint, LR]"
   ]
  },
  {
   "cell_type": "markdown",
   "metadata": {},
   "source": [
    "The `steps_per_epoch` and `validation_steps` are used by `fit_generator` to decide the number of next() calls it need to make."
   ]
  },
  {
   "cell_type": "code",
   "execution_count": 11,
   "metadata": {},
   "outputs": [],
   "source": [
    "if (num_train_sequences%batch_size) == 0:\n",
    "    steps_per_epoch = int(num_train_sequences/batch_size)\n",
    "else:\n",
    "    steps_per_epoch = (num_train_sequences//batch_size) + 1\n",
    "\n",
    "if (num_val_sequences%batch_size) == 0:\n",
    "    validation_steps = int(num_val_sequences/batch_size)\n",
    "else:\n",
    "    validation_steps = (num_val_sequences//batch_size) + 1"
   ]
  },
  {
   "cell_type": "markdown",
   "metadata": {},
   "source": [
    "Let us now fit the model. This will start training the model and with the help of the checkpoints, you'll be able to save the model at the end of each epoch."
   ]
  },
  {
   "cell_type": "code",
   "execution_count": 12,
   "metadata": {},
   "outputs": [
    {
     "name": "stdout",
     "output_type": "stream",
     "text": [
      "Source path =  D:/Master AI and ML/New Project/Project_data/train ; batch size = 10\n",
      "Epoch 1/20\n",
      "67/67 [==============================] - ETA: 0s - loss: 1.4474 - categorical_accuracy: 0.3952Source path =  D:/Master AI and ML/New Project/Project_data/val ; batch size = 10\n",
      "\n",
      "Epoch 1: saving model to model_initCNN2DGRU_2022-08-2400_24_46.361790\\model-00001-1.44735-0.39517-1.90540-0.21000.h5\n",
      "67/67 [==============================] - 181s 3s/step - loss: 1.4474 - categorical_accuracy: 0.3952 - val_loss: 1.9054 - val_categorical_accuracy: 0.2100 - lr: 1.0000e-04\n",
      "Epoch 2/20\n",
      "67/67 [==============================] - ETA: 0s - loss: 0.8176 - categorical_accuracy: 0.7044\n",
      "Epoch 2: saving model to model_initCNN2DGRU_2022-08-2400_24_46.361790\\model-00002-0.81764-0.70437-2.37588-0.23000.h5\n",
      "67/67 [==============================] - 177s 3s/step - loss: 0.8176 - categorical_accuracy: 0.7044 - val_loss: 2.3759 - val_categorical_accuracy: 0.2300 - lr: 1.0000e-04\n",
      "Epoch 3/20\n",
      "67/67 [==============================] - ETA: 0s - loss: 0.5668 - categorical_accuracy: 0.7843\n",
      "Epoch 3: saving model to model_initCNN2DGRU_2022-08-2400_24_46.361790\\model-00003-0.56676-0.78431-2.41663-0.30000.h5\n",
      "\n",
      "Epoch 3: ReduceLROnPlateau reducing learning rate to 4.999999873689376e-05.\n",
      "67/67 [==============================] - 172s 3s/step - loss: 0.5668 - categorical_accuracy: 0.7843 - val_loss: 2.4166 - val_categorical_accuracy: 0.3000 - lr: 1.0000e-04\n",
      "Epoch 4/20\n",
      "67/67 [==============================] - ETA: 0s - loss: 0.3432 - categorical_accuracy: 0.9080\n",
      "Epoch 4: saving model to model_initCNN2DGRU_2022-08-2400_24_46.361790\\model-00004-0.34323-0.90799-2.72521-0.27000.h5\n",
      "67/67 [==============================] - 186s 3s/step - loss: 0.3432 - categorical_accuracy: 0.9080 - val_loss: 2.7252 - val_categorical_accuracy: 0.2700 - lr: 5.0000e-05\n",
      "Epoch 5/20\n",
      "67/67 [==============================] - ETA: 0s - loss: 0.2516 - categorical_accuracy: 0.9427\n",
      "Epoch 5: saving model to model_initCNN2DGRU_2022-08-2400_24_46.361790\\model-00005-0.25164-0.94268-2.53289-0.34000.h5\n",
      "\n",
      "Epoch 5: ReduceLROnPlateau reducing learning rate to 2.499999936844688e-05.\n",
      "67/67 [==============================] - 180s 3s/step - loss: 0.2516 - categorical_accuracy: 0.9427 - val_loss: 2.5329 - val_categorical_accuracy: 0.3400 - lr: 5.0000e-05\n",
      "Epoch 6/20\n",
      "67/67 [==============================] - ETA: 0s - loss: 0.2124 - categorical_accuracy: 0.9578\n",
      "Epoch 6: saving model to model_initCNN2DGRU_2022-08-2400_24_46.361790\\model-00006-0.21237-0.95777-2.05254-0.37000.h5\n",
      "67/67 [==============================] - 165s 3s/step - loss: 0.2124 - categorical_accuracy: 0.9578 - val_loss: 2.0525 - val_categorical_accuracy: 0.3700 - lr: 2.5000e-05\n",
      "Epoch 7/20\n",
      "67/67 [==============================] - ETA: 0s - loss: 0.1617 - categorical_accuracy: 0.9774\n",
      "Epoch 7: saving model to model_initCNN2DGRU_2022-08-2400_24_46.361790\\model-00007-0.16175-0.97738-1.65668-0.43000.h5\n",
      "67/67 [==============================] - 161s 2s/step - loss: 0.1617 - categorical_accuracy: 0.9774 - val_loss: 1.6567 - val_categorical_accuracy: 0.4300 - lr: 2.5000e-05\n",
      "Epoch 8/20\n",
      "67/67 [==============================] - ETA: 0s - loss: 0.1396 - categorical_accuracy: 0.9879\n",
      "Epoch 8: saving model to model_initCNN2DGRU_2022-08-2400_24_46.361790\\model-00008-0.13956-0.98793-1.03171-0.64000.h5\n",
      "67/67 [==============================] - 167s 3s/step - loss: 0.1396 - categorical_accuracy: 0.9879 - val_loss: 1.0317 - val_categorical_accuracy: 0.6400 - lr: 2.5000e-05\n",
      "Epoch 9/20\n",
      "67/67 [==============================] - ETA: 0s - loss: 0.1240 - categorical_accuracy: 0.9879\n",
      "Epoch 9: saving model to model_initCNN2DGRU_2022-08-2400_24_46.361790\\model-00009-0.12400-0.98793-0.75431-0.72000.h5\n",
      "67/67 [==============================] - 156s 2s/step - loss: 0.1240 - categorical_accuracy: 0.9879 - val_loss: 0.7543 - val_categorical_accuracy: 0.7200 - lr: 2.5000e-05\n",
      "Epoch 10/20\n",
      "67/67 [==============================] - ETA: 0s - loss: 0.1139 - categorical_accuracy: 0.9864\n",
      "Epoch 10: saving model to model_initCNN2DGRU_2022-08-2400_24_46.361790\\model-00010-0.11394-0.98643-0.62235-0.74000.h5\n",
      "67/67 [==============================] - 170s 3s/step - loss: 0.1139 - categorical_accuracy: 0.9864 - val_loss: 0.6223 - val_categorical_accuracy: 0.7400 - lr: 2.5000e-05\n",
      "Epoch 11/20\n",
      "67/67 [==============================] - ETA: 0s - loss: 0.1071 - categorical_accuracy: 0.9910\n",
      "Epoch 11: saving model to model_initCNN2DGRU_2022-08-2400_24_46.361790\\model-00011-0.10710-0.99095-0.58990-0.81000.h5\n",
      "67/67 [==============================] - 151s 2s/step - loss: 0.1071 - categorical_accuracy: 0.9910 - val_loss: 0.5899 - val_categorical_accuracy: 0.8100 - lr: 2.5000e-05\n",
      "Epoch 12/20\n",
      "67/67 [==============================] - ETA: 0s - loss: 0.0900 - categorical_accuracy: 0.9864\n",
      "Epoch 12: saving model to model_initCNN2DGRU_2022-08-2400_24_46.361790\\model-00012-0.09000-0.98643-0.63167-0.79000.h5\n",
      "67/67 [==============================] - 148s 2s/step - loss: 0.0900 - categorical_accuracy: 0.9864 - val_loss: 0.6317 - val_categorical_accuracy: 0.7900 - lr: 2.5000e-05\n",
      "Epoch 13/20\n",
      "67/67 [==============================] - ETA: 0s - loss: 0.0846 - categorical_accuracy: 0.9955\n",
      "Epoch 13: saving model to model_initCNN2DGRU_2022-08-2400_24_46.361790\\model-00013-0.08461-0.99548-0.53502-0.82000.h5\n",
      "67/67 [==============================] - 148s 2s/step - loss: 0.0846 - categorical_accuracy: 0.9955 - val_loss: 0.5350 - val_categorical_accuracy: 0.8200 - lr: 2.5000e-05\n",
      "Epoch 14/20\n",
      "67/67 [==============================] - ETA: 0s - loss: 0.0667 - categorical_accuracy: 0.9940\n",
      "Epoch 14: saving model to model_initCNN2DGRU_2022-08-2400_24_46.361790\\model-00014-0.06671-0.99397-0.49257-0.84000.h5\n",
      "67/67 [==============================] - 149s 2s/step - loss: 0.0667 - categorical_accuracy: 0.9940 - val_loss: 0.4926 - val_categorical_accuracy: 0.8400 - lr: 2.5000e-05\n",
      "Epoch 15/20\n",
      "67/67 [==============================] - ETA: 0s - loss: 0.0559 - categorical_accuracy: 0.9970\n",
      "Epoch 15: saving model to model_initCNN2DGRU_2022-08-2400_24_46.361790\\model-00015-0.05593-0.99698-0.65767-0.79000.h5\n",
      "67/67 [==============================] - 149s 2s/step - loss: 0.0559 - categorical_accuracy: 0.9970 - val_loss: 0.6577 - val_categorical_accuracy: 0.7900 - lr: 2.5000e-05\n",
      "Epoch 16/20\n",
      "67/67 [==============================] - ETA: 0s - loss: 0.0505 - categorical_accuracy: 0.9955\n",
      "Epoch 16: saving model to model_initCNN2DGRU_2022-08-2400_24_46.361790\\model-00016-0.05049-0.99548-0.62322-0.82000.h5\n",
      "\n",
      "Epoch 16: ReduceLROnPlateau reducing learning rate to 1.249999968422344e-05.\n",
      "67/67 [==============================] - 149s 2s/step - loss: 0.0505 - categorical_accuracy: 0.9955 - val_loss: 0.6232 - val_categorical_accuracy: 0.8200 - lr: 2.5000e-05\n",
      "Epoch 17/20\n",
      "67/67 [==============================] - ETA: 0s - loss: 0.0522 - categorical_accuracy: 1.0000\n",
      "Epoch 17: saving model to model_initCNN2DGRU_2022-08-2400_24_46.361790\\model-00017-0.05224-1.00000-0.52079-0.83000.h5\n",
      "67/67 [==============================] - 148s 2s/step - loss: 0.0522 - categorical_accuracy: 1.0000 - val_loss: 0.5208 - val_categorical_accuracy: 0.8300 - lr: 1.2500e-05\n",
      "Epoch 18/20\n",
      "67/67 [==============================] - ETA: 0s - loss: 0.0446 - categorical_accuracy: 0.9970\n",
      "Epoch 18: saving model to model_initCNN2DGRU_2022-08-2400_24_46.361790\\model-00018-0.04460-0.99698-0.53836-0.83000.h5\n",
      "\n",
      "Epoch 18: ReduceLROnPlateau reducing learning rate to 6.24999984211172e-06.\n",
      "67/67 [==============================] - 150s 2s/step - loss: 0.0446 - categorical_accuracy: 0.9970 - val_loss: 0.5384 - val_categorical_accuracy: 0.8300 - lr: 1.2500e-05\n",
      "Epoch 19/20\n",
      "67/67 [==============================] - ETA: 0s - loss: 0.0444 - categorical_accuracy: 0.9970\n",
      "Epoch 19: saving model to model_initCNN2DGRU_2022-08-2400_24_46.361790\\model-00019-0.04442-0.99698-0.61017-0.84000.h5\n",
      "67/67 [==============================] - 149s 2s/step - loss: 0.0444 - categorical_accuracy: 0.9970 - val_loss: 0.6102 - val_categorical_accuracy: 0.8400 - lr: 6.2500e-06\n",
      "Epoch 20/20\n",
      "67/67 [==============================] - ETA: 0s - loss: 0.0484 - categorical_accuracy: 0.9985\n",
      "Epoch 20: saving model to model_initCNN2DGRU_2022-08-2400_24_46.361790\\model-00020-0.04840-0.99849-0.58689-0.79000.h5\n"
     ]
    },
    {
     "name": "stdout",
     "output_type": "stream",
     "text": [
      "\n",
      "Epoch 20: ReduceLROnPlateau reducing learning rate to 3.12499992105586e-06.\n",
      "67/67 [==============================] - 149s 2s/step - loss: 0.0484 - categorical_accuracy: 0.9985 - val_loss: 0.5869 - val_categorical_accuracy: 0.7900 - lr: 6.2500e-06\n"
     ]
    }
   ],
   "source": [
    "history = model.fit(train_generator, steps_per_epoch=steps_per_epoch, epochs=num_epochs, \n",
    "                verbose=1, callbacks=callbacks_list, validation_data=val_generator, \n",
    "                validation_steps=validation_steps, class_weight=None, workers=1, initial_epoch=0)"
   ]
  },
  {
   "cell_type": "code",
   "execution_count": 13,
   "metadata": {},
   "outputs": [
    {
     "data": {
      "text/plain": [
       "<matplotlib.legend.Legend at 0x2227f2be760>"
      ]
     },
     "execution_count": 13,
     "metadata": {},
     "output_type": "execute_result"
    },
    {
     "data": {
      "image/png": "[encoded data removed]",
      "text/plain": [
       "<Figure size 1440x432 with 2 Axes>"
      ]
     },
     "metadata": {
      "needs_background": "light"
     },
     "output_type": "display_data"
    }
   ],
   "source": [
    "plt.figure(figsize=(20,6))\n",
    "ax1 = plt.subplot(121)\n",
    "ax1 = plt.plot(history.history['loss'])\n",
    "ax1 = plt.plot(history.history['val_loss'])\n",
    "plt.title('model loss')\n",
    "plt.ylabel('loss')\n",
    "plt.xlabel('epoch')\n",
    "plt.legend(['train', 'validation'], loc='lower left')\n",
    "ax2 = plt.subplot(122)\n",
    "ax2 = plt.plot(history.history['categorical_accuracy'])\n",
    "ax2 = plt.plot(history.history['val_categorical_accuracy'])\n",
    "plt.title('model accuracy')\n",
    "plt.ylabel('categorical_accuracy')\n",
    "plt.xlabel('epoch')\n",
    "plt.legend(['train', 'validation'], loc='lower left')"
   ]
  },
  {
   "cell_type": "markdown",
   "metadata": {},
   "source": [
    "The model doesn't seem to be overfitting, it has good train accuracy and validation accuracy with least learning loss. Training the model with more epochs should probably improve the model to more extent.\n",
    "- Training Accuracy: 99.70%\n",
    "- Validation Accuracy: 84.00%"
   ]
  },
  {
   "cell_type": "markdown",
   "metadata": {},
   "source": [
    "#### CNN2D + LSTM"
   ]
  },
  {
   "cell_type": "code",
   "execution_count": 14,
   "metadata": {},
   "outputs": [],
   "source": [
    "from tensorflow.keras.models import Sequential, Model\n",
    "from tensorflow.keras.layers import Dense, GRU, Flatten, TimeDistributed, Flatten, BatchNormalization, Activation, Dropout, LSTM\n",
    "from keras.layers.convolutional import Conv3D, MaxPooling3D, MaxPooling2D, Conv2D\n",
    "from tensorflow.keras.callbacks import ModelCheckpoint, ReduceLROnPlateau\n",
    "from tensorflow.keras import optimizers\n",
    "\n",
    "model = Sequential()\n",
    "\n",
    "model.add(TimeDistributed(Conv2D(16,(3,3),padding = 'same',activation='relu'),input_shape = input_shape))\n",
    "model.add(TimeDistributed(BatchNormalization()))\n",
    "model.add(TimeDistributed(MaxPooling2D(2,2)))\n",
    "\n",
    "model.add(TimeDistributed(Conv2D(32,(3,3),padding = 'same',activation='relu'),input_shape = input_shape))\n",
    "model.add(TimeDistributed(BatchNormalization()))\n",
    "model.add(TimeDistributed(MaxPooling2D(2,2)))\n",
    "\n",
    "model.add(TimeDistributed(Conv2D(64,(3,3),padding = 'same',activation='relu')))\n",
    "model.add(TimeDistributed(BatchNormalization()))\n",
    "model.add(TimeDistributed(MaxPooling2D(2,2)))\n",
    "\n",
    "model.add(TimeDistributed(Conv2D(128,(3,3),padding = 'same',activation='relu')))\n",
    "model.add(TimeDistributed(BatchNormalization()))\n",
    "model.add(TimeDistributed(MaxPooling2D(2,2)))\n",
    "\n",
    "model.add(TimeDistributed(Conv2D(256,(3,3),padding = 'same',activation='relu')))\n",
    "model.add(TimeDistributed(BatchNormalization()))\n",
    "model.add(TimeDistributed(MaxPooling2D(2,2)))\n",
    "\n",
    "model.add(TimeDistributed(Flatten()))\n",
    "\n",
    "model.add(LSTM(256,return_sequences = False))\n",
    "model.add(Dropout(0.25))\n",
    "model.add(Dense(256,activation='relu'))\n",
    "model.add(Dropout(0.25))\n",
    "model.add(Dense(5,activation='softmax'))"
   ]
  },
  {
   "cell_type": "code",
   "execution_count": 15,
   "metadata": {},
   "outputs": [
    {
     "name": "stdout",
     "output_type": "stream",
     "text": [
      "Model: \"sequential_1\"\n",
      "_________________________________________________________________\n",
      " Layer (type)                Output Shape              Param #   \n",
      "=================================================================\n",
      " time_distributed_16 (TimeDi  (None, 30, 120, 120, 16)  448      \n",
      " stributed)                                                      \n",
      "                                                                 \n",
      " time_distributed_17 (TimeDi  (None, 30, 120, 120, 16)  64       \n",
      " stributed)                                                      \n",
      "                                                                 \n",
      " time_distributed_18 (TimeDi  (None, 30, 60, 60, 16)   0         \n",
      " stributed)                                                      \n",
      "                                                                 \n",
      " time_distributed_19 (TimeDi  (None, 30, 60, 60, 32)   4640      \n",
      " stributed)                                                      \n",
      "                                                                 \n",
      " time_distributed_20 (TimeDi  (None, 30, 60, 60, 32)   128       \n",
      " stributed)                                                      \n",
      "                                                                 \n",
      " time_distributed_21 (TimeDi  (None, 30, 30, 30, 32)   0         \n",
      " stributed)                                                      \n",
      "                                                                 \n",
      " time_distributed_22 (TimeDi  (None, 30, 30, 30, 64)   18496     \n",
      " stributed)                                                      \n",
      "                                                                 \n",
      " time_distributed_23 (TimeDi  (None, 30, 30, 30, 64)   256       \n",
      " stributed)                                                      \n",
      "                                                                 \n",
      " time_distributed_24 (TimeDi  (None, 30, 15, 15, 64)   0         \n",
      " stributed)                                                      \n",
      "                                                                 \n",
      " time_distributed_25 (TimeDi  (None, 30, 15, 15, 128)  73856     \n",
      " stributed)                                                      \n",
      "                                                                 \n",
      " time_distributed_26 (TimeDi  (None, 30, 15, 15, 128)  512       \n",
      " stributed)                                                      \n",
      "                                                                 \n",
      " time_distributed_27 (TimeDi  (None, 30, 7, 7, 128)    0         \n",
      " stributed)                                                      \n",
      "                                                                 \n",
      " time_distributed_28 (TimeDi  (None, 30, 7, 7, 256)    295168    \n",
      " stributed)                                                      \n",
      "                                                                 \n",
      " time_distributed_29 (TimeDi  (None, 30, 7, 7, 256)    1024      \n",
      " stributed)                                                      \n",
      "                                                                 \n",
      " time_distributed_30 (TimeDi  (None, 30, 3, 3, 256)    0         \n",
      " stributed)                                                      \n",
      "                                                                 \n",
      " time_distributed_31 (TimeDi  (None, 30, 2304)         0         \n",
      " stributed)                                                      \n",
      "                                                                 \n",
      " lstm (LSTM)                 (None, 256)               2622464   \n",
      "                                                                 \n",
      " dropout_2 (Dropout)         (None, 256)               0         \n",
      "                                                                 \n",
      " dense_2 (Dense)             (None, 256)               65792     \n",
      "                                                                 \n",
      " dropout_3 (Dropout)         (None, 256)               0         \n",
      "                                                                 \n",
      " dense_3 (Dense)             (None, 5)                 1285      \n",
      "                                                                 \n",
      "=================================================================\n",
      "Total params: 3,084,133\n",
      "Trainable params: 3,083,141\n",
      "Non-trainable params: 992\n",
      "_________________________________________________________________\n",
      "None\n"
     ]
    }
   ],
   "source": [
    "optimiser = optimizers.Adam(0.0001)\n",
    "model.compile(optimizer=optimiser, loss='categorical_crossentropy', metrics=['categorical_accuracy'])\n",
    "print (model.summary())"
   ]
  },
  {
   "cell_type": "code",
   "execution_count": 16,
   "metadata": {},
   "outputs": [],
   "source": [
    "train_generator = generator(train_path, train_doc, batch_size)\n",
    "val_generator = generator(val_path, val_doc, batch_size)"
   ]
  },
  {
   "cell_type": "code",
   "execution_count": 17,
   "metadata": {},
   "outputs": [
    {
     "name": "stdout",
     "output_type": "stream",
     "text": [
      "WARNING:tensorflow:`period` argument is deprecated. Please use `save_freq` to specify the frequency in number of batches seen.\n"
     ]
    }
   ],
   "source": [
    "model_name = 'model_initCNN2DLSTM' + '_' + str(curr_dt_time).replace(' ','').replace(':','_') + '/'\n",
    "    \n",
    "if not os.path.exists(model_name):\n",
    "    os.mkdir(model_name)\n",
    "        \n",
    "filepath = model_name + 'model-{epoch:05d}-{loss:.5f}-{categorical_accuracy:.5f}-{val_loss:.5f}-{val_categorical_accuracy:.5f}.h5'\n",
    "\n",
    "checkpoint = ModelCheckpoint(filepath, monitor='val_loss', verbose=1, save_best_only=False, save_weights_only=False, mode='auto', period=1)\n",
    "\n",
    "LR = ReduceLROnPlateau(monitor='val_loss',factor=0.5,patience=2,cooldown=1,verbose=1)\n",
    "callbacks_list = [checkpoint, LR]"
   ]
  },
  {
   "cell_type": "code",
   "execution_count": 18,
   "metadata": {},
   "outputs": [],
   "source": [
    "if (num_train_sequences%batch_size) == 0:\n",
    "    steps_per_epoch = int(num_train_sequences/batch_size)\n",
    "else:\n",
    "    steps_per_epoch = (num_train_sequences//batch_size) + 1\n",
    "\n",
    "if (num_val_sequences%batch_size) == 0:\n",
    "    validation_steps = int(num_val_sequences/batch_size)\n",
    "else:\n",
    "    validation_steps = (num_val_sequences//batch_size) + 1"
   ]
  },
  {
   "cell_type": "code",
   "execution_count": 19,
   "metadata": {},
   "outputs": [
    {
     "name": "stdout",
     "output_type": "stream",
     "text": [
      "Source path =  D:/Master AI and ML/New Project/Project_data/train ; batch size = 10\n"
     ]
    },
    {
     "name": "stderr",
     "output_type": "stream",
     "text": [
      "C:\\Users\\abhin\\AppData\\Local\\Temp\\ipykernel_2756\\3383535347.py:1: UserWarning: `Model.fit_generator` is deprecated and will be removed in a future version. Please use `Model.fit`, which supports generators.\n",
      "  history = model.fit_generator(train_generator, steps_per_epoch=steps_per_epoch, epochs=num_epochs, verbose=1,\n"
     ]
    },
    {
     "name": "stdout",
     "output_type": "stream",
     "text": [
      "Epoch 1/20\n",
      "67/67 [==============================] - ETA: 0s - loss: 1.4318 - categorical_accuracy: 0.3952Source path =  D:/Master AI and ML/New Project/Project_data/val ; batch size = 10\n",
      "\n",
      "Epoch 1: saving model to model_initCNN2DLSTM_2022-08-2400_24_46.361790\\model-00001-1.43176-0.39517-1.62657-0.21000.h5\n",
      "67/67 [==============================] - 153s 2s/step - loss: 1.4318 - categorical_accuracy: 0.3952 - val_loss: 1.6266 - val_categorical_accuracy: 0.2100 - lr: 1.0000e-04\n",
      "Epoch 2/20\n",
      "67/67 [==============================] - ETA: 0s - loss: 1.0285 - categorical_accuracy: 0.6244\n",
      "Epoch 2: saving model to model_initCNN2DLSTM_2022-08-2400_24_46.361790\\model-00002-1.02847-0.62443-1.74236-0.20000.h5\n",
      "67/67 [==============================] - 150s 2s/step - loss: 1.0285 - categorical_accuracy: 0.6244 - val_loss: 1.7424 - val_categorical_accuracy: 0.2000 - lr: 1.0000e-04\n",
      "Epoch 3/20\n",
      "67/67 [==============================] - ETA: 0s - loss: 0.7935 - categorical_accuracy: 0.7225\n",
      "Epoch 3: saving model to model_initCNN2DLSTM_2022-08-2400_24_46.361790\\model-00003-0.79354-0.72247-1.83265-0.28000.h5\n",
      "\n",
      "Epoch 3: ReduceLROnPlateau reducing learning rate to 4.999999873689376e-05.\n",
      "67/67 [==============================] - 150s 2s/step - loss: 0.7935 - categorical_accuracy: 0.7225 - val_loss: 1.8326 - val_categorical_accuracy: 0.2800 - lr: 1.0000e-04\n",
      "Epoch 4/20\n",
      "67/67 [==============================] - ETA: 0s - loss: 0.5491 - categorical_accuracy: 0.8446\n",
      "Epoch 4: saving model to model_initCNN2DLSTM_2022-08-2400_24_46.361790\\model-00004-0.54915-0.84465-2.00989-0.24000.h5\n",
      "67/67 [==============================] - 147s 2s/step - loss: 0.5491 - categorical_accuracy: 0.8446 - val_loss: 2.0099 - val_categorical_accuracy: 0.2400 - lr: 5.0000e-05\n",
      "Epoch 5/20\n",
      "67/67 [==============================] - ETA: 0s - loss: 0.4208 - categorical_accuracy: 0.8748\n",
      "Epoch 5: saving model to model_initCNN2DLSTM_2022-08-2400_24_46.361790\\model-00005-0.42077-0.87481-2.35774-0.25000.h5\n",
      "\n",
      "Epoch 5: ReduceLROnPlateau reducing learning rate to 2.499999936844688e-05.\n",
      "67/67 [==============================] - 150s 2s/step - loss: 0.4208 - categorical_accuracy: 0.8748 - val_loss: 2.3577 - val_categorical_accuracy: 0.2500 - lr: 5.0000e-05\n",
      "Epoch 6/20\n",
      "67/67 [==============================] - ETA: 0s - loss: 0.3598 - categorical_accuracy: 0.9186\n",
      "Epoch 6: saving model to model_initCNN2DLSTM_2022-08-2400_24_46.361790\\model-00006-0.35985-0.91855-2.25471-0.27000.h5\n",
      "67/67 [==============================] - 152s 2s/step - loss: 0.3598 - categorical_accuracy: 0.9186 - val_loss: 2.2547 - val_categorical_accuracy: 0.2700 - lr: 2.5000e-05\n",
      "Epoch 7/20\n",
      "67/67 [==============================] - ETA: 0s - loss: 0.2957 - categorical_accuracy: 0.9412\n",
      "Epoch 7: saving model to model_initCNN2DLSTM_2022-08-2400_24_46.361790\\model-00007-0.29574-0.94118-1.76459-0.45000.h5\n",
      "\n",
      "Epoch 7: ReduceLROnPlateau reducing learning rate to 1.249999968422344e-05.\n",
      "67/67 [==============================] - 150s 2s/step - loss: 0.2957 - categorical_accuracy: 0.9412 - val_loss: 1.7646 - val_categorical_accuracy: 0.4500 - lr: 2.5000e-05\n",
      "Epoch 8/20\n",
      "67/67 [==============================] - ETA: 0s - loss: 0.2434 - categorical_accuracy: 0.9563\n",
      "Epoch 8: saving model to model_initCNN2DLSTM_2022-08-2400_24_46.361790\\model-00008-0.24336-0.95626-1.49750-0.49000.h5\n",
      "67/67 [==============================] - 150s 2s/step - loss: 0.2434 - categorical_accuracy: 0.9563 - val_loss: 1.4975 - val_categorical_accuracy: 0.4900 - lr: 1.2500e-05\n",
      "Epoch 9/20\n",
      "67/67 [==============================] - ETA: 0s - loss: 0.2183 - categorical_accuracy: 0.9653\n",
      "Epoch 9: saving model to model_initCNN2DLSTM_2022-08-2400_24_46.361790\\model-00009-0.21827-0.96531-1.11378-0.58000.h5\n",
      "67/67 [==============================] - 151s 2s/step - loss: 0.2183 - categorical_accuracy: 0.9653 - val_loss: 1.1138 - val_categorical_accuracy: 0.5800 - lr: 1.2500e-05\n",
      "Epoch 10/20\n",
      "67/67 [==============================] - ETA: 0s - loss: 0.2079 - categorical_accuracy: 0.9668\n",
      "Epoch 10: saving model to model_initCNN2DLSTM_2022-08-2400_24_46.361790\\model-00010-0.20786-0.96682-0.87957-0.60000.h5\n",
      "67/67 [==============================] - 149s 2s/step - loss: 0.2079 - categorical_accuracy: 0.9668 - val_loss: 0.8796 - val_categorical_accuracy: 0.6000 - lr: 1.2500e-05\n",
      "Epoch 11/20\n",
      "67/67 [==============================] - ETA: 0s - loss: 0.1692 - categorical_accuracy: 0.9834\n",
      "Epoch 11: saving model to model_initCNN2DLSTM_2022-08-2400_24_46.361790\\model-00011-0.16923-0.98341-0.73731-0.69000.h5\n",
      "67/67 [==============================] - 149s 2s/step - loss: 0.1692 - categorical_accuracy: 0.9834 - val_loss: 0.7373 - val_categorical_accuracy: 0.6900 - lr: 1.2500e-05\n",
      "Epoch 12/20\n",
      "67/67 [==============================] - ETA: 0s - loss: 0.1867 - categorical_accuracy: 0.9683\n",
      "Epoch 12: saving model to model_initCNN2DLSTM_2022-08-2400_24_46.361790\\model-00012-0.18672-0.96833-0.69864-0.75000.h5\n",
      "67/67 [==============================] - 149s 2s/step - loss: 0.1867 - categorical_accuracy: 0.9683 - val_loss: 0.6986 - val_categorical_accuracy: 0.7500 - lr: 1.2500e-05\n",
      "Epoch 13/20\n",
      "67/67 [==============================] - ETA: 0s - loss: 0.1719 - categorical_accuracy: 0.9759\n",
      "Epoch 13: saving model to model_initCNN2DLSTM_2022-08-2400_24_46.361790\\model-00013-0.17186-0.97587-0.64976-0.80000.h5\n",
      "67/67 [==============================] - 149s 2s/step - loss: 0.1719 - categorical_accuracy: 0.9759 - val_loss: 0.6498 - val_categorical_accuracy: 0.8000 - lr: 1.2500e-05\n",
      "Epoch 14/20\n",
      "67/67 [==============================] - ETA: 0s - loss: 0.1528 - categorical_accuracy: 0.9849\n",
      "Epoch 14: saving model to model_initCNN2DLSTM_2022-08-2400_24_46.361790\\model-00014-0.15283-0.98492-0.57500-0.84000.h5\n",
      "67/67 [==============================] - 150s 2s/step - loss: 0.1528 - categorical_accuracy: 0.9849 - val_loss: 0.5750 - val_categorical_accuracy: 0.8400 - lr: 1.2500e-05\n",
      "Epoch 15/20\n",
      "67/67 [==============================] - ETA: 0s - loss: 0.1400 - categorical_accuracy: 0.9834\n",
      "Epoch 15: saving model to model_initCNN2DLSTM_2022-08-2400_24_46.361790\\model-00015-0.13997-0.98341-0.66847-0.72000.h5\n",
      "67/67 [==============================] - 148s 2s/step - loss: 0.1400 - categorical_accuracy: 0.9834 - val_loss: 0.6685 - val_categorical_accuracy: 0.7200 - lr: 1.2500e-05\n",
      "Epoch 16/20\n",
      "67/67 [==============================] - ETA: 0s - loss: 0.1210 - categorical_accuracy: 0.9894\n",
      "Epoch 16: saving model to model_initCNN2DLSTM_2022-08-2400_24_46.361790\\model-00016-0.12098-0.98944-0.50797-0.86000.h5\n",
      "67/67 [==============================] - 148s 2s/step - loss: 0.1210 - categorical_accuracy: 0.9894 - val_loss: 0.5080 - val_categorical_accuracy: 0.8600 - lr: 1.2500e-05\n",
      "Epoch 17/20\n",
      "67/67 [==============================] - ETA: 0s - loss: 0.1320 - categorical_accuracy: 0.9789\n",
      "Epoch 17: saving model to model_initCNN2DLSTM_2022-08-2400_24_46.361790\\model-00017-0.13196-0.97888-0.66612-0.79000.h5\n",
      "67/67 [==============================] - 151s 2s/step - loss: 0.1320 - categorical_accuracy: 0.9789 - val_loss: 0.6661 - val_categorical_accuracy: 0.7900 - lr: 1.2500e-05\n",
      "Epoch 18/20\n",
      "67/67 [==============================] - ETA: 0s - loss: 0.1217 - categorical_accuracy: 0.9925\n",
      "Epoch 18: saving model to model_initCNN2DLSTM_2022-08-2400_24_46.361790\\model-00018-0.12169-0.99246-0.59509-0.80000.h5\n",
      "\n",
      "Epoch 18: ReduceLROnPlateau reducing learning rate to 6.24999984211172e-06.\n",
      "67/67 [==============================] - 149s 2s/step - loss: 0.1217 - categorical_accuracy: 0.9925 - val_loss: 0.5951 - val_categorical_accuracy: 0.8000 - lr: 1.2500e-05\n",
      "Epoch 19/20\n",
      "67/67 [==============================] - ETA: 0s - loss: 0.1045 - categorical_accuracy: 0.9925\n",
      "Epoch 19: saving model to model_initCNN2DLSTM_2022-08-2400_24_46.361790\\model-00019-0.10450-0.99246-0.61778-0.79000.h5\n",
      "67/67 [==============================] - 153s 2s/step - loss: 0.1045 - categorical_accuracy: 0.9925 - val_loss: 0.6178 - val_categorical_accuracy: 0.7900 - lr: 6.2500e-06\n",
      "Epoch 20/20\n",
      "67/67 [==============================] - ETA: 0s - loss: 0.0956 - categorical_accuracy: 0.9970\n",
      "Epoch 20: saving model to model_initCNN2DLSTM_2022-08-2400_24_46.361790\\model-00020-0.09559-0.99698-0.59692-0.83000.h5\n",
      "\n",
      "Epoch 20: ReduceLROnPlateau reducing learning rate to 3.12499992105586e-06.\n"
     ]
    },
    {
     "name": "stdout",
     "output_type": "stream",
     "text": [
      "\b\b\b\b\b\b\b\b\b\b\b\b\b\b\b\b\b\b\b\b\b\b\b\b\b\b\b\b\b\b\b\b\b\b\b\b\b\b\b\b\b\b\b\b\b\b\b\b\b\b\b\b\b\b\b\b\b\b\b\b\b\b\b\b\b\b\b\b\b\b\b\b\b\b\b\b\b\b\b\b\b\b\b\b\b\b\b\b\b\b\b\b\b\b\r",
      "67/67 [==============================] - 149s 2s/step - loss: 0.0956 - categorical_accuracy: 0.9970 - val_loss: 0.5969 - val_categorical_accuracy: 0.8300 - lr: 6.2500e-06\n"
     ]
    }
   ],
   "source": [
    "history = model.fit_generator(train_generator, steps_per_epoch=steps_per_epoch, epochs=num_epochs, verbose=1, \n",
    "                    callbacks=callbacks_list, validation_data=val_generator, \n",
    "                    validation_steps=validation_steps, class_weight=None, workers=1, initial_epoch=0)"
   ]
  },
  {
   "cell_type": "code",
   "execution_count": 20,
   "metadata": {},
   "outputs": [
    {
     "data": {
      "text/plain": [
       "<matplotlib.legend.Legend at 0x2227f0f9e20>"
      ]
     },
     "execution_count": 20,
     "metadata": {},
     "output_type": "execute_result"
    },
    {
     "data": {
      "image/png": "[encoded data removed]",
      "text/plain": [
       "<Figure size 1440x432 with 2 Axes>"
      ]
     },
     "metadata": {
      "needs_background": "light"
     },
     "output_type": "display_data"
    }
   ],
   "source": [
    "plt.figure(figsize=(20,6))\n",
    "ax1 = plt.subplot(121)\n",
    "ax1 = plt.plot(history.history['loss'])\n",
    "ax1 = plt.plot(history.history['val_loss'])\n",
    "plt.title('model loss')\n",
    "plt.ylabel('loss')\n",
    "plt.xlabel('epoch')\n",
    "plt.legend(['train', 'validation'], loc='lower left')\n",
    "ax2 = plt.subplot(122)\n",
    "ax2 = plt.plot(history.history['categorical_accuracy'])\n",
    "ax2 = plt.plot(history.history['val_categorical_accuracy'])\n",
    "plt.title('model accuracy')\n",
    "plt.ylabel('categorical_accuracy')\n",
    "plt.xlabel('epoch')\n",
    "plt.legend(['train', 'validation'], loc='lower left')"
   ]
  },
  {
   "cell_type": "markdown",
   "metadata": {},
   "source": [
    "The model doesn't seem to be overfitting, it has good train accuracy and validation accuracy with least learning loss. Compared to the CNN2D + GRU the difference between the Training and Validation is reduced. Training the model with more epochs should probably improve the model to more extent.\n",
    "- Training Accuracy: 98.94%\n",
    "- Validation Accuracy: 86.00%"
   ]
  },
  {
   "cell_type": "markdown",
   "metadata": {},
   "source": [
    "### CNN3D"
   ]
  },
  {
   "cell_type": "code",
   "execution_count": 21,
   "metadata": {},
   "outputs": [],
   "source": [
    "from tensorflow.keras.models import Sequential, Model\n",
    "from tensorflow.keras.layers import Dense, GRU, Flatten, TimeDistributed, Flatten, BatchNormalization, Activation, Dropout, LSTM\n",
    "from keras.layers.convolutional import Conv3D, MaxPooling3D, MaxPooling2D, Conv2D\n",
    "from tensorflow.keras.callbacks import ModelCheckpoint, ReduceLROnPlateau\n",
    "from tensorflow.keras import optimizers\n",
    "\n",
    "model = Sequential()\n",
    "\n",
    "model.add(Conv3D(16,(3,3,3),padding = 'same',activation='relu',input_shape = input_shape))\n",
    "model.add(BatchNormalization())\n",
    "model.add(MaxPooling3D((2,2,2)))\n",
    "\n",
    "model.add(Conv3D(32,(3,3,3),padding = 'same',activation='relu'))\n",
    "model.add(BatchNormalization())\n",
    "model.add(MaxPooling3D((2,2,2)))\n",
    "\n",
    "model.add(Conv3D(64,(3,3,3),padding = 'same',activation='relu'))\n",
    "model.add(BatchNormalization())\n",
    "model.add(MaxPooling3D((2,2,2)))\n",
    "\n",
    "model.add(Conv3D(128,(3,3,3),padding = 'same',activation='relu'))\n",
    "model.add(BatchNormalization())\n",
    "model.add(MaxPooling3D((2,2,2)))\n",
    "\n",
    "model.add(Conv3D(256,(3,3,3),padding = 'same',activation='relu'))\n",
    "model.add(BatchNormalization())\n",
    "\n",
    "model.add(Flatten())\n",
    "\n",
    "model.add(Dense(256,activation='relu'))\n",
    "model.add(BatchNormalization())\n",
    "model.add(Dropout(0.25))\n",
    "\n",
    "model.add(Dense(128,activation='relu'))\n",
    "model.add(BatchNormalization())\n",
    "model.add(Dropout(0.25))\n",
    "\n",
    "model.add(Dense(5,activation='softmax'))"
   ]
  },
  {
   "cell_type": "code",
   "execution_count": 22,
   "metadata": {},
   "outputs": [
    {
     "name": "stdout",
     "output_type": "stream",
     "text": [
      "Model: \"sequential_2\"\n",
      "_________________________________________________________________\n",
      " Layer (type)                Output Shape              Param #   \n",
      "=================================================================\n",
      " conv3d (Conv3D)             (None, 30, 120, 120, 16)  1312      \n",
      "                                                                 \n",
      " batch_normalization_10 (Bat  (None, 30, 120, 120, 16)  64       \n",
      " chNormalization)                                                \n",
      "                                                                 \n",
      " max_pooling3d (MaxPooling3D  (None, 15, 60, 60, 16)   0         \n",
      " )                                                               \n",
      "                                                                 \n",
      " conv3d_1 (Conv3D)           (None, 15, 60, 60, 32)    13856     \n",
      "                                                                 \n",
      " batch_normalization_11 (Bat  (None, 15, 60, 60, 32)   128       \n",
      " chNormalization)                                                \n",
      "                                                                 \n",
      " max_pooling3d_1 (MaxPooling  (None, 7, 30, 30, 32)    0         \n",
      " 3D)                                                             \n",
      "                                                                 \n",
      " conv3d_2 (Conv3D)           (None, 7, 30, 30, 64)     55360     \n",
      "                                                                 \n",
      " batch_normalization_12 (Bat  (None, 7, 30, 30, 64)    256       \n",
      " chNormalization)                                                \n",
      "                                                                 \n",
      " max_pooling3d_2 (MaxPooling  (None, 3, 15, 15, 64)    0         \n",
      " 3D)                                                             \n",
      "                                                                 \n",
      " conv3d_3 (Conv3D)           (None, 3, 15, 15, 128)    221312    \n",
      "                                                                 \n",
      " batch_normalization_13 (Bat  (None, 3, 15, 15, 128)   512       \n",
      " chNormalization)                                                \n",
      "                                                                 \n",
      " max_pooling3d_3 (MaxPooling  (None, 1, 7, 7, 128)     0         \n",
      " 3D)                                                             \n",
      "                                                                 \n",
      " conv3d_4 (Conv3D)           (None, 1, 7, 7, 256)      884992    \n",
      "                                                                 \n",
      " batch_normalization_14 (Bat  (None, 1, 7, 7, 256)     1024      \n",
      " chNormalization)                                                \n",
      "                                                                 \n",
      " flatten_2 (Flatten)         (None, 12544)             0         \n",
      "                                                                 \n",
      " dense_4 (Dense)             (None, 256)               3211520   \n",
      "                                                                 \n",
      " batch_normalization_15 (Bat  (None, 256)              1024      \n",
      " chNormalization)                                                \n",
      "                                                                 \n",
      " dropout_4 (Dropout)         (None, 256)               0         \n",
      "                                                                 \n",
      " dense_5 (Dense)             (None, 128)               32896     \n",
      "                                                                 \n",
      " batch_normalization_16 (Bat  (None, 128)              512       \n",
      " chNormalization)                                                \n",
      "                                                                 \n",
      " dropout_5 (Dropout)         (None, 128)               0         \n",
      "                                                                 \n",
      " dense_6 (Dense)             (None, 5)                 645       \n",
      "                                                                 \n",
      "=================================================================\n",
      "Total params: 4,425,413\n",
      "Trainable params: 4,423,653\n",
      "Non-trainable params: 1,760\n",
      "_________________________________________________________________\n",
      "None\n"
     ]
    }
   ],
   "source": [
    "optimiser = optimizers.Adam(0.0001)\n",
    "model.compile(optimizer=optimiser, loss='categorical_crossentropy', metrics=['categorical_accuracy'])\n",
    "print (model.summary())"
   ]
  },
  {
   "cell_type": "code",
   "execution_count": 23,
   "metadata": {},
   "outputs": [],
   "source": [
    "train_generator = generator(train_path, train_doc, batch_size)\n",
    "val_generator = generator(val_path, val_doc, batch_size)"
   ]
  },
  {
   "cell_type": "code",
   "execution_count": 24,
   "metadata": {},
   "outputs": [
    {
     "name": "stdout",
     "output_type": "stream",
     "text": [
      "WARNING:tensorflow:`period` argument is deprecated. Please use `save_freq` to specify the frequency in number of batches seen.\n"
     ]
    }
   ],
   "source": [
    "model_name = 'model_initCNN3D' + '_' + str(curr_dt_time).replace(' ','').replace(':','_') + '/'\n",
    "    \n",
    "if not os.path.exists(model_name):\n",
    "    os.mkdir(model_name)\n",
    "        \n",
    "filepath = model_name + 'model-{epoch:05d}-{loss:.5f}-{categorical_accuracy:.5f}-{val_loss:.5f}-{val_categorical_accuracy:.5f}.h5'\n",
    "\n",
    "checkpoint = ModelCheckpoint(filepath, monitor='val_loss', verbose=1, save_best_only=False, save_weights_only=False, mode='auto', period=1)\n",
    "\n",
    "LR = ReduceLROnPlateau(monitor='val_loss',factor=0.5,patience=2,cooldown=1,verbose=1)\n",
    "callbacks_list = [checkpoint, LR]"
   ]
  },
  {
   "cell_type": "code",
   "execution_count": 25,
   "metadata": {},
   "outputs": [],
   "source": [
    "if (num_train_sequences%batch_size) == 0:\n",
    "    steps_per_epoch = int(num_train_sequences/batch_size)\n",
    "else:\n",
    "    steps_per_epoch = (num_train_sequences//batch_size) + 1\n",
    "\n",
    "if (num_val_sequences%batch_size) == 0:\n",
    "    validation_steps = int(num_val_sequences/batch_size)\n",
    "else:\n",
    "    validation_steps = (num_val_sequences//batch_size) + 1"
   ]
  },
  {
   "cell_type": "code",
   "execution_count": 26,
   "metadata": {},
   "outputs": [
    {
     "name": "stdout",
     "output_type": "stream",
     "text": [
      "Source path =  D:/Master AI and ML/New Project/Project_data/train ; batch size = 10\n"
     ]
    },
    {
     "name": "stderr",
     "output_type": "stream",
     "text": [
      "C:\\Users\\abhin\\AppData\\Local\\Temp\\ipykernel_2756\\3383535347.py:1: UserWarning: `Model.fit_generator` is deprecated and will be removed in a future version. Please use `Model.fit`, which supports generators.\n",
      "  history = model.fit_generator(train_generator, steps_per_epoch=steps_per_epoch, epochs=num_epochs, verbose=1,\n"
     ]
    },
    {
     "name": "stdout",
     "output_type": "stream",
     "text": [
      "Epoch 1/20\n",
      "67/67 [==============================] - ETA: 0s - loss: 1.7447 - categorical_accuracy: 0.3831Source path =  D:/Master AI and ML/New Project/Project_data/val ; batch size = 10\n",
      "\n",
      "Epoch 1: saving model to model_initCNN3D_2022-08-2400_24_46.361790\\model-00001-1.74474-0.38311-2.11525-0.16000.h5\n",
      "67/67 [==============================] - 152s 2s/step - loss: 1.7447 - categorical_accuracy: 0.3831 - val_loss: 2.1152 - val_categorical_accuracy: 0.1600 - lr: 1.0000e-04\n",
      "Epoch 2/20\n",
      "67/67 [==============================] - ETA: 0s - loss: 0.9431 - categorical_accuracy: 0.6350\n",
      "Epoch 2: saving model to model_initCNN3D_2022-08-2400_24_46.361790\\model-00002-0.94311-0.63499-2.85316-0.17000.h5\n",
      "67/67 [==============================] - 150s 2s/step - loss: 0.9431 - categorical_accuracy: 0.6350 - val_loss: 2.8532 - val_categorical_accuracy: 0.1700 - lr: 1.0000e-04\n",
      "Epoch 3/20\n",
      "67/67 [==============================] - ETA: 0s - loss: 0.7684 - categorical_accuracy: 0.7029\n",
      "Epoch 3: saving model to model_initCNN3D_2022-08-2400_24_46.361790\\model-00003-0.76842-0.70287-6.04852-0.16000.h5\n",
      "\n",
      "Epoch 3: ReduceLROnPlateau reducing learning rate to 4.999999873689376e-05.\n",
      "67/67 [==============================] - 144s 2s/step - loss: 0.7684 - categorical_accuracy: 0.7029 - val_loss: 6.0485 - val_categorical_accuracy: 0.1600 - lr: 1.0000e-04\n",
      "Epoch 4/20\n",
      "67/67 [==============================] - ETA: 0s - loss: 0.6141 - categorical_accuracy: 0.7768\n",
      "Epoch 4: saving model to model_initCNN3D_2022-08-2400_24_46.361790\\model-00004-0.61413-0.77677-5.94087-0.16000.h5\n",
      "67/67 [==============================] - 146s 2s/step - loss: 0.6141 - categorical_accuracy: 0.7768 - val_loss: 5.9409 - val_categorical_accuracy: 0.1600 - lr: 5.0000e-05\n",
      "Epoch 5/20\n",
      "67/67 [==============================] - ETA: 0s - loss: 0.4349 - categorical_accuracy: 0.8371\n",
      "Epoch 5: saving model to model_initCNN3D_2022-08-2400_24_46.361790\\model-00005-0.43493-0.83710-4.14874-0.28000.h5\n",
      "\n",
      "Epoch 5: ReduceLROnPlateau reducing learning rate to 2.499999936844688e-05.\n",
      "67/67 [==============================] - 147s 2s/step - loss: 0.4349 - categorical_accuracy: 0.8371 - val_loss: 4.1487 - val_categorical_accuracy: 0.2800 - lr: 5.0000e-05\n",
      "Epoch 6/20\n",
      "67/67 [==============================] - ETA: 0s - loss: 0.3949 - categorical_accuracy: 0.8673\n",
      "Epoch 6: saving model to model_initCNN3D_2022-08-2400_24_46.361790\\model-00006-0.39485-0.86727-3.59425-0.21000.h5\n",
      "67/67 [==============================] - 150s 2s/step - loss: 0.3949 - categorical_accuracy: 0.8673 - val_loss: 3.5942 - val_categorical_accuracy: 0.2100 - lr: 2.5000e-05\n",
      "Epoch 7/20\n",
      "67/67 [==============================] - ETA: 0s - loss: 0.3566 - categorical_accuracy: 0.8793\n",
      "Epoch 7: saving model to model_initCNN3D_2022-08-2400_24_46.361790\\model-00007-0.35663-0.87934-2.07363-0.46000.h5\n",
      "67/67 [==============================] - 149s 2s/step - loss: 0.3566 - categorical_accuracy: 0.8793 - val_loss: 2.0736 - val_categorical_accuracy: 0.4600 - lr: 2.5000e-05\n",
      "Epoch 8/20\n",
      "67/67 [==============================] - ETA: 0s - loss: 0.3280 - categorical_accuracy: 0.8914\n",
      "Epoch 8: saving model to model_initCNN3D_2022-08-2400_24_46.361790\\model-00008-0.32804-0.89140-1.27257-0.57000.h5\n",
      "67/67 [==============================] - 148s 2s/step - loss: 0.3280 - categorical_accuracy: 0.8914 - val_loss: 1.2726 - val_categorical_accuracy: 0.5700 - lr: 2.5000e-05\n",
      "Epoch 9/20\n",
      "67/67 [==============================] - ETA: 0s - loss: 0.2514 - categorical_accuracy: 0.9170\n",
      "Epoch 9: saving model to model_initCNN3D_2022-08-2400_24_46.361790\\model-00009-0.25136-0.91704-0.82067-0.71000.h5\n",
      "67/67 [==============================] - 148s 2s/step - loss: 0.2514 - categorical_accuracy: 0.9170 - val_loss: 0.8207 - val_categorical_accuracy: 0.7100 - lr: 2.5000e-05\n",
      "Epoch 10/20\n",
      "67/67 [==============================] - ETA: 0s - loss: 0.2454 - categorical_accuracy: 0.9216\n",
      "Epoch 10: saving model to model_initCNN3D_2022-08-2400_24_46.361790\\model-00010-0.24536-0.92157-0.72216-0.77000.h5\n",
      "67/67 [==============================] - 149s 2s/step - loss: 0.2454 - categorical_accuracy: 0.9216 - val_loss: 0.7222 - val_categorical_accuracy: 0.7700 - lr: 2.5000e-05\n",
      "Epoch 11/20\n",
      "67/67 [==============================] - ETA: 0s - loss: 0.2180 - categorical_accuracy: 0.9367\n",
      "Epoch 11: saving model to model_initCNN3D_2022-08-2400_24_46.361790\\model-00011-0.21796-0.93665-0.68495-0.79000.h5\n",
      "67/67 [==============================] - 149s 2s/step - loss: 0.2180 - categorical_accuracy: 0.9367 - val_loss: 0.6849 - val_categorical_accuracy: 0.7900 - lr: 2.5000e-05\n",
      "Epoch 12/20\n",
      "67/67 [==============================] - ETA: 0s - loss: 0.2258 - categorical_accuracy: 0.9276\n",
      "Epoch 12: saving model to model_initCNN3D_2022-08-2400_24_46.361790\\model-00012-0.22581-0.92760-0.59049-0.78000.h5\n",
      "67/67 [==============================] - 148s 2s/step - loss: 0.2258 - categorical_accuracy: 0.9276 - val_loss: 0.5905 - val_categorical_accuracy: 0.7800 - lr: 2.5000e-05\n",
      "Epoch 13/20\n",
      "67/67 [==============================] - ETA: 0s - loss: 0.2125 - categorical_accuracy: 0.9382\n",
      "Epoch 13: saving model to model_initCNN3D_2022-08-2400_24_46.361790\\model-00013-0.21249-0.93816-0.62031-0.73000.h5\n",
      "67/67 [==============================] - 148s 2s/step - loss: 0.2125 - categorical_accuracy: 0.9382 - val_loss: 0.6203 - val_categorical_accuracy: 0.7300 - lr: 2.5000e-05\n",
      "Epoch 14/20\n",
      "67/67 [==============================] - ETA: 0s - loss: 0.2258 - categorical_accuracy: 0.9397\n",
      "Epoch 14: saving model to model_initCNN3D_2022-08-2400_24_46.361790\\model-00014-0.22579-0.93967-0.69386-0.76000.h5\n",
      "\n",
      "Epoch 14: ReduceLROnPlateau reducing learning rate to 1.249999968422344e-05.\n",
      "67/67 [==============================] - 148s 2s/step - loss: 0.2258 - categorical_accuracy: 0.9397 - val_loss: 0.6939 - val_categorical_accuracy: 0.7600 - lr: 2.5000e-05\n",
      "Epoch 15/20\n",
      "67/67 [==============================] - ETA: 0s - loss: 0.2528 - categorical_accuracy: 0.9125\n",
      "Epoch 15: saving model to model_initCNN3D_2022-08-2400_24_46.361790\\model-00015-0.25275-0.91252-0.59955-0.77000.h5\n",
      "67/67 [==============================] - 150s 2s/step - loss: 0.2528 - categorical_accuracy: 0.9125 - val_loss: 0.5995 - val_categorical_accuracy: 0.7700 - lr: 1.2500e-05\n",
      "Epoch 16/20\n",
      "67/67 [==============================] - ETA: 0s - loss: 0.1880 - categorical_accuracy: 0.9457\n",
      "Epoch 16: saving model to model_initCNN3D_2022-08-2400_24_46.361790\\model-00016-0.18799-0.94570-0.83056-0.73000.h5\n",
      "\n",
      "Epoch 16: ReduceLROnPlateau reducing learning rate to 6.24999984211172e-06.\n",
      "67/67 [==============================] - 150s 2s/step - loss: 0.1880 - categorical_accuracy: 0.9457 - val_loss: 0.8306 - val_categorical_accuracy: 0.7300 - lr: 1.2500e-05\n",
      "Epoch 17/20\n",
      "67/67 [==============================] - ETA: 0s - loss: 0.1551 - categorical_accuracy: 0.9578\n",
      "Epoch 17: saving model to model_initCNN3D_2022-08-2400_24_46.361790\\model-00017-0.15508-0.95777-0.56094-0.80000.h5\n",
      "67/67 [==============================] - 153s 2s/step - loss: 0.1551 - categorical_accuracy: 0.9578 - val_loss: 0.5609 - val_categorical_accuracy: 0.8000 - lr: 6.2500e-06\n",
      "Epoch 18/20\n",
      "67/67 [==============================] - ETA: 0s - loss: 0.1392 - categorical_accuracy: 0.9608\n",
      "Epoch 18: saving model to model_initCNN3D_2022-08-2400_24_46.361790\\model-00018-0.13921-0.96078-0.62525-0.74000.h5\n",
      "67/67 [==============================] - 179s 3s/step - loss: 0.1392 - categorical_accuracy: 0.9608 - val_loss: 0.6253 - val_categorical_accuracy: 0.7400 - lr: 6.2500e-06\n",
      "Epoch 19/20\n",
      "67/67 [==============================] - ETA: 0s - loss: 0.1580 - categorical_accuracy: 0.9638\n",
      "Epoch 19: saving model to model_initCNN3D_2022-08-2400_24_46.361790\\model-00019-0.15796-0.96380-0.58902-0.78000.h5\n",
      "\n",
      "Epoch 19: ReduceLROnPlateau reducing learning rate to 3.12499992105586e-06.\n",
      "67/67 [==============================] - 160s 2s/step - loss: 0.1580 - categorical_accuracy: 0.9638 - val_loss: 0.5890 - val_categorical_accuracy: 0.7800 - lr: 6.2500e-06\n",
      "Epoch 20/20\n",
      "67/67 [==============================] - ETA: 0s - loss: 0.1506 - categorical_accuracy: 0.9593\n",
      "Epoch 20: saving model to model_initCNN3D_2022-08-2400_24_46.361790\\model-00020-0.15059-0.95928-0.60573-0.78000.h5\n",
      "67/67 [==============================] - 162s 2s/step - loss: 0.1506 - categorical_accuracy: 0.9593 - val_loss: 0.6057 - val_categorical_accuracy: 0.7800 - lr: 3.1250e-06\n"
     ]
    }
   ],
   "source": [
    "history = model.fit_generator(train_generator, steps_per_epoch=steps_per_epoch, epochs=num_epochs, verbose=1, \n",
    "                    callbacks=callbacks_list, validation_data=val_generator, \n",
    "                    validation_steps=validation_steps, class_weight=None, workers=1, initial_epoch=0)"
   ]
  },
  {
   "cell_type": "code",
   "execution_count": 27,
   "metadata": {
    "scrolled": true
   },
   "outputs": [
    {
     "data": {
      "text/plain": [
       "<matplotlib.legend.Legend at 0x22281931910>"
      ]
     },
     "execution_count": 27,
     "metadata": {},
     "output_type": "execute_result"
    },
    {
     "data": {
      "image/png": "[encoded data removed]",
      "text/plain": [
       "<Figure size 1440x432 with 2 Axes>"
      ]
     },
     "metadata": {
      "needs_background": "light"
     },
     "output_type": "display_data"
    }
   ],
   "source": [
    "plt.figure(figsize=(20,6))\n",
    "ax1 = plt.subplot(121)\n",
    "ax1 = plt.plot(history.history['loss'])\n",
    "ax1 = plt.plot(history.history['val_loss'])\n",
    "plt.title('model loss')\n",
    "plt.ylabel('loss')\n",
    "plt.xlabel('epoch')\n",
    "plt.legend(['train', 'validation'], loc='lower left')\n",
    "ax2 = plt.subplot(122)\n",
    "ax2 = plt.plot(history.history['categorical_accuracy'])\n",
    "ax2 = plt.plot(history.history['val_categorical_accuracy'])\n",
    "plt.title('model accuracy')\n",
    "plt.ylabel('categorical_accuracy')\n",
    "plt.xlabel('epoch')\n",
    "plt.legend(['train', 'validation'], loc='lower left')"
   ]
  },
  {
   "cell_type": "markdown",
   "metadata": {},
   "source": [
    "The model does seem to be overfitting, it has high difference of train accuracy and validation accuracy with a bit high learning loss. Adding of Regularizers and Removal of a layer should probably improve the model to some extent.\n",
    "- Training Accuracy: 95.78%\n",
    "- Validation Accuracy: 80.00%"
   ]
  },
  {
   "cell_type": "markdown",
   "metadata": {},
   "source": [
    "### CNN3D + l2 Regularizers"
   ]
  },
  {
   "cell_type": "code",
   "execution_count": 28,
   "metadata": {},
   "outputs": [],
   "source": [
    "from tensorflow.keras.models import Sequential, Model\n",
    "from tensorflow.keras.layers import Dense, GRU, Flatten, TimeDistributed, Flatten, BatchNormalization, Activation, Dropout, LSTM\n",
    "from keras.layers.convolutional import Conv3D, MaxPooling3D, MaxPooling2D, Conv2D\n",
    "from tensorflow.keras.callbacks import ModelCheckpoint, ReduceLROnPlateau\n",
    "from tensorflow.keras import optimizers\n",
    "from keras.regularizers import l2\n",
    "\n",
    "model = Sequential()\n",
    "\n",
    "model.add(Conv3D(16,(3,3,3),padding = 'same',activation='relu',input_shape = input_shape))\n",
    "model.add(BatchNormalization())\n",
    "model.add(MaxPooling3D((2,2,2)))\n",
    "\n",
    "model.add(Conv3D(32,(3,3,3),padding = 'same',activation='relu'))\n",
    "model.add(BatchNormalization())\n",
    "model.add(MaxPooling3D((2,2,2)))\n",
    "\n",
    "model.add(Conv3D(64,(3,3,3),padding = 'same',activation='relu'))\n",
    "model.add(BatchNormalization())\n",
    "model.add(MaxPooling3D((2,2,2)))\n",
    "\n",
    "model.add(Conv3D(128,(3,3,3),padding = 'same',activation='relu'))\n",
    "model.add(BatchNormalization())\n",
    "model.add(MaxPooling3D((2,2,2)))\n",
    "\n",
    "model.add(Flatten())\n",
    "\n",
    "model.add(Dense(256,activation='relu', kernel_regularizer = l2(0.01)))\n",
    "model.add(BatchNormalization())\n",
    "model.add(Dropout(0.25))\n",
    "\n",
    "model.add(Dense(128,activation='relu'))\n",
    "model.add(BatchNormalization())\n",
    "model.add(Dropout(0.25))\n",
    "\n",
    "model.add(Dense(5,activation='softmax'))"
   ]
  },
  {
   "cell_type": "code",
   "execution_count": 29,
   "metadata": {},
   "outputs": [
    {
     "name": "stdout",
     "output_type": "stream",
     "text": [
      "Model: \"sequential_3\"\n",
      "_________________________________________________________________\n",
      " Layer (type)                Output Shape              Param #   \n",
      "=================================================================\n",
      " conv3d_5 (Conv3D)           (None, 30, 120, 120, 16)  1312      \n",
      "                                                                 \n",
      " batch_normalization_17 (Bat  (None, 30, 120, 120, 16)  64       \n",
      " chNormalization)                                                \n",
      "                                                                 \n",
      " max_pooling3d_4 (MaxPooling  (None, 15, 60, 60, 16)   0         \n",
      " 3D)                                                             \n",
      "                                                                 \n",
      " conv3d_6 (Conv3D)           (None, 15, 60, 60, 32)    13856     \n",
      "                                                                 \n",
      " batch_normalization_18 (Bat  (None, 15, 60, 60, 32)   128       \n",
      " chNormalization)                                                \n",
      "                                                                 \n",
      " max_pooling3d_5 (MaxPooling  (None, 7, 30, 30, 32)    0         \n",
      " 3D)                                                             \n",
      "                                                                 \n",
      " conv3d_7 (Conv3D)           (None, 7, 30, 30, 64)     55360     \n",
      "                                                                 \n",
      " batch_normalization_19 (Bat  (None, 7, 30, 30, 64)    256       \n",
      " chNormalization)                                                \n",
      "                                                                 \n",
      " max_pooling3d_6 (MaxPooling  (None, 3, 15, 15, 64)    0         \n",
      " 3D)                                                             \n",
      "                                                                 \n",
      " conv3d_8 (Conv3D)           (None, 3, 15, 15, 128)    221312    \n",
      "                                                                 \n",
      " batch_normalization_20 (Bat  (None, 3, 15, 15, 128)   512       \n",
      " chNormalization)                                                \n",
      "                                                                 \n",
      " max_pooling3d_7 (MaxPooling  (None, 1, 7, 7, 128)     0         \n",
      " 3D)                                                             \n",
      "                                                                 \n",
      " flatten_3 (Flatten)         (None, 6272)              0         \n",
      "                                                                 \n",
      " dense_7 (Dense)             (None, 256)               1605888   \n",
      "                                                                 \n",
      " batch_normalization_21 (Bat  (None, 256)              1024      \n",
      " chNormalization)                                                \n",
      "                                                                 \n",
      " dropout_6 (Dropout)         (None, 256)               0         \n",
      "                                                                 \n",
      " dense_8 (Dense)             (None, 128)               32896     \n",
      "                                                                 \n",
      " batch_normalization_22 (Bat  (None, 128)              512       \n",
      " chNormalization)                                                \n",
      "                                                                 \n",
      " dropout_7 (Dropout)         (None, 128)               0         \n",
      "                                                                 \n",
      " dense_9 (Dense)             (None, 5)                 645       \n",
      "                                                                 \n",
      "=================================================================\n",
      "Total params: 1,933,765\n",
      "Trainable params: 1,932,517\n",
      "Non-trainable params: 1,248\n",
      "_________________________________________________________________\n",
      "None\n"
     ]
    }
   ],
   "source": [
    "optimiser = optimizers.Adam(0.0001)\n",
    "model.compile(optimizer=optimiser, loss='categorical_crossentropy', metrics=['categorical_accuracy'])\n",
    "print (model.summary())"
   ]
  },
  {
   "cell_type": "code",
   "execution_count": 30,
   "metadata": {},
   "outputs": [],
   "source": [
    "train_generator = generator(train_path, train_doc, batch_size)\n",
    "val_generator = generator(val_path, val_doc, batch_size)"
   ]
  },
  {
   "cell_type": "code",
   "execution_count": 31,
   "metadata": {},
   "outputs": [
    {
     "name": "stdout",
     "output_type": "stream",
     "text": [
      "WARNING:tensorflow:`period` argument is deprecated. Please use `save_freq` to specify the frequency in number of batches seen.\n"
     ]
    }
   ],
   "source": [
    "model_name = 'model_initCNN3DL2' + '_' + str(curr_dt_time).replace(' ','').replace(':','_') + '/'\n",
    "    \n",
    "if not os.path.exists(model_name):\n",
    "    os.mkdir(model_name)\n",
    "        \n",
    "filepath = model_name + 'model-{epoch:05d}-{loss:.5f}-{categorical_accuracy:.5f}-{val_loss:.5f}-{val_categorical_accuracy:.5f}.h5'\n",
    "\n",
    "checkpoint = ModelCheckpoint(filepath, monitor='val_loss', verbose=1, save_best_only=False, save_weights_only=False, mode='auto', period=1)\n",
    "\n",
    "LR = ReduceLROnPlateau(monitor='val_loss',factor=0.5,patience=2,cooldown=1,verbose=1)\n",
    "callbacks_list = [checkpoint, LR]"
   ]
  },
  {
   "cell_type": "code",
   "execution_count": 32,
   "metadata": {},
   "outputs": [],
   "source": [
    "if (num_train_sequences%batch_size) == 0:\n",
    "    steps_per_epoch = int(num_train_sequences/batch_size)\n",
    "else:\n",
    "    steps_per_epoch = (num_train_sequences//batch_size) + 1\n",
    "\n",
    "if (num_val_sequences%batch_size) == 0:\n",
    "    validation_steps = int(num_val_sequences/batch_size)\n",
    "else:\n",
    "    validation_steps = (num_val_sequences//batch_size) + 1"
   ]
  },
  {
   "cell_type": "code",
   "execution_count": 33,
   "metadata": {},
   "outputs": [
    {
     "name": "stdout",
     "output_type": "stream",
     "text": [
      "Source path =  D:/Master AI and ML/New Project/Project_data/train ; batch size = 10\n"
     ]
    },
    {
     "name": "stderr",
     "output_type": "stream",
     "text": [
      "C:\\Users\\abhin\\AppData\\Local\\Temp\\ipykernel_2756\\3383535347.py:1: UserWarning: `Model.fit_generator` is deprecated and will be removed in a future version. Please use `Model.fit`, which supports generators.\n",
      "  history = model.fit_generator(train_generator, steps_per_epoch=steps_per_epoch, epochs=num_epochs, verbose=1,\n"
     ]
    },
    {
     "name": "stdout",
     "output_type": "stream",
     "text": [
      "Epoch 1/20\n",
      "67/67 [==============================] - ETA: 0s - loss: 6.4306 - categorical_accuracy: 0.4344Source path =  D:/Master AI and ML/New Project/Project_data/val ; batch size = 10\n",
      "\n",
      "Epoch 1: saving model to model_initCNN3DL2_2022-08-2400_24_46.361790\\model-00001-6.43060-0.43439-7.61760-0.16000.h5\n",
      "67/67 [==============================] - 171s 3s/step - loss: 6.4306 - categorical_accuracy: 0.4344 - val_loss: 7.6176 - val_categorical_accuracy: 0.1600 - lr: 1.0000e-04\n",
      "Epoch 2/20\n",
      "67/67 [==============================] - ETA: 0s - loss: 5.7917 - categorical_accuracy: 0.6471\n",
      "Epoch 2: saving model to model_initCNN3DL2_2022-08-2400_24_46.361790\\model-00002-5.79175-0.64706-9.49781-0.14000.h5\n",
      "67/67 [==============================] - 164s 2s/step - loss: 5.7917 - categorical_accuracy: 0.6471 - val_loss: 9.4978 - val_categorical_accuracy: 0.1400 - lr: 1.0000e-04\n",
      "Epoch 3/20\n",
      "67/67 [==============================] - ETA: 0s - loss: 5.4690 - categorical_accuracy: 0.7014\n",
      "Epoch 3: saving model to model_initCNN3DL2_2022-08-2400_24_46.361790\\model-00003-5.46899-0.70136-10.64375-0.20000.h5\n",
      "\n",
      "Epoch 3: ReduceLROnPlateau reducing learning rate to 4.999999873689376e-05.\n",
      "67/67 [==============================] - 166s 3s/step - loss: 5.4690 - categorical_accuracy: 0.7014 - val_loss: 10.6437 - val_categorical_accuracy: 0.2000 - lr: 1.0000e-04\n",
      "Epoch 4/20\n",
      "67/67 [==============================] - ETA: 0s - loss: 5.2620 - categorical_accuracy: 0.8084\n",
      "Epoch 4: saving model to model_initCNN3DL2_2022-08-2400_24_46.361790\\model-00004-5.26203-0.80845-10.06460-0.17000.h5\n",
      "67/67 [==============================] - 160s 2s/step - loss: 5.2620 - categorical_accuracy: 0.8084 - val_loss: 10.0646 - val_categorical_accuracy: 0.1700 - lr: 5.0000e-05\n",
      "Epoch 5/20\n",
      "67/67 [==============================] - ETA: 0s - loss: 5.1409 - categorical_accuracy: 0.8401\n",
      "Epoch 5: saving model to model_initCNN3DL2_2022-08-2400_24_46.361790\\model-00005-5.14091-0.84012-9.60264-0.15000.h5\n",
      "\n",
      "Epoch 5: ReduceLROnPlateau reducing learning rate to 2.499999936844688e-05.\n",
      "67/67 [==============================] - 152s 2s/step - loss: 5.1409 - categorical_accuracy: 0.8401 - val_loss: 9.6026 - val_categorical_accuracy: 0.1500 - lr: 5.0000e-05\n",
      "Epoch 6/20\n",
      "67/67 [==============================] - ETA: 0s - loss: 5.0425 - categorical_accuracy: 0.8597\n",
      "Epoch 6: saving model to model_initCNN3DL2_2022-08-2400_24_46.361790\\model-00006-5.04254-0.85973-7.84180-0.21000.h5\n",
      "67/67 [==============================] - 160s 2s/step - loss: 5.0425 - categorical_accuracy: 0.8597 - val_loss: 7.8418 - val_categorical_accuracy: 0.2100 - lr: 2.5000e-05\n",
      "Epoch 7/20\n",
      "67/67 [==============================] - ETA: 0s - loss: 5.0660 - categorical_accuracy: 0.8431\n",
      "Epoch 7: saving model to model_initCNN3DL2_2022-08-2400_24_46.361790\\model-00007-5.06601-0.84314-6.80443-0.36000.h5\n",
      "67/67 [==============================] - 174s 3s/step - loss: 5.0660 - categorical_accuracy: 0.8431 - val_loss: 6.8044 - val_categorical_accuracy: 0.3600 - lr: 2.5000e-05\n",
      "Epoch 8/20\n",
      "67/67 [==============================] - ETA: 0s - loss: 4.9620 - categorical_accuracy: 0.8658\n",
      "Epoch 8: saving model to model_initCNN3DL2_2022-08-2400_24_46.361790\\model-00008-4.96201-0.86576-6.20372-0.43000.h5\n",
      "67/67 [==============================] - 159s 2s/step - loss: 4.9620 - categorical_accuracy: 0.8658 - val_loss: 6.2037 - val_categorical_accuracy: 0.4300 - lr: 2.5000e-05\n",
      "Epoch 9/20\n",
      "67/67 [==============================] - ETA: 0s - loss: 4.9249 - categorical_accuracy: 0.8944\n",
      "Epoch 9: saving model to model_initCNN3DL2_2022-08-2400_24_46.361790\\model-00009-4.92489-0.89442-5.77355-0.57000.h5\n",
      "67/67 [==============================] - 159s 2s/step - loss: 4.9249 - categorical_accuracy: 0.8944 - val_loss: 5.7735 - val_categorical_accuracy: 0.5700 - lr: 2.5000e-05\n",
      "Epoch 10/20\n",
      "67/67 [==============================] - ETA: 0s - loss: 4.9399 - categorical_accuracy: 0.8748\n",
      "Epoch 10: saving model to model_initCNN3DL2_2022-08-2400_24_46.361790\\model-00010-4.93987-0.87481-5.49795-0.66000.h5\n",
      "67/67 [==============================] - 163s 2s/step - loss: 4.9399 - categorical_accuracy: 0.8748 - val_loss: 5.4980 - val_categorical_accuracy: 0.6600 - lr: 2.5000e-05\n",
      "Epoch 11/20\n",
      "67/67 [==============================] - ETA: 0s - loss: 4.8843 - categorical_accuracy: 0.8839\n",
      "Epoch 11: saving model to model_initCNN3DL2_2022-08-2400_24_46.361790\\model-00011-4.88433-0.88386-5.22426-0.75000.h5\n",
      "67/67 [==============================] - 152s 2s/step - loss: 4.8843 - categorical_accuracy: 0.8839 - val_loss: 5.2243 - val_categorical_accuracy: 0.7500 - lr: 2.5000e-05\n",
      "Epoch 12/20\n",
      "67/67 [==============================] - ETA: 0s - loss: 4.7845 - categorical_accuracy: 0.9050\n",
      "Epoch 12: saving model to model_initCNN3DL2_2022-08-2400_24_46.361790\\model-00012-4.78447-0.90498-5.13136-0.77000.h5\n",
      "67/67 [==============================] - 149s 2s/step - loss: 4.7845 - categorical_accuracy: 0.9050 - val_loss: 5.1314 - val_categorical_accuracy: 0.7700 - lr: 2.5000e-05\n",
      "Epoch 13/20\n",
      "67/67 [==============================] - ETA: 0s - loss: 4.7544 - categorical_accuracy: 0.9201\n",
      "Epoch 13: saving model to model_initCNN3DL2_2022-08-2400_24_46.361790\\model-00013-4.75436-0.92006-5.05830-0.78000.h5\n",
      "67/67 [==============================] - 146s 2s/step - loss: 4.7544 - categorical_accuracy: 0.9201 - val_loss: 5.0583 - val_categorical_accuracy: 0.7800 - lr: 2.5000e-05\n",
      "Epoch 14/20\n",
      "67/67 [==============================] - ETA: 0s - loss: 4.7455 - categorical_accuracy: 0.9065\n",
      "Epoch 14: saving model to model_initCNN3DL2_2022-08-2400_24_46.361790\\model-00014-4.74546-0.90649-4.96405-0.82000.h5\n",
      "67/67 [==============================] - 143s 2s/step - loss: 4.7455 - categorical_accuracy: 0.9065 - val_loss: 4.9641 - val_categorical_accuracy: 0.8200 - lr: 2.5000e-05\n",
      "Epoch 15/20\n",
      "67/67 [==============================] - ETA: 0s - loss: 4.6944 - categorical_accuracy: 0.9216\n",
      "Epoch 15: saving model to model_initCNN3DL2_2022-08-2400_24_46.361790\\model-00015-4.69440-0.92157-4.96911-0.78000.h5\n",
      "67/67 [==============================] - 146s 2s/step - loss: 4.6944 - categorical_accuracy: 0.9216 - val_loss: 4.9691 - val_categorical_accuracy: 0.7800 - lr: 2.5000e-05\n",
      "Epoch 16/20\n",
      "67/67 [==============================] - ETA: 0s - loss: 4.6644 - categorical_accuracy: 0.9306\n",
      "Epoch 16: saving model to model_initCNN3DL2_2022-08-2400_24_46.361790\\model-00016-4.66437-0.93062-5.09793-0.72000.h5\n",
      "\n",
      "Epoch 16: ReduceLROnPlateau reducing learning rate to 1.249999968422344e-05.\n",
      "67/67 [==============================] - 146s 2s/step - loss: 4.6644 - categorical_accuracy: 0.9306 - val_loss: 5.0979 - val_categorical_accuracy: 0.7200 - lr: 2.5000e-05\n",
      "Epoch 17/20\n",
      "67/67 [==============================] - ETA: 0s - loss: 4.6235 - categorical_accuracy: 0.9442\n",
      "Epoch 17: saving model to model_initCNN3DL2_2022-08-2400_24_46.361790\\model-00017-4.62350-0.94419-4.81082-0.84000.h5\n",
      "67/67 [==============================] - 145s 2s/step - loss: 4.6235 - categorical_accuracy: 0.9442 - val_loss: 4.8108 - val_categorical_accuracy: 0.8400 - lr: 1.2500e-05\n",
      "Epoch 18/20\n",
      "67/67 [==============================] - ETA: 0s - loss: 4.6153 - categorical_accuracy: 0.9336\n",
      "Epoch 18: saving model to model_initCNN3DL2_2022-08-2400_24_46.361790\\model-00018-4.61529-0.93363-4.92529-0.80000.h5\n",
      "67/67 [==============================] - 144s 2s/step - loss: 4.6153 - categorical_accuracy: 0.9336 - val_loss: 4.9253 - val_categorical_accuracy: 0.8000 - lr: 1.2500e-05\n",
      "Epoch 19/20\n",
      "67/67 [==============================] - ETA: 0s - loss: 4.5979 - categorical_accuracy: 0.9351\n",
      "Epoch 19: saving model to model_initCNN3DL2_2022-08-2400_24_46.361790\\model-00019-4.59791-0.93514-4.88813-0.81000.h5\n",
      "\n",
      "Epoch 19: ReduceLROnPlateau reducing learning rate to 6.24999984211172e-06.\n",
      "67/67 [==============================] - 143s 2s/step - loss: 4.5979 - categorical_accuracy: 0.9351 - val_loss: 4.8881 - val_categorical_accuracy: 0.8100 - lr: 1.2500e-05\n",
      "Epoch 20/20\n",
      "67/67 [==============================] - ETA: 0s - loss: 4.5339 - categorical_accuracy: 0.9578\n",
      "Epoch 20: saving model to model_initCNN3DL2_2022-08-2400_24_46.361790\\model-00020-4.53387-0.95777-4.89208-0.80000.h5\n",
      "67/67 [==============================] - 145s 2s/step - loss: 4.5339 - categorical_accuracy: 0.9578 - val_loss: 4.8921 - val_categorical_accuracy: 0.8000 - lr: 6.2500e-06\n"
     ]
    }
   ],
   "source": [
    "history = model.fit_generator(train_generator, steps_per_epoch=steps_per_epoch, epochs=num_epochs, verbose=1, \n",
    "                    callbacks=callbacks_list, validation_data=val_generator, \n",
    "                    validation_steps=validation_steps, class_weight=None, workers=1, initial_epoch=0)"
   ]
  },
  {
   "cell_type": "code",
   "execution_count": 34,
   "metadata": {
    "scrolled": true
   },
   "outputs": [
    {
     "data": {
      "text/plain": [
       "<matplotlib.legend.Legend at 0x2227c368430>"
      ]
     },
     "execution_count": 34,
     "metadata": {},
     "output_type": "execute_result"
    },
    {
     "data": {
      "image/png": "[encoded data removed]",
      "text/plain": [
       "<Figure size 1440x432 with 2 Axes>"
      ]
     },
     "metadata": {
      "needs_background": "light"
     },
     "output_type": "display_data"
    }
   ],
   "source": [
    "plt.figure(figsize=(20,6))\n",
    "ax1 = plt.subplot(121)\n",
    "ax1 = plt.plot(history.history['loss'])\n",
    "ax1 = plt.plot(history.history['val_loss'])\n",
    "plt.title('model loss')\n",
    "plt.ylabel('loss')\n",
    "plt.xlabel('epoch')\n",
    "plt.legend(['train', 'validation'], loc='lower left')\n",
    "ax2 = plt.subplot(122)\n",
    "ax2 = plt.plot(history.history['categorical_accuracy'])\n",
    "ax2 = plt.plot(history.history['val_categorical_accuracy'])\n",
    "plt.title('model accuracy')\n",
    "plt.ylabel('categorical_accuracy')\n",
    "plt.xlabel('epoch')\n",
    "plt.legend(['train', 'validation'], loc='lower left')"
   ]
  },
  {
   "cell_type": "markdown",
   "metadata": {},
   "source": [
    "The model doesn't seem to be overfitting, it has good train accuracy and validation accuracy compared to CNN3D Model. But the training loss seems to have been increased rapidly to a greater extent of 4%.\n",
    "- Training Accuracy: 90.65%\n",
    "- Validation Accuracy: 82.00%"
   ]
  },
  {
   "cell_type": "markdown",
   "metadata": {},
   "source": [
    "### CNN2D + LSTM (45 Epochs and SGD)"
   ]
  },
  {
   "cell_type": "code",
   "execution_count": 57,
   "metadata": {},
   "outputs": [],
   "source": [
    "from tensorflow.keras.models import Sequential, Model\n",
    "from tensorflow.keras.layers import Dense, GRU, Flatten, TimeDistributed, Flatten, BatchNormalization, Activation, Dropout, LSTM\n",
    "from keras.layers.convolutional import Conv3D, MaxPooling3D, MaxPooling2D, Conv2D\n",
    "from tensorflow.keras.callbacks import ModelCheckpoint, ReduceLROnPlateau\n",
    "from tensorflow.keras import optimizers\n",
    "\n",
    "model = Sequential()\n",
    "\n",
    "model.add(TimeDistributed(Conv2D(16,(3,3),padding = 'same',activation='relu'),input_shape = input_shape))\n",
    "model.add(TimeDistributed(BatchNormalization()))\n",
    "model.add(TimeDistributed(MaxPooling2D(2,2)))\n",
    "\n",
    "model.add(TimeDistributed(Conv2D(32,(3,3),padding = 'same',activation='relu'),input_shape = input_shape))\n",
    "model.add(TimeDistributed(BatchNormalization()))\n",
    "model.add(TimeDistributed(MaxPooling2D(2,2)))\n",
    "\n",
    "model.add(TimeDistributed(Conv2D(64,(3,3),padding = 'same',activation='relu')))\n",
    "model.add(TimeDistributed(BatchNormalization()))\n",
    "model.add(TimeDistributed(MaxPooling2D(2,2)))\n",
    "\n",
    "model.add(TimeDistributed(Conv2D(128,(3,3),padding = 'same',activation='relu')))\n",
    "model.add(TimeDistributed(BatchNormalization()))\n",
    "model.add(TimeDistributed(MaxPooling2D(2,2)))\n",
    "\n",
    "model.add(TimeDistributed(Conv2D(256,(3,3),padding = 'same',activation='relu')))\n",
    "model.add(TimeDistributed(BatchNormalization()))\n",
    "model.add(TimeDistributed(MaxPooling2D(2,2)))\n",
    "\n",
    "model.add(TimeDistributed(Flatten()))\n",
    "\n",
    "model.add(LSTM(256,return_sequences = False))\n",
    "model.add(Dropout(0.25))\n",
    "model.add(Dense(256,activation='relu'))\n",
    "model.add(Dropout(0.25))\n",
    "model.add(Dense(5,activation='softmax'))"
   ]
  },
  {
   "cell_type": "code",
   "execution_count": 58,
   "metadata": {},
   "outputs": [
    {
     "name": "stdout",
     "output_type": "stream",
     "text": [
      "Model: \"sequential_7\"\n",
      "_________________________________________________________________\n",
      " Layer (type)                Output Shape              Param #   \n",
      "=================================================================\n",
      " time_distributed_80 (TimeDi  (None, 30, 120, 120, 16)  448      \n",
      " stributed)                                                      \n",
      "                                                                 \n",
      " time_distributed_81 (TimeDi  (None, 30, 120, 120, 16)  64       \n",
      " stributed)                                                      \n",
      "                                                                 \n",
      " time_distributed_82 (TimeDi  (None, 30, 60, 60, 16)   0         \n",
      " stributed)                                                      \n",
      "                                                                 \n",
      " time_distributed_83 (TimeDi  (None, 30, 60, 60, 32)   4640      \n",
      " stributed)                                                      \n",
      "                                                                 \n",
      " time_distributed_84 (TimeDi  (None, 30, 60, 60, 32)   128       \n",
      " stributed)                                                      \n",
      "                                                                 \n",
      " time_distributed_85 (TimeDi  (None, 30, 30, 30, 32)   0         \n",
      " stributed)                                                      \n",
      "                                                                 \n",
      " time_distributed_86 (TimeDi  (None, 30, 30, 30, 64)   18496     \n",
      " stributed)                                                      \n",
      "                                                                 \n",
      " time_distributed_87 (TimeDi  (None, 30, 30, 30, 64)   256       \n",
      " stributed)                                                      \n",
      "                                                                 \n",
      " time_distributed_88 (TimeDi  (None, 30, 15, 15, 64)   0         \n",
      " stributed)                                                      \n",
      "                                                                 \n",
      " time_distributed_89 (TimeDi  (None, 30, 15, 15, 128)  73856     \n",
      " stributed)                                                      \n",
      "                                                                 \n",
      " time_distributed_90 (TimeDi  (None, 30, 15, 15, 128)  512       \n",
      " stributed)                                                      \n",
      "                                                                 \n",
      " time_distributed_91 (TimeDi  (None, 30, 7, 7, 128)    0         \n",
      " stributed)                                                      \n",
      "                                                                 \n",
      " time_distributed_92 (TimeDi  (None, 30, 7, 7, 256)    295168    \n",
      " stributed)                                                      \n",
      "                                                                 \n",
      " time_distributed_93 (TimeDi  (None, 30, 7, 7, 256)    1024      \n",
      " stributed)                                                      \n",
      "                                                                 \n",
      " time_distributed_94 (TimeDi  (None, 30, 3, 3, 256)    0         \n",
      " stributed)                                                      \n",
      "                                                                 \n",
      " time_distributed_95 (TimeDi  (None, 30, 2304)         0         \n",
      " stributed)                                                      \n",
      "                                                                 \n",
      " lstm_2 (LSTM)               (None, 256)               2622464   \n",
      "                                                                 \n",
      " dropout_14 (Dropout)        (None, 256)               0         \n",
      "                                                                 \n",
      " dense_16 (Dense)            (None, 256)               65792     \n",
      "                                                                 \n",
      " dropout_15 (Dropout)        (None, 256)               0         \n",
      "                                                                 \n",
      " dense_17 (Dense)            (None, 5)                 1285      \n",
      "                                                                 \n",
      "=================================================================\n",
      "Total params: 3,084,133\n",
      "Trainable params: 3,083,141\n",
      "Non-trainable params: 992\n",
      "_________________________________________________________________\n",
      "None\n"
     ]
    }
   ],
   "source": [
    "optimiser = optimizers.SGD()\n",
    "epochs = 45\n",
    "model.compile(optimizer=optimiser, loss='categorical_crossentropy', metrics=['categorical_accuracy'])\n",
    "print (model.summary())"
   ]
  },
  {
   "cell_type": "code",
   "execution_count": 59,
   "metadata": {},
   "outputs": [],
   "source": [
    "train_generator = generator(train_path, train_doc, batch_size)\n",
    "val_generator = generator(val_path, val_doc, batch_size)"
   ]
  },
  {
   "cell_type": "code",
   "execution_count": 61,
   "metadata": {},
   "outputs": [
    {
     "name": "stdout",
     "output_type": "stream",
     "text": [
      "WARNING:tensorflow:`period` argument is deprecated. Please use `save_freq` to specify the frequency in number of batches seen.\n"
     ]
    }
   ],
   "source": [
    "model_name = 'model_initCNN2DLSTM_2' + '_1' + str(curr_dt_time).replace(' ','').replace(':','_') + '/'\n",
    "    \n",
    "if not os.path.exists(model_name):\n",
    "    os.mkdir(model_name)\n",
    "        \n",
    "filepath = model_name + 'model-{epoch:05d}-{loss:.5f}-{categorical_accuracy:.5f}-{val_loss:.5f}-{val_categorical_accuracy:.5f}.h5'\n",
    "\n",
    "checkpoint = ModelCheckpoint(filepath, monitor='val_loss', verbose=1, save_best_only=False, save_weights_only=False, mode='auto', period=1)\n",
    "\n",
    "LR = ReduceLROnPlateau(monitor='val_loss',factor=0.5,patience=2,cooldown=1,verbose=1)\n",
    "callbacks_list = [checkpoint, LR]"
   ]
  },
  {
   "cell_type": "code",
   "execution_count": 62,
   "metadata": {},
   "outputs": [],
   "source": [
    "if (num_train_sequences%batch_size) == 0:\n",
    "    steps_per_epoch = int(num_train_sequences/batch_size)\n",
    "else:\n",
    "    steps_per_epoch = (num_train_sequences//batch_size) + 1\n",
    "\n",
    "if (num_val_sequences%batch_size) == 0:\n",
    "    validation_steps = int(num_val_sequences/batch_size)\n",
    "else:\n",
    "    validation_steps = (num_val_sequences//batch_size) + 1"
   ]
  },
  {
   "cell_type": "code",
   "execution_count": 63,
   "metadata": {},
   "outputs": [
    {
     "name": "stderr",
     "output_type": "stream",
     "text": [
      "C:\\Users\\abhin\\AppData\\Local\\Temp\\ipykernel_2756\\2003434324.py:1: UserWarning: `Model.fit_generator` is deprecated and will be removed in a future version. Please use `Model.fit`, which supports generators.\n",
      "  history = model.fit_generator(train_generator, steps_per_epoch=steps_per_epoch, epochs=epochs, verbose=1,\n"
     ]
    },
    {
     "name": "stdout",
     "output_type": "stream",
     "text": [
      "Source path =  D:/Master AI and ML/New Project/Project_data/train ; batch size = 10\n",
      "Epoch 1/45\n",
      "67/67 [==============================] - ETA: 0s - loss: 1.3818 - categorical_accuracy: 0.4178Source path =  D:/Master AI and ML/New Project/Project_data/val ; batch size = 10\n",
      "\n",
      "Epoch 1: saving model to model_initCNN2DLSTM_2_12022-08-2400_24_46.361790\\model-00001-1.38177-0.41780-1.68832-0.21000.h5\n",
      "67/67 [==============================] - 301s 5s/step - loss: 1.3818 - categorical_accuracy: 0.4178 - val_loss: 1.6883 - val_categorical_accuracy: 0.2100 - lr: 0.0100\n",
      "Epoch 2/45\n",
      "67/67 [==============================] - ETA: 0s - loss: 1.0790 - categorical_accuracy: 0.5867\n",
      "Epoch 2: saving model to model_initCNN2DLSTM_2_12022-08-2400_24_46.361790\\model-00002-1.07903-0.58673-2.10946-0.20000.h5\n",
      "67/67 [==============================] - 146s 2s/step - loss: 1.0790 - categorical_accuracy: 0.5867 - val_loss: 2.1095 - val_categorical_accuracy: 0.2000 - lr: 0.0100\n",
      "Epoch 3/45\n",
      "67/67 [==============================] - ETA: 0s - loss: 0.8483 - categorical_accuracy: 0.6938\n",
      "Epoch 3: saving model to model_initCNN2DLSTM_2_12022-08-2400_24_46.361790\\model-00003-0.84834-0.69382-2.39037-0.15000.h5\n",
      "\n",
      "Epoch 3: ReduceLROnPlateau reducing learning rate to 0.004999999888241291.\n",
      "67/67 [==============================] - 146s 2s/step - loss: 0.8483 - categorical_accuracy: 0.6938 - val_loss: 2.3904 - val_categorical_accuracy: 0.1500 - lr: 0.0100\n",
      "Epoch 4/45\n",
      "67/67 [==============================] - ETA: 0s - loss: 0.7397 - categorical_accuracy: 0.7330\n",
      "Epoch 4: saving model to model_initCNN2DLSTM_2_12022-08-2400_24_46.361790\\model-00004-0.73966-0.73303-2.00844-0.36000.h5\n",
      "67/67 [==============================] - 147s 2s/step - loss: 0.7397 - categorical_accuracy: 0.7330 - val_loss: 2.0084 - val_categorical_accuracy: 0.3600 - lr: 0.0050\n",
      "Epoch 5/45\n",
      "67/67 [==============================] - ETA: 0s - loss: 0.5787 - categorical_accuracy: 0.7903\n",
      "Epoch 5: saving model to model_initCNN2DLSTM_2_12022-08-2400_24_46.361790\\model-00005-0.57865-0.79035-2.10084-0.28000.h5\n",
      "\n",
      "Epoch 5: ReduceLROnPlateau reducing learning rate to 0.0024999999441206455.\n",
      "67/67 [==============================] - 146s 2s/step - loss: 0.5787 - categorical_accuracy: 0.7903 - val_loss: 2.1008 - val_categorical_accuracy: 0.2800 - lr: 0.0050\n",
      "Epoch 6/45\n",
      "67/67 [==============================] - ETA: 0s - loss: 0.4675 - categorical_accuracy: 0.8658\n",
      "Epoch 6: saving model to model_initCNN2DLSTM_2_12022-08-2400_24_46.361790\\model-00006-0.46749-0.86576-1.77034-0.33000.h5\n",
      "67/67 [==============================] - 146s 2s/step - loss: 0.4675 - categorical_accuracy: 0.8658 - val_loss: 1.7703 - val_categorical_accuracy: 0.3300 - lr: 0.0025\n",
      "Epoch 7/45\n",
      "67/67 [==============================] - ETA: 0s - loss: 0.4101 - categorical_accuracy: 0.8733\n",
      "Epoch 7: saving model to model_initCNN2DLSTM_2_12022-08-2400_24_46.361790\\model-00007-0.41011-0.87330-1.09538-0.49000.h5\n",
      "67/67 [==============================] - 146s 2s/step - loss: 0.4101 - categorical_accuracy: 0.8733 - val_loss: 1.0954 - val_categorical_accuracy: 0.4900 - lr: 0.0025\n",
      "Epoch 8/45\n",
      "67/67 [==============================] - ETA: 0s - loss: 0.3619 - categorical_accuracy: 0.8929\n",
      "Epoch 8: saving model to model_initCNN2DLSTM_2_12022-08-2400_24_46.361790\\model-00008-0.36194-0.89291-0.95545-0.64000.h5\n",
      "67/67 [==============================] - 147s 2s/step - loss: 0.3619 - categorical_accuracy: 0.8929 - val_loss: 0.9554 - val_categorical_accuracy: 0.6400 - lr: 0.0025\n",
      "Epoch 9/45\n",
      "67/67 [==============================] - ETA: 0s - loss: 0.3141 - categorical_accuracy: 0.9125\n",
      "Epoch 9: saving model to model_initCNN2DLSTM_2_12022-08-2400_24_46.361790\\model-00009-0.31407-0.91252-0.72846-0.73000.h5\n",
      "67/67 [==============================] - 147s 2s/step - loss: 0.3141 - categorical_accuracy: 0.9125 - val_loss: 0.7285 - val_categorical_accuracy: 0.7300 - lr: 0.0025\n",
      "Epoch 10/45\n",
      "67/67 [==============================] - ETA: 0s - loss: 0.2762 - categorical_accuracy: 0.9216\n",
      "Epoch 10: saving model to model_initCNN2DLSTM_2_12022-08-2400_24_46.361790\\model-00010-0.27624-0.92157-0.70352-0.79000.h5\n",
      "67/67 [==============================] - 145s 2s/step - loss: 0.2762 - categorical_accuracy: 0.9216 - val_loss: 0.7035 - val_categorical_accuracy: 0.7900 - lr: 0.0025\n",
      "Epoch 11/45\n",
      "67/67 [==============================] - ETA: 0s - loss: 0.2752 - categorical_accuracy: 0.9170\n",
      "Epoch 11: saving model to model_initCNN2DLSTM_2_12022-08-2400_24_46.361790\\model-00011-0.27525-0.91704-0.58407-0.81000.h5\n",
      "67/67 [==============================] - 146s 2s/step - loss: 0.2752 - categorical_accuracy: 0.9170 - val_loss: 0.5841 - val_categorical_accuracy: 0.8100 - lr: 0.0025\n",
      "Epoch 12/45\n",
      "67/67 [==============================] - ETA: 0s - loss: 0.2411 - categorical_accuracy: 0.9367\n",
      "Epoch 12: saving model to model_initCNN2DLSTM_2_12022-08-2400_24_46.361790\\model-00012-0.24111-0.93665-0.57590-0.83000.h5\n",
      "67/67 [==============================] - 146s 2s/step - loss: 0.2411 - categorical_accuracy: 0.9367 - val_loss: 0.5759 - val_categorical_accuracy: 0.8300 - lr: 0.0025\n",
      "Epoch 13/45\n",
      "67/67 [==============================] - ETA: 0s - loss: 0.2283 - categorical_accuracy: 0.9457\n",
      "Epoch 13: saving model to model_initCNN2DLSTM_2_12022-08-2400_24_46.361790\\model-00013-0.22828-0.94570-0.70311-0.72000.h5\n",
      "67/67 [==============================] - 146s 2s/step - loss: 0.2283 - categorical_accuracy: 0.9457 - val_loss: 0.7031 - val_categorical_accuracy: 0.7200 - lr: 0.0025\n",
      "Epoch 14/45\n",
      "67/67 [==============================] - ETA: 0s - loss: 0.2025 - categorical_accuracy: 0.9517\n",
      "Epoch 14: saving model to model_initCNN2DLSTM_2_12022-08-2400_24_46.361790\\model-00014-0.20254-0.95173-0.55582-0.80000.h5\n",
      "67/67 [==============================] - 148s 2s/step - loss: 0.2025 - categorical_accuracy: 0.9517 - val_loss: 0.5558 - val_categorical_accuracy: 0.8000 - lr: 0.0025\n",
      "Epoch 15/45\n",
      "67/67 [==============================] - ETA: 0s - loss: 0.1672 - categorical_accuracy: 0.9653\n",
      "Epoch 15: saving model to model_initCNN2DLSTM_2_12022-08-2400_24_46.361790\\model-00015-0.16724-0.96531-0.53132-0.78000.h5\n",
      "67/67 [==============================] - 147s 2s/step - loss: 0.1672 - categorical_accuracy: 0.9653 - val_loss: 0.5313 - val_categorical_accuracy: 0.7800 - lr: 0.0025\n",
      "Epoch 16/45\n",
      "67/67 [==============================] - ETA: 0s - loss: 0.1299 - categorical_accuracy: 0.9744\n",
      "Epoch 16: saving model to model_initCNN2DLSTM_2_12022-08-2400_24_46.361790\\model-00016-0.12991-0.97436-0.64243-0.78000.h5\n",
      "67/67 [==============================] - 146s 2s/step - loss: 0.1299 - categorical_accuracy: 0.9744 - val_loss: 0.6424 - val_categorical_accuracy: 0.7800 - lr: 0.0025\n",
      "Epoch 17/45\n",
      "67/67 [==============================] - ETA: 0s - loss: 0.1493 - categorical_accuracy: 0.9698\n",
      "Epoch 17: saving model to model_initCNN2DLSTM_2_12022-08-2400_24_46.361790\\model-00017-0.14927-0.96983-0.51896-0.84000.h5\n",
      "67/67 [==============================] - 146s 2s/step - loss: 0.1493 - categorical_accuracy: 0.9698 - val_loss: 0.5190 - val_categorical_accuracy: 0.8400 - lr: 0.0025\n",
      "Epoch 18/45\n",
      "67/67 [==============================] - ETA: 0s - loss: 0.1153 - categorical_accuracy: 0.9789\n",
      "Epoch 18: saving model to model_initCNN2DLSTM_2_12022-08-2400_24_46.361790\\model-00018-0.11528-0.97888-0.74349-0.74000.h5\n",
      "67/67 [==============================] - 146s 2s/step - loss: 0.1153 - categorical_accuracy: 0.9789 - val_loss: 0.7435 - val_categorical_accuracy: 0.7400 - lr: 0.0025\n",
      "Epoch 19/45\n",
      "67/67 [==============================] - ETA: 0s - loss: 0.1018 - categorical_accuracy: 0.9819\n",
      "Epoch 19: saving model to model_initCNN2DLSTM_2_12022-08-2400_24_46.361790\\model-00019-0.10175-0.98190-0.60891-0.81000.h5\n",
      "\n",
      "Epoch 19: ReduceLROnPlateau reducing learning rate to 0.0012499999720603228.\n",
      "67/67 [==============================] - 147s 2s/step - loss: 0.1018 - categorical_accuracy: 0.9819 - val_loss: 0.6089 - val_categorical_accuracy: 0.8100 - lr: 0.0025\n",
      "Epoch 20/45\n",
      "67/67 [==============================] - ETA: 0s - loss: 0.1003 - categorical_accuracy: 0.9849\n",
      "Epoch 20: saving model to model_initCNN2DLSTM_2_12022-08-2400_24_46.361790\\model-00020-0.10034-0.98492-0.50281-0.83000.h5\n",
      "67/67 [==============================] - 146s 2s/step - loss: 0.1003 - categorical_accuracy: 0.9849 - val_loss: 0.5028 - val_categorical_accuracy: 0.8300 - lr: 0.0012\n"
     ]
    },
    {
     "name": "stdout",
     "output_type": "stream",
     "text": [
      "Epoch 21/45\n",
      "67/67 [==============================] - ETA: 0s - loss: 0.1021 - categorical_accuracy: 0.9819\n",
      "Epoch 21: saving model to model_initCNN2DLSTM_2_12022-08-2400_24_46.361790\\model-00021-0.10205-0.98190-0.49525-0.84000.h5\n",
      "67/67 [==============================] - 149s 2s/step - loss: 0.1021 - categorical_accuracy: 0.9819 - val_loss: 0.4952 - val_categorical_accuracy: 0.8400 - lr: 0.0012\n",
      "Epoch 22/45\n",
      "67/67 [==============================] - ETA: 0s - loss: 0.0990 - categorical_accuracy: 0.9849\n",
      "Epoch 22: saving model to model_initCNN2DLSTM_2_12022-08-2400_24_46.361790\\model-00022-0.09903-0.98492-0.93082-0.73000.h5\n",
      "67/67 [==============================] - 175s 3s/step - loss: 0.0990 - categorical_accuracy: 0.9849 - val_loss: 0.9308 - val_categorical_accuracy: 0.7300 - lr: 0.0012\n",
      "Epoch 23/45\n",
      "67/67 [==============================] - ETA: 0s - loss: 0.0861 - categorical_accuracy: 0.9894\n",
      "Epoch 23: saving model to model_initCNN2DLSTM_2_12022-08-2400_24_46.361790\\model-00023-0.08607-0.98944-0.55948-0.81000.h5\n",
      "\n",
      "Epoch 23: ReduceLROnPlateau reducing learning rate to 0.0006249999860301614.\n",
      "67/67 [==============================] - 230s 3s/step - loss: 0.0861 - categorical_accuracy: 0.9894 - val_loss: 0.5595 - val_categorical_accuracy: 0.8100 - lr: 0.0012\n",
      "Epoch 24/45\n",
      "67/67 [==============================] - ETA: 0s - loss: 0.0716 - categorical_accuracy: 0.9894\n",
      "Epoch 24: saving model to model_initCNN2DLSTM_2_12022-08-2400_24_46.361790\\model-00024-0.07165-0.98944-0.44777-0.87000.h5\n",
      "67/67 [==============================] - 188s 3s/step - loss: 0.0716 - categorical_accuracy: 0.9894 - val_loss: 0.4478 - val_categorical_accuracy: 0.8700 - lr: 6.2500e-04\n",
      "Epoch 25/45\n",
      "67/67 [==============================] - ETA: 0s - loss: 0.0827 - categorical_accuracy: 0.9925\n",
      "Epoch 25: saving model to model_initCNN2DLSTM_2_12022-08-2400_24_46.361790\\model-00025-0.08269-0.99246-0.64940-0.82000.h5\n",
      "67/67 [==============================] - 158s 2s/step - loss: 0.0827 - categorical_accuracy: 0.9925 - val_loss: 0.6494 - val_categorical_accuracy: 0.8200 - lr: 6.2500e-04\n",
      "Epoch 26/45\n",
      "67/67 [==============================] - ETA: 0s - loss: 0.0830 - categorical_accuracy: 0.9925\n",
      "Epoch 26: saving model to model_initCNN2DLSTM_2_12022-08-2400_24_46.361790\\model-00026-0.08296-0.99246-0.32641-0.87000.h5\n",
      "67/67 [==============================] - 164s 2s/step - loss: 0.0830 - categorical_accuracy: 0.9925 - val_loss: 0.3264 - val_categorical_accuracy: 0.8700 - lr: 6.2500e-04\n",
      "Epoch 27/45\n",
      "67/67 [==============================] - ETA: 0s - loss: 0.0645 - categorical_accuracy: 0.9910\n",
      "Epoch 27: saving model to model_initCNN2DLSTM_2_12022-08-2400_24_46.361790\\model-00027-0.06448-0.99095-0.58280-0.83000.h5\n",
      "67/67 [==============================] - 174s 3s/step - loss: 0.0645 - categorical_accuracy: 0.9910 - val_loss: 0.5828 - val_categorical_accuracy: 0.8300 - lr: 6.2500e-04\n",
      "Epoch 28/45\n",
      "67/67 [==============================] - ETA: 0s - loss: 0.0621 - categorical_accuracy: 0.9985\n",
      "Epoch 28: saving model to model_initCNN2DLSTM_2_12022-08-2400_24_46.361790\\model-00028-0.06210-0.99849-0.53126-0.83000.h5\n",
      "\n",
      "Epoch 28: ReduceLROnPlateau reducing learning rate to 0.0003124999930150807.\n",
      "67/67 [==============================] - 167s 3s/step - loss: 0.0621 - categorical_accuracy: 0.9985 - val_loss: 0.5313 - val_categorical_accuracy: 0.8300 - lr: 6.2500e-04\n",
      "Epoch 29/45\n",
      "67/67 [==============================] - ETA: 0s - loss: 0.0712 - categorical_accuracy: 0.9925\n",
      "Epoch 29: saving model to model_initCNN2DLSTM_2_12022-08-2400_24_46.361790\\model-00029-0.07116-0.99246-0.53142-0.83000.h5\n",
      "67/67 [==============================] - 199s 3s/step - loss: 0.0712 - categorical_accuracy: 0.9925 - val_loss: 0.5314 - val_categorical_accuracy: 0.8300 - lr: 3.1250e-04\n",
      "Epoch 30/45\n",
      "67/67 [==============================] - ETA: 0s - loss: 0.0700 - categorical_accuracy: 0.9894\n",
      "Epoch 30: saving model to model_initCNN2DLSTM_2_12022-08-2400_24_46.361790\\model-00030-0.06998-0.98944-0.49435-0.84000.h5\n",
      "\n",
      "Epoch 30: ReduceLROnPlateau reducing learning rate to 0.00015624999650754035.\n",
      "67/67 [==============================] - 226s 3s/step - loss: 0.0700 - categorical_accuracy: 0.9894 - val_loss: 0.4944 - val_categorical_accuracy: 0.8400 - lr: 3.1250e-04\n",
      "Epoch 31/45\n",
      "67/67 [==============================] - ETA: 0s - loss: 0.0629 - categorical_accuracy: 0.9970\n",
      "Epoch 31: saving model to model_initCNN2DLSTM_2_12022-08-2400_24_46.361790\\model-00031-0.06293-0.99698-0.49526-0.85000.h5\n",
      "67/67 [==============================] - 171s 3s/step - loss: 0.0629 - categorical_accuracy: 0.9970 - val_loss: 0.4953 - val_categorical_accuracy: 0.8500 - lr: 1.5625e-04\n",
      "Epoch 32/45\n",
      "67/67 [==============================] - ETA: 0s - loss: 0.0723 - categorical_accuracy: 0.9925\n",
      "Epoch 32: saving model to model_initCNN2DLSTM_2_12022-08-2400_24_46.361790\\model-00032-0.07231-0.99246-0.50854-0.83000.h5\n",
      "\n",
      "Epoch 32: ReduceLROnPlateau reducing learning rate to 7.812499825377017e-05.\n",
      "67/67 [==============================] - 186s 3s/step - loss: 0.0723 - categorical_accuracy: 0.9925 - val_loss: 0.5085 - val_categorical_accuracy: 0.8300 - lr: 1.5625e-04\n",
      "Epoch 33/45\n",
      "67/67 [==============================] - ETA: 0s - loss: 0.0636 - categorical_accuracy: 0.9910\n",
      "Epoch 33: saving model to model_initCNN2DLSTM_2_12022-08-2400_24_46.361790\\model-00033-0.06359-0.99095-0.53895-0.83000.h5\n",
      "67/67 [==============================] - 187s 3s/step - loss: 0.0636 - categorical_accuracy: 0.9910 - val_loss: 0.5389 - val_categorical_accuracy: 0.8300 - lr: 7.8125e-05\n",
      "Epoch 34/45\n",
      "67/67 [==============================] - ETA: 0s - loss: 0.0729 - categorical_accuracy: 0.9864\n",
      "Epoch 34: saving model to model_initCNN2DLSTM_2_12022-08-2400_24_46.361790\\model-00034-0.07294-0.98643-0.54831-0.83000.h5\n",
      "\n",
      "Epoch 34: ReduceLROnPlateau reducing learning rate to 3.9062499126885086e-05.\n",
      "67/67 [==============================] - 191s 3s/step - loss: 0.0729 - categorical_accuracy: 0.9864 - val_loss: 0.5483 - val_categorical_accuracy: 0.8300 - lr: 7.8125e-05\n",
      "Epoch 35/45\n",
      "67/67 [==============================] - ETA: 0s - loss: 0.0570 - categorical_accuracy: 0.9940\n",
      "Epoch 35: saving model to model_initCNN2DLSTM_2_12022-08-2400_24_46.361790\\model-00035-0.05702-0.99397-0.40264-0.86000.h5\n",
      "67/67 [==============================] - 213s 3s/step - loss: 0.0570 - categorical_accuracy: 0.9940 - val_loss: 0.4026 - val_categorical_accuracy: 0.8600 - lr: 3.9062e-05\n",
      "Epoch 36/45\n",
      "67/67 [==============================] - ETA: 0s - loss: 0.0611 - categorical_accuracy: 0.9955\n",
      "Epoch 36: saving model to model_initCNN2DLSTM_2_12022-08-2400_24_46.361790\\model-00036-0.06106-0.99548-0.51997-0.84000.h5\n",
      "\n",
      "Epoch 36: ReduceLROnPlateau reducing learning rate to 1.9531249563442543e-05.\n",
      "67/67 [==============================] - 145s 2s/step - loss: 0.0611 - categorical_accuracy: 0.9955 - val_loss: 0.5200 - val_categorical_accuracy: 0.8400 - lr: 3.9062e-05\n",
      "Epoch 37/45\n",
      "67/67 [==============================] - ETA: 0s - loss: 0.0660 - categorical_accuracy: 0.9894\n",
      "Epoch 37: saving model to model_initCNN2DLSTM_2_12022-08-2400_24_46.361790\\model-00037-0.06598-0.98944-0.43812-0.84000.h5\n",
      "67/67 [==============================] - 145s 2s/step - loss: 0.0660 - categorical_accuracy: 0.9894 - val_loss: 0.4381 - val_categorical_accuracy: 0.8400 - lr: 1.9531e-05\n",
      "Epoch 38/45\n",
      "67/67 [==============================] - ETA: 0s - loss: 0.0601 - categorical_accuracy: 0.9940\n",
      "Epoch 38: saving model to model_initCNN2DLSTM_2_12022-08-2400_24_46.361790\\model-00038-0.06012-0.99397-0.57545-0.82000.h5\n",
      "\n",
      "Epoch 38: ReduceLROnPlateau reducing learning rate to 9.765624781721272e-06.\n",
      "67/67 [==============================] - 147s 2s/step - loss: 0.0601 - categorical_accuracy: 0.9940 - val_loss: 0.5754 - val_categorical_accuracy: 0.8200 - lr: 1.9531e-05\n",
      "Epoch 39/45\n",
      "67/67 [==============================] - ETA: 0s - loss: 0.0654 - categorical_accuracy: 0.9879\n",
      "Epoch 39: saving model to model_initCNN2DLSTM_2_12022-08-2400_24_46.361790\\model-00039-0.06540-0.98793-0.52439-0.84000.h5\n",
      "67/67 [==============================] - 145s 2s/step - loss: 0.0654 - categorical_accuracy: 0.9879 - val_loss: 0.5244 - val_categorical_accuracy: 0.8400 - lr: 9.7656e-06\n",
      "Epoch 40/45\n"
     ]
    },
    {
     "name": "stdout",
     "output_type": "stream",
     "text": [
      "67/67 [==============================] - ETA: 0s - loss: 0.0659 - categorical_accuracy: 0.9910\n",
      "Epoch 40: saving model to model_initCNN2DLSTM_2_12022-08-2400_24_46.361790\\model-00040-0.06588-0.99095-0.53660-0.83000.h5\n",
      "\n",
      "Epoch 40: ReduceLROnPlateau reducing learning rate to 4.882812390860636e-06.\n",
      "67/67 [==============================] - 144s 2s/step - loss: 0.0659 - categorical_accuracy: 0.9910 - val_loss: 0.5366 - val_categorical_accuracy: 0.8300 - lr: 9.7656e-06\n",
      "Epoch 41/45\n",
      "67/67 [==============================] - ETA: 0s - loss: 0.0670 - categorical_accuracy: 0.9940\n",
      "Epoch 41: saving model to model_initCNN2DLSTM_2_12022-08-2400_24_46.361790\\model-00041-0.06700-0.99397-0.49166-0.84000.h5\n",
      "67/67 [==============================] - 145s 2s/step - loss: 0.0670 - categorical_accuracy: 0.9940 - val_loss: 0.4917 - val_categorical_accuracy: 0.8400 - lr: 4.8828e-06\n",
      "Epoch 42/45\n",
      "67/67 [==============================] - ETA: 0s - loss: 0.0723 - categorical_accuracy: 0.9925\n",
      "Epoch 42: saving model to model_initCNN2DLSTM_2_12022-08-2400_24_46.361790\\model-00042-0.07227-0.99246-0.34773-0.87000.h5\n",
      "\n",
      "Epoch 42: ReduceLROnPlateau reducing learning rate to 2.441406195430318e-06.\n",
      "67/67 [==============================] - 144s 2s/step - loss: 0.0723 - categorical_accuracy: 0.9925 - val_loss: 0.3477 - val_categorical_accuracy: 0.8700 - lr: 4.8828e-06\n",
      "Epoch 43/45\n",
      "67/67 [==============================] - ETA: 0s - loss: 0.0714 - categorical_accuracy: 0.9925\n",
      "Epoch 43: saving model to model_initCNN2DLSTM_2_12022-08-2400_24_46.361790\\model-00043-0.07140-0.99246-0.44179-0.87000.h5\n",
      "67/67 [==============================] - 145s 2s/step - loss: 0.0714 - categorical_accuracy: 0.9925 - val_loss: 0.4418 - val_categorical_accuracy: 0.8700 - lr: 2.4414e-06\n",
      "Epoch 44/45\n",
      "67/67 [==============================] - ETA: 0s - loss: 0.0668 - categorical_accuracy: 0.9910\n",
      "Epoch 44: saving model to model_initCNN2DLSTM_2_12022-08-2400_24_46.361790\\model-00044-0.06680-0.99095-0.63262-0.79000.h5\n",
      "\n",
      "Epoch 44: ReduceLROnPlateau reducing learning rate to 1.220703097715159e-06.\n",
      "67/67 [==============================] - 146s 2s/step - loss: 0.0668 - categorical_accuracy: 0.9910 - val_loss: 0.6326 - val_categorical_accuracy: 0.7900 - lr: 2.4414e-06\n",
      "Epoch 45/45\n",
      "67/67 [==============================] - ETA: 0s - loss: 0.0606 - categorical_accuracy: 0.9910\n",
      "Epoch 45: saving model to model_initCNN2DLSTM_2_12022-08-2400_24_46.361790\\model-00045-0.06061-0.99095-0.56880-0.83000.h5\n",
      "67/67 [==============================] - 144s 2s/step - loss: 0.0606 - categorical_accuracy: 0.9910 - val_loss: 0.5688 - val_categorical_accuracy: 0.8300 - lr: 1.2207e-06\n"
     ]
    }
   ],
   "source": [
    "history = model.fit_generator(train_generator, steps_per_epoch=steps_per_epoch, epochs=epochs, verbose=1, \n",
    "                    callbacks=callbacks_list, validation_data=val_generator, \n",
    "                    validation_steps=validation_steps, class_weight=None, workers=1, initial_epoch=0)"
   ]
  },
  {
   "cell_type": "code",
   "execution_count": 64,
   "metadata": {
    "scrolled": true
   },
   "outputs": [
    {
     "data": {
      "text/plain": [
       "<matplotlib.legend.Legend at 0x22323cd9850>"
      ]
     },
     "execution_count": 64,
     "metadata": {},
     "output_type": "execute_result"
    },
    {
     "data": {
      "image/png": "[encoded data removed]",
      "text/plain": [
       "<Figure size 1440x432 with 2 Axes>"
      ]
     },
     "metadata": {
      "needs_background": "light"
     },
     "output_type": "display_data"
    }
   ],
   "source": [
    "plt.figure(figsize=(20,6))\n",
    "ax1 = plt.subplot(121)\n",
    "ax1 = plt.plot(history.history['loss'])\n",
    "ax1 = plt.plot(history.history['val_loss'])\n",
    "plt.title('model loss')\n",
    "plt.ylabel('loss')\n",
    "plt.xlabel('epoch')\n",
    "plt.legend(['train', 'validation'], loc='lower left')\n",
    "ax2 = plt.subplot(122)\n",
    "ax2 = plt.plot(history.history['categorical_accuracy'])\n",
    "ax2 = plt.plot(history.history['val_categorical_accuracy'])\n",
    "plt.title('model accuracy')\n",
    "plt.ylabel('categorical_accuracy')\n",
    "plt.xlabel('epoch')\n",
    "plt.legend(['train', 'validation'], loc='lower left')"
   ]
  },
  {
   "cell_type": "markdown",
   "metadata": {},
   "source": [
    "The model doesn't seem to be overfitting, it has good train accuracy and validation accuracy with improved training loss than the first CNN2D + LSTM Model. Training the model with more epochs and tuning the hyperparameter should probably improve the model to more extent.\n",
    "- Training Accuracy: 99.40%\n",
    "- Validation Accuracy: 88.00%"
   ]
  },
  {
   "cell_type": "markdown",
   "metadata": {},
   "source": [
    "### CNN2D + LSTM (45 Epochs and Adam)"
   ]
  },
  {
   "cell_type": "code",
   "execution_count": 72,
   "metadata": {},
   "outputs": [],
   "source": [
    "from tensorflow.keras.models import Sequential, Model\n",
    "from tensorflow.keras.layers import Dense, GRU, Flatten, TimeDistributed, Flatten, BatchNormalization, Activation, Dropout, LSTM\n",
    "from keras.layers.convolutional import Conv3D, MaxPooling3D, MaxPooling2D, Conv2D\n",
    "from tensorflow.keras.callbacks import ModelCheckpoint, ReduceLROnPlateau\n",
    "from tensorflow.keras import optimizers\n",
    "\n",
    "model = Sequential()\n",
    "\n",
    "model.add(TimeDistributed(Conv2D(16,(3,3),padding = 'same',activation='relu'),input_shape = input_shape))\n",
    "model.add(TimeDistributed(BatchNormalization()))\n",
    "model.add(TimeDistributed(MaxPooling2D(2,2)))\n",
    "\n",
    "model.add(TimeDistributed(Conv2D(32,(3,3),padding = 'same',activation='relu'),input_shape = input_shape))\n",
    "model.add(TimeDistributed(BatchNormalization()))\n",
    "model.add(TimeDistributed(MaxPooling2D(2,2)))\n",
    "\n",
    "model.add(TimeDistributed(Conv2D(64,(3,3),padding = 'same',activation='relu')))\n",
    "model.add(TimeDistributed(BatchNormalization()))\n",
    "model.add(TimeDistributed(MaxPooling2D(2,2)))\n",
    "\n",
    "model.add(TimeDistributed(Conv2D(128,(3,3),padding = 'same',activation='relu')))\n",
    "model.add(TimeDistributed(BatchNormalization()))\n",
    "model.add(TimeDistributed(MaxPooling2D(2,2)))\n",
    "\n",
    "model.add(TimeDistributed(Conv2D(256,(3,3),padding = 'same',activation='relu')))\n",
    "model.add(TimeDistributed(BatchNormalization()))\n",
    "model.add(TimeDistributed(MaxPooling2D(2,2)))\n",
    "\n",
    "model.add(TimeDistributed(Flatten()))\n",
    "\n",
    "model.add(LSTM(256,return_sequences = False))\n",
    "model.add(Dropout(0.25))\n",
    "model.add(Dense(256,activation='relu'))\n",
    "model.add(Dropout(0.25))\n",
    "model.add(Dense(5,activation='softmax'))"
   ]
  },
  {
   "cell_type": "code",
   "execution_count": 73,
   "metadata": {},
   "outputs": [
    {
     "name": "stdout",
     "output_type": "stream",
     "text": [
      "Model: \"sequential_9\"\n",
      "_________________________________________________________________\n",
      " Layer (type)                Output Shape              Param #   \n",
      "=================================================================\n",
      " time_distributed_112 (TimeD  (None, 30, 120, 120, 16)  448      \n",
      " istributed)                                                     \n",
      "                                                                 \n",
      " time_distributed_113 (TimeD  (None, 30, 120, 120, 16)  64       \n",
      " istributed)                                                     \n",
      "                                                                 \n",
      " time_distributed_114 (TimeD  (None, 30, 60, 60, 16)   0         \n",
      " istributed)                                                     \n",
      "                                                                 \n",
      " time_distributed_115 (TimeD  (None, 30, 60, 60, 32)   4640      \n",
      " istributed)                                                     \n",
      "                                                                 \n",
      " time_distributed_116 (TimeD  (None, 30, 60, 60, 32)   128       \n",
      " istributed)                                                     \n",
      "                                                                 \n",
      " time_distributed_117 (TimeD  (None, 30, 30, 30, 32)   0         \n",
      " istributed)                                                     \n",
      "                                                                 \n",
      " time_distributed_118 (TimeD  (None, 30, 30, 30, 64)   18496     \n",
      " istributed)                                                     \n",
      "                                                                 \n",
      " time_distributed_119 (TimeD  (None, 30, 30, 30, 64)   256       \n",
      " istributed)                                                     \n",
      "                                                                 \n",
      " time_distributed_120 (TimeD  (None, 30, 15, 15, 64)   0         \n",
      " istributed)                                                     \n",
      "                                                                 \n",
      " time_distributed_121 (TimeD  (None, 30, 15, 15, 128)  73856     \n",
      " istributed)                                                     \n",
      "                                                                 \n",
      " time_distributed_122 (TimeD  (None, 30, 15, 15, 128)  512       \n",
      " istributed)                                                     \n",
      "                                                                 \n",
      " time_distributed_123 (TimeD  (None, 30, 7, 7, 128)    0         \n",
      " istributed)                                                     \n",
      "                                                                 \n",
      " time_distributed_124 (TimeD  (None, 30, 7, 7, 256)    295168    \n",
      " istributed)                                                     \n",
      "                                                                 \n",
      " time_distributed_125 (TimeD  (None, 30, 7, 7, 256)    1024      \n",
      " istributed)                                                     \n",
      "                                                                 \n",
      " time_distributed_126 (TimeD  (None, 30, 3, 3, 256)    0         \n",
      " istributed)                                                     \n",
      "                                                                 \n",
      " time_distributed_127 (TimeD  (None, 30, 2304)         0         \n",
      " istributed)                                                     \n",
      "                                                                 \n",
      " lstm_4 (LSTM)               (None, 256)               2622464   \n",
      "                                                                 \n",
      " dropout_18 (Dropout)        (None, 256)               0         \n",
      "                                                                 \n",
      " dense_20 (Dense)            (None, 256)               65792     \n",
      "                                                                 \n",
      " dropout_19 (Dropout)        (None, 256)               0         \n",
      "                                                                 \n",
      " dense_21 (Dense)            (None, 5)                 1285      \n",
      "                                                                 \n",
      "=================================================================\n",
      "Total params: 3,084,133\n",
      "Trainable params: 3,083,141\n",
      "Non-trainable params: 992\n",
      "_________________________________________________________________\n",
      "None\n"
     ]
    }
   ],
   "source": [
    "optimiser = optimizers.Adam(0.0001)\n",
    "epochs = 45\n",
    "model.compile(optimizer=optimiser, loss='categorical_crossentropy', metrics=['categorical_accuracy'])\n",
    "print (model.summary())"
   ]
  },
  {
   "cell_type": "code",
   "execution_count": 74,
   "metadata": {},
   "outputs": [],
   "source": [
    "train_generator = generator(train_path, train_doc, batch_size)\n",
    "val_generator = generator(val_path, val_doc, batch_size)"
   ]
  },
  {
   "cell_type": "code",
   "execution_count": 75,
   "metadata": {},
   "outputs": [
    {
     "name": "stdout",
     "output_type": "stream",
     "text": [
      "WARNING:tensorflow:`period` argument is deprecated. Please use `save_freq` to specify the frequency in number of batches seen.\n"
     ]
    }
   ],
   "source": [
    "model_name = 'model_initCNN2DLSTM_2' + '_2' + str(curr_dt_time).replace(' ','').replace(':','_') + '/'\n",
    "    \n",
    "if not os.path.exists(model_name):\n",
    "    os.mkdir(model_name)\n",
    "        \n",
    "filepath = model_name + 'model-{epoch:05d}-{loss:.5f}-{categorical_accuracy:.5f}-{val_loss:.5f}-{val_categorical_accuracy:.5f}.h5'\n",
    "\n",
    "checkpoint = ModelCheckpoint(filepath, monitor='val_loss', verbose=1, save_best_only=False, save_weights_only=False, mode='auto', period=1)\n",
    "\n",
    "LR = ReduceLROnPlateau(monitor='val_loss',factor=0.5,patience=2,cooldown=1,verbose=1)\n",
    "callbacks_list = [checkpoint, LR]"
   ]
  },
  {
   "cell_type": "code",
   "execution_count": 76,
   "metadata": {},
   "outputs": [],
   "source": [
    "if (num_train_sequences%batch_size) == 0:\n",
    "    steps_per_epoch = int(num_train_sequences/batch_size)\n",
    "else:\n",
    "    steps_per_epoch = (num_train_sequences//batch_size) + 1\n",
    "\n",
    "if (num_val_sequences%batch_size) == 0:\n",
    "    validation_steps = int(num_val_sequences/batch_size)\n",
    "else:\n",
    "    validation_steps = (num_val_sequences//batch_size) + 1"
   ]
  },
  {
   "cell_type": "code",
   "execution_count": 77,
   "metadata": {},
   "outputs": [
    {
     "name": "stderr",
     "output_type": "stream",
     "text": [
      "C:\\Users\\abhin\\AppData\\Local\\Temp\\ipykernel_2756\\2003434324.py:1: UserWarning: `Model.fit_generator` is deprecated and will be removed in a future version. Please use `Model.fit`, which supports generators.\n",
      "  history = model.fit_generator(train_generator, steps_per_epoch=steps_per_epoch, epochs=epochs, verbose=1,\n"
     ]
    },
    {
     "name": "stdout",
     "output_type": "stream",
     "text": [
      "Source path =  D:/Master AI and ML/New Project/Project_data/train ; batch size = 10\n",
      "Epoch 1/45\n",
      "67/67 [==============================] - ETA: 0s - loss: 1.4826 - categorical_accuracy: 0.3590Source path =  D:/Master AI and ML/New Project/Project_data/val ; batch size = 10\n",
      "\n",
      "Epoch 1: saving model to model_initCNN2DLSTM_2_22022-08-2400_24_46.361790\\model-00001-1.48262-0.35897-1.68171-0.21000.h5\n",
      "67/67 [==============================] - 153s 2s/step - loss: 1.4826 - categorical_accuracy: 0.3590 - val_loss: 1.6817 - val_categorical_accuracy: 0.2100 - lr: 1.0000e-04\n",
      "Epoch 2/45\n",
      "67/67 [==============================] - ETA: 0s - loss: 1.0235 - categorical_accuracy: 0.6335\n",
      "Epoch 2: saving model to model_initCNN2DLSTM_2_22022-08-2400_24_46.361790\\model-00002-1.02350-0.63348-1.76146-0.21000.h5\n",
      "67/67 [==============================] - 153s 2s/step - loss: 1.0235 - categorical_accuracy: 0.6335 - val_loss: 1.7615 - val_categorical_accuracy: 0.2100 - lr: 1.0000e-04\n",
      "Epoch 3/45\n",
      "67/67 [==============================] - ETA: 0s - loss: 0.8195 - categorical_accuracy: 0.7119\n",
      "Epoch 3: saving model to model_initCNN2DLSTM_2_22022-08-2400_24_46.361790\\model-00003-0.81950-0.71192-1.68259-0.25000.h5\n",
      "\n",
      "Epoch 3: ReduceLROnPlateau reducing learning rate to 4.999999873689376e-05.\n",
      "67/67 [==============================] - 149s 2s/step - loss: 0.8195 - categorical_accuracy: 0.7119 - val_loss: 1.6826 - val_categorical_accuracy: 0.2500 - lr: 1.0000e-04\n",
      "Epoch 4/45\n",
      "67/67 [==============================] - ETA: 0s - loss: 0.6018 - categorical_accuracy: 0.8024\n",
      "Epoch 4: saving model to model_initCNN2DLSTM_2_22022-08-2400_24_46.361790\\model-00004-0.60180-0.80241-1.79291-0.26000.h5\n",
      "67/67 [==============================] - 147s 2s/step - loss: 0.6018 - categorical_accuracy: 0.8024 - val_loss: 1.7929 - val_categorical_accuracy: 0.2600 - lr: 5.0000e-05\n",
      "Epoch 5/45\n",
      "67/67 [==============================] - ETA: 0s - loss: 0.4406 - categorical_accuracy: 0.8854\n",
      "Epoch 5: saving model to model_initCNN2DLSTM_2_22022-08-2400_24_46.361790\\model-00005-0.44056-0.88537-1.78014-0.30000.h5\n",
      "\n",
      "Epoch 5: ReduceLROnPlateau reducing learning rate to 2.499999936844688e-05.\n",
      "67/67 [==============================] - 150s 2s/step - loss: 0.4406 - categorical_accuracy: 0.8854 - val_loss: 1.7801 - val_categorical_accuracy: 0.3000 - lr: 5.0000e-05\n",
      "Epoch 6/45\n",
      "67/67 [==============================] - ETA: 0s - loss: 0.3775 - categorical_accuracy: 0.8959\n",
      "Epoch 6: saving model to model_initCNN2DLSTM_2_22022-08-2400_24_46.361790\\model-00006-0.37750-0.89593-2.04466-0.25000.h5\n",
      "67/67 [==============================] - 149s 2s/step - loss: 0.3775 - categorical_accuracy: 0.8959 - val_loss: 2.0447 - val_categorical_accuracy: 0.2500 - lr: 2.5000e-05\n",
      "Epoch 7/45\n",
      "67/67 [==============================] - ETA: 0s - loss: 0.3012 - categorical_accuracy: 0.9321\n",
      "Epoch 7: saving model to model_initCNN2DLSTM_2_22022-08-2400_24_46.361790\\model-00007-0.30123-0.93213-1.45634-0.46000.h5\n",
      "67/67 [==============================] - 160s 2s/step - loss: 0.3012 - categorical_accuracy: 0.9321 - val_loss: 1.4563 - val_categorical_accuracy: 0.4600 - lr: 2.5000e-05\n",
      "Epoch 8/45\n",
      "67/67 [==============================] - ETA: 0s - loss: 0.2576 - categorical_accuracy: 0.9517\n",
      "Epoch 8: saving model to model_initCNN2DLSTM_2_22022-08-2400_24_46.361790\\model-00008-0.25757-0.95173-1.28584-0.49000.h5\n",
      "67/67 [==============================] - 174s 3s/step - loss: 0.2576 - categorical_accuracy: 0.9517 - val_loss: 1.2858 - val_categorical_accuracy: 0.4900 - lr: 2.5000e-05\n",
      "Epoch 9/45\n",
      "67/67 [==============================] - ETA: 0s - loss: 0.2347 - categorical_accuracy: 0.9532\n",
      "Epoch 9: saving model to model_initCNN2DLSTM_2_22022-08-2400_24_46.361790\\model-00009-0.23470-0.95324-0.80139-0.71000.h5\n",
      "67/67 [==============================] - 168s 3s/step - loss: 0.2347 - categorical_accuracy: 0.9532 - val_loss: 0.8014 - val_categorical_accuracy: 0.7100 - lr: 2.5000e-05\n",
      "Epoch 10/45\n",
      "67/67 [==============================] - ETA: 0s - loss: 0.2139 - categorical_accuracy: 0.9638\n",
      "Epoch 10: saving model to model_initCNN2DLSTM_2_22022-08-2400_24_46.361790\\model-00010-0.21391-0.96380-0.75171-0.71000.h5\n",
      "67/67 [==============================] - 168s 3s/step - loss: 0.2139 - categorical_accuracy: 0.9638 - val_loss: 0.7517 - val_categorical_accuracy: 0.7100 - lr: 2.5000e-05\n",
      "Epoch 11/45\n",
      "67/67 [==============================] - ETA: 0s - loss: 0.1918 - categorical_accuracy: 0.9638\n",
      "Epoch 11: saving model to model_initCNN2DLSTM_2_22022-08-2400_24_46.361790\\model-00011-0.19179-0.96380-0.67013-0.77000.h5\n",
      "67/67 [==============================] - 167s 3s/step - loss: 0.1918 - categorical_accuracy: 0.9638 - val_loss: 0.6701 - val_categorical_accuracy: 0.7700 - lr: 2.5000e-05\n",
      "Epoch 12/45\n",
      "67/67 [==============================] - ETA: 0s - loss: 0.1594 - categorical_accuracy: 0.9759\n",
      "Epoch 12: saving model to model_initCNN2DLSTM_2_22022-08-2400_24_46.361790\\model-00012-0.15938-0.97587-0.63178-0.79000.h5\n",
      "67/67 [==============================] - 215s 3s/step - loss: 0.1594 - categorical_accuracy: 0.9759 - val_loss: 0.6318 - val_categorical_accuracy: 0.7900 - lr: 2.5000e-05\n",
      "Epoch 13/45\n",
      "67/67 [==============================] - ETA: 0s - loss: 0.1366 - categorical_accuracy: 0.9849\n",
      "Epoch 13: saving model to model_initCNN2DLSTM_2_22022-08-2400_24_46.361790\\model-00013-0.13664-0.98492-0.65635-0.72000.h5\n",
      "67/67 [==============================] - 246s 4s/step - loss: 0.1366 - categorical_accuracy: 0.9849 - val_loss: 0.6564 - val_categorical_accuracy: 0.7200 - lr: 2.5000e-05\n",
      "Epoch 14/45\n",
      "67/67 [==============================] - ETA: 0s - loss: 0.1087 - categorical_accuracy: 0.9955\n",
      "Epoch 14: saving model to model_initCNN2DLSTM_2_22022-08-2400_24_46.361790\\model-00014-0.10872-0.99548-0.67565-0.78000.h5\n",
      "\n",
      "Epoch 14: ReduceLROnPlateau reducing learning rate to 1.249999968422344e-05.\n",
      "67/67 [==============================] - 240s 4s/step - loss: 0.1087 - categorical_accuracy: 0.9955 - val_loss: 0.6757 - val_categorical_accuracy: 0.7800 - lr: 2.5000e-05\n",
      "Epoch 15/45\n",
      "67/67 [==============================] - ETA: 0s - loss: 0.1025 - categorical_accuracy: 0.9910\n",
      "Epoch 15: saving model to model_initCNN2DLSTM_2_22022-08-2400_24_46.361790\\model-00015-0.10248-0.99095-0.53764-0.81000.h5\n",
      "67/67 [==============================] - 165s 2s/step - loss: 0.1025 - categorical_accuracy: 0.9910 - val_loss: 0.5376 - val_categorical_accuracy: 0.8100 - lr: 1.2500e-05\n",
      "Epoch 16/45\n",
      "67/67 [==============================] - ETA: 0s - loss: 0.0869 - categorical_accuracy: 0.9940\n",
      "Epoch 16: saving model to model_initCNN2DLSTM_2_22022-08-2400_24_46.361790\\model-00016-0.08694-0.99397-0.58899-0.82000.h5\n",
      "67/67 [==============================] - 160s 2s/step - loss: 0.0869 - categorical_accuracy: 0.9940 - val_loss: 0.5890 - val_categorical_accuracy: 0.8200 - lr: 1.2500e-05\n",
      "Epoch 17/45\n",
      "67/67 [==============================] - ETA: 0s - loss: 0.0877 - categorical_accuracy: 0.9910\n",
      "Epoch 17: saving model to model_initCNN2DLSTM_2_22022-08-2400_24_46.361790\\model-00017-0.08772-0.99095-0.65941-0.74000.h5\n",
      "\n",
      "Epoch 17: ReduceLROnPlateau reducing learning rate to 6.24999984211172e-06.\n",
      "67/67 [==============================] - 161s 2s/step - loss: 0.0877 - categorical_accuracy: 0.9910 - val_loss: 0.6594 - val_categorical_accuracy: 0.7400 - lr: 1.2500e-05\n",
      "Epoch 18/45\n",
      "67/67 [==============================] - ETA: 0s - loss: 0.0829 - categorical_accuracy: 0.9940\n",
      "Epoch 18: saving model to model_initCNN2DLSTM_2_22022-08-2400_24_46.361790\\model-00018-0.08295-0.99397-0.51911-0.80000.h5\n",
      "67/67 [==============================] - 157s 2s/step - loss: 0.0829 - categorical_accuracy: 0.9940 - val_loss: 0.5191 - val_categorical_accuracy: 0.8000 - lr: 6.2500e-06\n",
      "Epoch 19/45\n",
      "67/67 [==============================] - ETA: 0s - loss: 0.0756 - categorical_accuracy: 0.9970\n",
      "Epoch 19: saving model to model_initCNN2DLSTM_2_22022-08-2400_24_46.361790\\model-00019-0.07557-0.99698-0.75985-0.73000.h5\n",
      "67/67 [==============================] - 148s 2s/step - loss: 0.0756 - categorical_accuracy: 0.9970 - val_loss: 0.7599 - val_categorical_accuracy: 0.7300 - lr: 6.2500e-06\n",
      "Epoch 20/45\n",
      "67/67 [==============================] - ETA: 0s - loss: 0.0805 - categorical_accuracy: 0.9940\n",
      "Epoch 20: saving model to model_initCNN2DLSTM_2_22022-08-2400_24_46.361790\\model-00020-0.08047-0.99397-0.61113-0.77000.h5\n"
     ]
    },
    {
     "name": "stdout",
     "output_type": "stream",
     "text": [
      "\n",
      "Epoch 20: ReduceLROnPlateau reducing learning rate to 3.12499992105586e-06.\n",
      "67/67 [==============================] - 149s 2s/step - loss: 0.0805 - categorical_accuracy: 0.9940 - val_loss: 0.6111 - val_categorical_accuracy: 0.7700 - lr: 6.2500e-06\n",
      "Epoch 21/45\n",
      "67/67 [==============================] - ETA: 0s - loss: 0.0732 - categorical_accuracy: 0.9955\n",
      "Epoch 21: saving model to model_initCNN2DLSTM_2_22022-08-2400_24_46.361790\\model-00021-0.07324-0.99548-0.63716-0.75000.h5\n",
      "67/67 [==============================] - 156s 2s/step - loss: 0.0732 - categorical_accuracy: 0.9955 - val_loss: 0.6372 - val_categorical_accuracy: 0.7500 - lr: 3.1250e-06\n",
      "Epoch 22/45\n",
      "67/67 [==============================] - ETA: 0s - loss: 0.0647 - categorical_accuracy: 0.9985\n",
      "Epoch 22: saving model to model_initCNN2DLSTM_2_22022-08-2400_24_46.361790\\model-00022-0.06474-0.99849-0.63188-0.75000.h5\n",
      "\n",
      "Epoch 22: ReduceLROnPlateau reducing learning rate to 1.56249996052793e-06.\n",
      "67/67 [==============================] - 151s 2s/step - loss: 0.0647 - categorical_accuracy: 0.9985 - val_loss: 0.6319 - val_categorical_accuracy: 0.7500 - lr: 3.1250e-06\n",
      "Epoch 23/45\n",
      "67/67 [==============================] - ETA: 0s - loss: 0.0774 - categorical_accuracy: 0.9970\n",
      "Epoch 23: saving model to model_initCNN2DLSTM_2_22022-08-2400_24_46.361790\\model-00023-0.07742-0.99698-0.60872-0.77000.h5\n",
      "67/67 [==============================] - 150s 2s/step - loss: 0.0774 - categorical_accuracy: 0.9970 - val_loss: 0.6087 - val_categorical_accuracy: 0.7700 - lr: 1.5625e-06\n",
      "Epoch 24/45\n",
      "67/67 [==============================] - ETA: 0s - loss: 0.0765 - categorical_accuracy: 0.9955\n",
      "Epoch 24: saving model to model_initCNN2DLSTM_2_22022-08-2400_24_46.361790\\model-00024-0.07652-0.99548-0.69807-0.71000.h5\n",
      "\n",
      "Epoch 24: ReduceLROnPlateau reducing learning rate to 7.81249980263965e-07.\n",
      "67/67 [==============================] - 151s 2s/step - loss: 0.0765 - categorical_accuracy: 0.9955 - val_loss: 0.6981 - val_categorical_accuracy: 0.7100 - lr: 1.5625e-06\n",
      "Epoch 25/45\n",
      "67/67 [==============================] - ETA: 0s - loss: 0.0664 - categorical_accuracy: 0.9970\n",
      "Epoch 25: saving model to model_initCNN2DLSTM_2_22022-08-2400_24_46.361790\\model-00025-0.06635-0.99698-0.65759-0.73000.h5\n",
      "67/67 [==============================] - 154s 2s/step - loss: 0.0664 - categorical_accuracy: 0.9970 - val_loss: 0.6576 - val_categorical_accuracy: 0.7300 - lr: 7.8125e-07\n",
      "Epoch 26/45\n",
      "67/67 [==============================] - ETA: 0s - loss: 0.0638 - categorical_accuracy: 0.9985\n",
      "Epoch 26: saving model to model_initCNN2DLSTM_2_22022-08-2400_24_46.361790\\model-00026-0.06381-0.99849-0.51767-0.77000.h5\n",
      "67/67 [==============================] - 148s 2s/step - loss: 0.0638 - categorical_accuracy: 0.9985 - val_loss: 0.5177 - val_categorical_accuracy: 0.7700 - lr: 7.8125e-07\n",
      "Epoch 27/45\n",
      "67/67 [==============================] - ETA: 0s - loss: 0.0725 - categorical_accuracy: 0.9925\n",
      "Epoch 27: saving model to model_initCNN2DLSTM_2_22022-08-2400_24_46.361790\\model-00027-0.07252-0.99246-0.60886-0.74000.h5\n",
      "67/67 [==============================] - 148s 2s/step - loss: 0.0725 - categorical_accuracy: 0.9925 - val_loss: 0.6089 - val_categorical_accuracy: 0.7400 - lr: 7.8125e-07\n",
      "Epoch 28/45\n",
      "67/67 [==============================] - ETA: 0s - loss: 0.0621 - categorical_accuracy: 0.9970\n",
      "Epoch 28: saving model to model_initCNN2DLSTM_2_22022-08-2400_24_46.361790\\model-00028-0.06211-0.99698-0.67297-0.76000.h5\n",
      "\n",
      "Epoch 28: ReduceLROnPlateau reducing learning rate to 3.906249901319825e-07.\n",
      "67/67 [==============================] - 146s 2s/step - loss: 0.0621 - categorical_accuracy: 0.9970 - val_loss: 0.6730 - val_categorical_accuracy: 0.7600 - lr: 7.8125e-07\n",
      "Epoch 29/45\n",
      "67/67 [==============================] - ETA: 0s - loss: 0.0593 - categorical_accuracy: 1.0000\n",
      "Epoch 29: saving model to model_initCNN2DLSTM_2_22022-08-2400_24_46.361790\\model-00029-0.05931-1.00000-0.62383-0.76000.h5\n",
      "67/67 [==============================] - 146s 2s/step - loss: 0.0593 - categorical_accuracy: 1.0000 - val_loss: 0.6238 - val_categorical_accuracy: 0.7600 - lr: 3.9062e-07\n",
      "Epoch 30/45\n",
      "67/67 [==============================] - ETA: 0s - loss: 0.0654 - categorical_accuracy: 0.9970\n",
      "Epoch 30: saving model to model_initCNN2DLSTM_2_22022-08-2400_24_46.361790\\model-00030-0.06544-0.99698-0.61239-0.74000.h5\n",
      "\n",
      "Epoch 30: ReduceLROnPlateau reducing learning rate to 1.9531249506599124e-07.\n",
      "67/67 [==============================] - 145s 2s/step - loss: 0.0654 - categorical_accuracy: 0.9970 - val_loss: 0.6124 - val_categorical_accuracy: 0.7400 - lr: 3.9062e-07\n",
      "Epoch 31/45\n",
      "67/67 [==============================] - ETA: 0s - loss: 0.0597 - categorical_accuracy: 0.9970\n",
      "Epoch 31: saving model to model_initCNN2DLSTM_2_22022-08-2400_24_46.361790\\model-00031-0.05965-0.99698-0.63952-0.74000.h5\n",
      "67/67 [==============================] - 146s 2s/step - loss: 0.0597 - categorical_accuracy: 0.9970 - val_loss: 0.6395 - val_categorical_accuracy: 0.7400 - lr: 1.9531e-07\n",
      "Epoch 32/45\n",
      "67/67 [==============================] - ETA: 0s - loss: 0.0685 - categorical_accuracy: 0.9940\n",
      "Epoch 32: saving model to model_initCNN2DLSTM_2_22022-08-2400_24_46.361790\\model-00032-0.06853-0.99397-0.65175-0.73000.h5\n",
      "\n",
      "Epoch 32: ReduceLROnPlateau reducing learning rate to 9.765624753299562e-08.\n",
      "67/67 [==============================] - 146s 2s/step - loss: 0.0685 - categorical_accuracy: 0.9940 - val_loss: 0.6518 - val_categorical_accuracy: 0.7300 - lr: 1.9531e-07\n",
      "Epoch 33/45\n",
      "67/67 [==============================] - ETA: 0s - loss: 0.0673 - categorical_accuracy: 0.9970\n",
      "Epoch 33: saving model to model_initCNN2DLSTM_2_22022-08-2400_24_46.361790\\model-00033-0.06732-0.99698-0.54729-0.76000.h5\n",
      "67/67 [==============================] - 147s 2s/step - loss: 0.0673 - categorical_accuracy: 0.9970 - val_loss: 0.5473 - val_categorical_accuracy: 0.7600 - lr: 9.7656e-08\n",
      "Epoch 34/45\n",
      "67/67 [==============================] - ETA: 0s - loss: 0.0628 - categorical_accuracy: 0.9955\n",
      "Epoch 34: saving model to model_initCNN2DLSTM_2_22022-08-2400_24_46.361790\\model-00034-0.06276-0.99548-0.68052-0.72000.h5\n",
      "\n",
      "Epoch 34: ReduceLROnPlateau reducing learning rate to 4.882812376649781e-08.\n",
      "67/67 [==============================] - 146s 2s/step - loss: 0.0628 - categorical_accuracy: 0.9955 - val_loss: 0.6805 - val_categorical_accuracy: 0.7200 - lr: 9.7656e-08\n",
      "Epoch 35/45\n",
      "67/67 [==============================] - ETA: 0s - loss: 0.0720 - categorical_accuracy: 0.9955\n",
      "Epoch 35: saving model to model_initCNN2DLSTM_2_22022-08-2400_24_46.361790\\model-00035-0.07197-0.99548-0.65910-0.74000.h5\n",
      "67/67 [==============================] - 145s 2s/step - loss: 0.0720 - categorical_accuracy: 0.9955 - val_loss: 0.6591 - val_categorical_accuracy: 0.7400 - lr: 4.8828e-08\n",
      "Epoch 36/45\n",
      "67/67 [==============================] - ETA: 0s - loss: 0.0600 - categorical_accuracy: 1.0000\n",
      "Epoch 36: saving model to model_initCNN2DLSTM_2_22022-08-2400_24_46.361790\\model-00036-0.06003-1.00000-0.63571-0.75000.h5\n",
      "\n",
      "Epoch 36: ReduceLROnPlateau reducing learning rate to 2.4414061883248905e-08.\n",
      "67/67 [==============================] - 149s 2s/step - loss: 0.0600 - categorical_accuracy: 1.0000 - val_loss: 0.6357 - val_categorical_accuracy: 0.7500 - lr: 4.8828e-08\n",
      "Epoch 37/45\n",
      "67/67 [==============================] - ETA: 0s - loss: 0.0670 - categorical_accuracy: 0.9970\n",
      "Epoch 37: saving model to model_initCNN2DLSTM_2_22022-08-2400_24_46.361790\\model-00037-0.06697-0.99698-0.61068-0.76000.h5\n",
      "67/67 [==============================] - 150s 2s/step - loss: 0.0670 - categorical_accuracy: 0.9970 - val_loss: 0.6107 - val_categorical_accuracy: 0.7600 - lr: 2.4414e-08\n",
      "Epoch 38/45\n",
      "67/67 [==============================] - ETA: 0s - loss: 0.0728 - categorical_accuracy: 0.9955\n",
      "Epoch 38: saving model to model_initCNN2DLSTM_2_22022-08-2400_24_46.361790\\model-00038-0.07282-0.99548-0.55193-0.75000.h5\n",
      "\n",
      "Epoch 38: ReduceLROnPlateau reducing learning rate to 1.2207030941624453e-08.\n",
      "67/67 [==============================] - 149s 2s/step - loss: 0.0728 - categorical_accuracy: 0.9955 - val_loss: 0.5519 - val_categorical_accuracy: 0.7500 - lr: 2.4414e-08\n",
      "Epoch 39/45\n",
      "67/67 [==============================] - ETA: 0s - loss: 0.0691 - categorical_accuracy: 0.9925\n",
      "Epoch 39: saving model to model_initCNN2DLSTM_2_22022-08-2400_24_46.361790\\model-00039-0.06914-0.99246-0.64566-0.74000.h5\n"
     ]
    },
    {
     "name": "stdout",
     "output_type": "stream",
     "text": [
      "67/67 [==============================] - 146s 2s/step - loss: 0.0691 - categorical_accuracy: 0.9925 - val_loss: 0.6457 - val_categorical_accuracy: 0.7400 - lr: 1.2207e-08\n",
      "Epoch 40/45\n",
      "67/67 [==============================] - ETA: 0s - loss: 0.0650 - categorical_accuracy: 0.9970\n",
      "Epoch 40: saving model to model_initCNN2DLSTM_2_22022-08-2400_24_46.361790\\model-00040-0.06499-0.99698-0.59881-0.77000.h5\n",
      "\n",
      "Epoch 40: ReduceLROnPlateau reducing learning rate to 6.103515470812226e-09.\n",
      "67/67 [==============================] - 148s 2s/step - loss: 0.0650 - categorical_accuracy: 0.9970 - val_loss: 0.5988 - val_categorical_accuracy: 0.7700 - lr: 1.2207e-08\n",
      "Epoch 41/45\n",
      "67/67 [==============================] - ETA: 0s - loss: 0.0688 - categorical_accuracy: 1.0000\n",
      "Epoch 41: saving model to model_initCNN2DLSTM_2_22022-08-2400_24_46.361790\\model-00041-0.06876-1.00000-0.63939-0.74000.h5\n",
      "67/67 [==============================] - 149s 2s/step - loss: 0.0688 - categorical_accuracy: 1.0000 - val_loss: 0.6394 - val_categorical_accuracy: 0.7400 - lr: 6.1035e-09\n",
      "Epoch 42/45\n",
      "67/67 [==============================] - ETA: 0s - loss: 0.0623 - categorical_accuracy: 0.9970\n",
      "Epoch 42: saving model to model_initCNN2DLSTM_2_22022-08-2400_24_46.361790\\model-00042-0.06231-0.99698-0.67616-0.74000.h5\n",
      "\n",
      "Epoch 42: ReduceLROnPlateau reducing learning rate to 3.051757735406113e-09.\n",
      "67/67 [==============================] - 150s 2s/step - loss: 0.0623 - categorical_accuracy: 0.9970 - val_loss: 0.6762 - val_categorical_accuracy: 0.7400 - lr: 6.1035e-09\n",
      "Epoch 43/45\n",
      "67/67 [==============================] - ETA: 0s - loss: 0.0578 - categorical_accuracy: 0.9970\n",
      "Epoch 43: saving model to model_initCNN2DLSTM_2_22022-08-2400_24_46.361790\\model-00043-0.05777-0.99698-0.55202-0.77000.h5\n",
      "67/67 [==============================] - 148s 2s/step - loss: 0.0578 - categorical_accuracy: 0.9970 - val_loss: 0.5520 - val_categorical_accuracy: 0.7700 - lr: 3.0518e-09\n",
      "Epoch 44/45\n",
      "67/67 [==============================] - ETA: 0s - loss: 0.0663 - categorical_accuracy: 0.9970\n",
      "Epoch 44: saving model to model_initCNN2DLSTM_2_22022-08-2400_24_46.361790\\model-00044-0.06629-0.99698-0.62783-0.74000.h5\n",
      "\n",
      "Epoch 44: ReduceLROnPlateau reducing learning rate to 1.5258788677030566e-09.\n",
      "67/67 [==============================] - 150s 2s/step - loss: 0.0663 - categorical_accuracy: 0.9970 - val_loss: 0.6278 - val_categorical_accuracy: 0.7400 - lr: 3.0518e-09\n",
      "Epoch 45/45\n",
      "67/67 [==============================] - ETA: 0s - loss: 0.0661 - categorical_accuracy: 0.9955\n",
      "Epoch 45: saving model to model_initCNN2DLSTM_2_22022-08-2400_24_46.361790\\model-00045-0.06606-0.99548-0.65259-0.75000.h5\n",
      "67/67 [==============================] - 149s 2s/step - loss: 0.0661 - categorical_accuracy: 0.9955 - val_loss: 0.6526 - val_categorical_accuracy: 0.7500 - lr: 1.5259e-09\n"
     ]
    }
   ],
   "source": [
    "history = model.fit_generator(train_generator, steps_per_epoch=steps_per_epoch, epochs=epochs, verbose=1, \n",
    "                    callbacks=callbacks_list, validation_data=val_generator, \n",
    "                    validation_steps=validation_steps, class_weight=None, workers=1, initial_epoch=0)"
   ]
  },
  {
   "cell_type": "code",
   "execution_count": 78,
   "metadata": {},
   "outputs": [
    {
     "data": {
      "text/plain": [
       "<matplotlib.legend.Legend at 0x2227c747790>"
      ]
     },
     "execution_count": 78,
     "metadata": {},
     "output_type": "execute_result"
    },
    {
     "data": {
      "image/png": "[encoded data removed]",
      "text/plain": [
       "<Figure size 1440x432 with 2 Axes>"
      ]
     },
     "metadata": {
      "needs_background": "light"
     },
     "output_type": "display_data"
    }
   ],
   "source": [
    "plt.figure(figsize=(20,6))\n",
    "ax1 = plt.subplot(121)\n",
    "ax1 = plt.plot(history.history['loss'])\n",
    "ax1 = plt.plot(history.history['val_loss'])\n",
    "plt.title('model loss')\n",
    "plt.ylabel('loss')\n",
    "plt.xlabel('epoch')\n",
    "plt.legend(['train', 'validation'], loc='lower left')\n",
    "ax2 = plt.subplot(122)\n",
    "ax2 = plt.plot(history.history['categorical_accuracy'])\n",
    "ax2 = plt.plot(history.history['val_categorical_accuracy'])\n",
    "plt.title('model accuracy')\n",
    "plt.ylabel('categorical_accuracy')\n",
    "plt.xlabel('epoch')\n",
    "plt.legend(['train', 'validation'], loc='lower left')"
   ]
  },
  {
   "cell_type": "code",
   "execution_count": null,
   "metadata": {},
   "outputs": [],
   "source": []
  },
  {
   "cell_type": "markdown",
   "metadata": {},
   "source": [
    "### CNN2D + GRU (45 Epochs)"
   ]
  },
  {
   "cell_type": "code",
   "execution_count": 50,
   "metadata": {},
   "outputs": [],
   "source": [
    "from tensorflow.keras.models import Sequential, Model\n",
    "from tensorflow.keras.layers import Dense, GRU, Flatten, TimeDistributed, Flatten, BatchNormalization, Activation, Dropout, LSTM\n",
    "from keras.layers.convolutional import Conv3D, MaxPooling3D, MaxPooling2D, Conv2D\n",
    "from tensorflow.keras.callbacks import ModelCheckpoint, ReduceLROnPlateau\n",
    "from tensorflow.keras import optimizers\n",
    "\n",
    "model = Sequential()\n",
    "\n",
    "model.add(TimeDistributed(Conv2D(16,(3,3),padding = 'same',activation='relu'),input_shape = input_shape))\n",
    "model.add(TimeDistributed(BatchNormalization()))\n",
    "model.add(TimeDistributed(MaxPooling2D(2,2)))\n",
    "\n",
    "model.add(TimeDistributed(Conv2D(32,(3,3),padding = 'same',activation='relu'),input_shape = input_shape))\n",
    "model.add(TimeDistributed(BatchNormalization()))\n",
    "model.add(TimeDistributed(MaxPooling2D(2,2)))\n",
    "\n",
    "model.add(TimeDistributed(Conv2D(64,(3,3),padding = 'same',activation='relu')))\n",
    "model.add(TimeDistributed(BatchNormalization()))\n",
    "model.add(TimeDistributed(MaxPooling2D(2,2)))\n",
    "\n",
    "model.add(TimeDistributed(Conv2D(128,(3,3),padding = 'same',activation='relu')))\n",
    "model.add(TimeDistributed(BatchNormalization()))\n",
    "model.add(TimeDistributed(MaxPooling2D(2,2)))\n",
    "\n",
    "model.add(TimeDistributed(Conv2D(256,(3,3),padding = 'same',activation='relu')))\n",
    "model.add(TimeDistributed(BatchNormalization()))\n",
    "model.add(TimeDistributed(MaxPooling2D(2,2)))\n",
    "\n",
    "model.add(TimeDistributed(Flatten()))\n",
    "\n",
    "model.add(GRU(256,return_sequences = False))\n",
    "model.add(Dropout(0.25))\n",
    "model.add(Dense(256,activation='relu'))\n",
    "model.add(Dropout(0.25))\n",
    "model.add(Dense(5,activation='softmax'))"
   ]
  },
  {
   "cell_type": "code",
   "execution_count": 51,
   "metadata": {},
   "outputs": [
    {
     "name": "stdout",
     "output_type": "stream",
     "text": [
      "Model: \"sequential_6\"\n",
      "_________________________________________________________________\n",
      " Layer (type)                Output Shape              Param #   \n",
      "=================================================================\n",
      " time_distributed_64 (TimeDi  (None, 30, 120, 120, 16)  448      \n",
      " stributed)                                                      \n",
      "                                                                 \n",
      " time_distributed_65 (TimeDi  (None, 30, 120, 120, 16)  64       \n",
      " stributed)                                                      \n",
      "                                                                 \n",
      " time_distributed_66 (TimeDi  (None, 30, 60, 60, 16)   0         \n",
      " stributed)                                                      \n",
      "                                                                 \n",
      " time_distributed_67 (TimeDi  (None, 30, 60, 60, 32)   4640      \n",
      " stributed)                                                      \n",
      "                                                                 \n",
      " time_distributed_68 (TimeDi  (None, 30, 60, 60, 32)   128       \n",
      " stributed)                                                      \n",
      "                                                                 \n",
      " time_distributed_69 (TimeDi  (None, 30, 30, 30, 32)   0         \n",
      " stributed)                                                      \n",
      "                                                                 \n",
      " time_distributed_70 (TimeDi  (None, 30, 30, 30, 64)   18496     \n",
      " stributed)                                                      \n",
      "                                                                 \n",
      " time_distributed_71 (TimeDi  (None, 30, 30, 30, 64)   256       \n",
      " stributed)                                                      \n",
      "                                                                 \n",
      " time_distributed_72 (TimeDi  (None, 30, 15, 15, 64)   0         \n",
      " stributed)                                                      \n",
      "                                                                 \n",
      " time_distributed_73 (TimeDi  (None, 30, 15, 15, 128)  73856     \n",
      " stributed)                                                      \n",
      "                                                                 \n",
      " time_distributed_74 (TimeDi  (None, 30, 15, 15, 128)  512       \n",
      " stributed)                                                      \n",
      "                                                                 \n",
      " time_distributed_75 (TimeDi  (None, 30, 7, 7, 128)    0         \n",
      " stributed)                                                      \n",
      "                                                                 \n",
      " time_distributed_76 (TimeDi  (None, 30, 7, 7, 256)    295168    \n",
      " stributed)                                                      \n",
      "                                                                 \n",
      " time_distributed_77 (TimeDi  (None, 30, 7, 7, 256)    1024      \n",
      " stributed)                                                      \n",
      "                                                                 \n",
      " time_distributed_78 (TimeDi  (None, 30, 3, 3, 256)    0         \n",
      " stributed)                                                      \n",
      "                                                                 \n",
      " time_distributed_79 (TimeDi  (None, 30, 2304)         0         \n",
      " stributed)                                                      \n",
      "                                                                 \n",
      " gru_2 (GRU)                 (None, 256)               1967616   \n",
      "                                                                 \n",
      " dropout_12 (Dropout)        (None, 256)               0         \n",
      "                                                                 \n",
      " dense_14 (Dense)            (None, 256)               65792     \n",
      "                                                                 \n",
      " dropout_13 (Dropout)        (None, 256)               0         \n",
      "                                                                 \n",
      " dense_15 (Dense)            (None, 5)                 1285      \n",
      "                                                                 \n",
      "=================================================================\n",
      "Total params: 2,429,285\n",
      "Trainable params: 2,428,293\n",
      "Non-trainable params: 992\n",
      "_________________________________________________________________\n",
      "None\n"
     ]
    }
   ],
   "source": [
    "optimiser = optimizers.Adam(0.0001)\n",
    "epochs = 45\n",
    "model.compile(optimizer=optimiser, loss='categorical_crossentropy', metrics=['categorical_accuracy'])\n",
    "print (model.summary())"
   ]
  },
  {
   "cell_type": "code",
   "execution_count": 52,
   "metadata": {},
   "outputs": [],
   "source": [
    "train_generator = generator(train_path, train_doc, batch_size)\n",
    "val_generator = generator(val_path, val_doc, batch_size)"
   ]
  },
  {
   "cell_type": "code",
   "execution_count": 53,
   "metadata": {},
   "outputs": [
    {
     "name": "stdout",
     "output_type": "stream",
     "text": [
      "WARNING:tensorflow:`period` argument is deprecated. Please use `save_freq` to specify the frequency in number of batches seen.\n"
     ]
    }
   ],
   "source": [
    "model_name = 'model_initCNN2DLSTM_2' + '_' + str(curr_dt_time).replace(' ','').replace(':','_') + '/'\n",
    "    \n",
    "if not os.path.exists(model_name):\n",
    "    os.mkdir(model_name)\n",
    "        \n",
    "filepath = model_name + 'model-{epoch:05d}-{loss:.5f}-{categorical_accuracy:.5f}-{val_loss:.5f}-{val_categorical_accuracy:.5f}.h5'\n",
    "\n",
    "checkpoint = ModelCheckpoint(filepath, monitor='val_loss', verbose=1, save_best_only=False, save_weights_only=False, mode='auto', period=1)\n",
    "\n",
    "LR = ReduceLROnPlateau(monitor='val_loss',factor=0.5,patience=2,cooldown=1,verbose=1)\n",
    "callbacks_list = [checkpoint, LR]"
   ]
  },
  {
   "cell_type": "code",
   "execution_count": 54,
   "metadata": {},
   "outputs": [],
   "source": [
    "if (num_train_sequences%batch_size) == 0:\n",
    "    steps_per_epoch = int(num_train_sequences/batch_size)\n",
    "else:\n",
    "    steps_per_epoch = (num_train_sequences//batch_size) + 1\n",
    "\n",
    "if (num_val_sequences%batch_size) == 0:\n",
    "    validation_steps = int(num_val_sequences/batch_size)\n",
    "else:\n",
    "    validation_steps = (num_val_sequences//batch_size) + 1"
   ]
  },
  {
   "cell_type": "code",
   "execution_count": 55,
   "metadata": {},
   "outputs": [
    {
     "name": "stderr",
     "output_type": "stream",
     "text": [
      "C:\\Users\\abhin\\AppData\\Local\\Temp\\ipykernel_2756\\2003434324.py:1: UserWarning: `Model.fit_generator` is deprecated and will be removed in a future version. Please use `Model.fit`, which supports generators.\n",
      "  history = model.fit_generator(train_generator, steps_per_epoch=steps_per_epoch, epochs=epochs, verbose=1,\n"
     ]
    },
    {
     "name": "stdout",
     "output_type": "stream",
     "text": [
      "Source path =  D:/Master AI and ML/New Project/Project_data/train ; batch size = 10\n",
      "Epoch 1/45\n",
      "67/67 [==============================] - ETA: 0s - loss: 1.4233 - categorical_accuracy: 0.4268Source path =  D:/Master AI and ML/New Project/Project_data/val ; batch size = 10\n",
      "\n",
      "Epoch 1: saving model to model_initCNN2DLSTM_2_2022-08-2400_24_46.361790\\model-00001-1.42326-0.42685-1.74765-0.18000.h5\n",
      "67/67 [==============================] - 149s 2s/step - loss: 1.4233 - categorical_accuracy: 0.4268 - val_loss: 1.7477 - val_categorical_accuracy: 0.1800 - lr: 1.0000e-04\n",
      "Epoch 2/45\n",
      "67/67 [==============================] - ETA: 0s - loss: 0.8138 - categorical_accuracy: 0.7074\n",
      "Epoch 2: saving model to model_initCNN2DLSTM_2_2022-08-2400_24_46.361790\\model-00002-0.81375-0.70739-1.81911-0.21000.h5\n",
      "67/67 [==============================] - 142s 2s/step - loss: 0.8138 - categorical_accuracy: 0.7074 - val_loss: 1.8191 - val_categorical_accuracy: 0.2100 - lr: 1.0000e-04\n",
      "Epoch 3/45\n",
      "67/67 [==============================] - ETA: 0s - loss: 0.5325 - categorical_accuracy: 0.8341\n",
      "Epoch 3: saving model to model_initCNN2DLSTM_2_2022-08-2400_24_46.361790\\model-00003-0.53253-0.83409-1.95332-0.21000.h5\n",
      "\n",
      "Epoch 3: ReduceLROnPlateau reducing learning rate to 4.999999873689376e-05.\n",
      "67/67 [==============================] - 143s 2s/step - loss: 0.5325 - categorical_accuracy: 0.8341 - val_loss: 1.9533 - val_categorical_accuracy: 0.2100 - lr: 1.0000e-04\n",
      "Epoch 4/45\n",
      "67/67 [==============================] - ETA: 0s - loss: 0.3710 - categorical_accuracy: 0.9080\n",
      "Epoch 4: saving model to model_initCNN2DLSTM_2_2022-08-2400_24_46.361790\\model-00004-0.37104-0.90799-1.70716-0.35000.h5\n",
      "67/67 [==============================] - 143s 2s/step - loss: 0.3710 - categorical_accuracy: 0.9080 - val_loss: 1.7072 - val_categorical_accuracy: 0.3500 - lr: 5.0000e-05\n",
      "Epoch 5/45\n",
      "67/67 [==============================] - ETA: 0s - loss: 0.2511 - categorical_accuracy: 0.9367\n",
      "Epoch 5: saving model to model_initCNN2DLSTM_2_2022-08-2400_24_46.361790\\model-00005-0.25109-0.93665-1.71358-0.41000.h5\n",
      "67/67 [==============================] - 142s 2s/step - loss: 0.2511 - categorical_accuracy: 0.9367 - val_loss: 1.7136 - val_categorical_accuracy: 0.4100 - lr: 5.0000e-05\n",
      "Epoch 6/45\n",
      "67/67 [==============================] - ETA: 0s - loss: 0.1981 - categorical_accuracy: 0.9668\n",
      "Epoch 6: saving model to model_initCNN2DLSTM_2_2022-08-2400_24_46.361790\\model-00006-0.19810-0.96682-1.62833-0.43000.h5\n",
      "67/67 [==============================] - 145s 2s/step - loss: 0.1981 - categorical_accuracy: 0.9668 - val_loss: 1.6283 - val_categorical_accuracy: 0.4300 - lr: 5.0000e-05\n",
      "Epoch 7/45\n",
      "67/67 [==============================] - ETA: 0s - loss: 0.1576 - categorical_accuracy: 0.9804\n",
      "Epoch 7: saving model to model_initCNN2DLSTM_2_2022-08-2400_24_46.361790\\model-00007-0.15761-0.98039-1.16353-0.61000.h5\n",
      "67/67 [==============================] - 142s 2s/step - loss: 0.1576 - categorical_accuracy: 0.9804 - val_loss: 1.1635 - val_categorical_accuracy: 0.6100 - lr: 5.0000e-05\n",
      "Epoch 8/45\n",
      "67/67 [==============================] - ETA: 0s - loss: 0.1187 - categorical_accuracy: 0.9849\n",
      "Epoch 8: saving model to model_initCNN2DLSTM_2_2022-08-2400_24_46.361790\\model-00008-0.11869-0.98492-1.12048-0.61000.h5\n",
      "67/67 [==============================] - 145s 2s/step - loss: 0.1187 - categorical_accuracy: 0.9849 - val_loss: 1.1205 - val_categorical_accuracy: 0.6100 - lr: 5.0000e-05\n",
      "Epoch 9/45\n",
      "67/67 [==============================] - ETA: 0s - loss: 0.1013 - categorical_accuracy: 0.9879\n",
      "Epoch 9: saving model to model_initCNN2DLSTM_2_2022-08-2400_24_46.361790\\model-00009-0.10130-0.98793-0.80575-0.69000.h5\n",
      "67/67 [==============================] - 145s 2s/step - loss: 0.1013 - categorical_accuracy: 0.9879 - val_loss: 0.8057 - val_categorical_accuracy: 0.6900 - lr: 5.0000e-05\n",
      "Epoch 10/45\n",
      "67/67 [==============================] - ETA: 0s - loss: 0.0787 - categorical_accuracy: 0.9955\n",
      "Epoch 10: saving model to model_initCNN2DLSTM_2_2022-08-2400_24_46.361790\\model-00010-0.07868-0.99548-0.80424-0.70000.h5\n",
      "67/67 [==============================] - 144s 2s/step - loss: 0.0787 - categorical_accuracy: 0.9955 - val_loss: 0.8042 - val_categorical_accuracy: 0.7000 - lr: 5.0000e-05\n",
      "Epoch 11/45\n",
      "67/67 [==============================] - ETA: 0s - loss: 0.0551 - categorical_accuracy: 1.0000\n",
      "Epoch 11: saving model to model_initCNN2DLSTM_2_2022-08-2400_24_46.361790\\model-00011-0.05512-1.00000-0.61486-0.82000.h5\n",
      "67/67 [==============================] - 142s 2s/step - loss: 0.0551 - categorical_accuracy: 1.0000 - val_loss: 0.6149 - val_categorical_accuracy: 0.8200 - lr: 5.0000e-05\n",
      "Epoch 12/45\n",
      "67/67 [==============================] - ETA: 0s - loss: 0.0498 - categorical_accuracy: 0.9985\n",
      "Epoch 12: saving model to model_initCNN2DLSTM_2_2022-08-2400_24_46.361790\\model-00012-0.04983-0.99849-0.63748-0.79000.h5\n",
      "67/67 [==============================] - 144s 2s/step - loss: 0.0498 - categorical_accuracy: 0.9985 - val_loss: 0.6375 - val_categorical_accuracy: 0.7900 - lr: 5.0000e-05\n",
      "Epoch 13/45\n",
      "67/67 [==============================] - ETA: 0s - loss: 0.0420 - categorical_accuracy: 1.0000\n",
      "Epoch 13: saving model to model_initCNN2DLSTM_2_2022-08-2400_24_46.361790\\model-00013-0.04196-1.00000-0.63180-0.80000.h5\n",
      "\n",
      "Epoch 13: ReduceLROnPlateau reducing learning rate to 2.499999936844688e-05.\n",
      "67/67 [==============================] - 146s 2s/step - loss: 0.0420 - categorical_accuracy: 1.0000 - val_loss: 0.6318 - val_categorical_accuracy: 0.8000 - lr: 5.0000e-05\n",
      "Epoch 14/45\n",
      "67/67 [==============================] - ETA: 0s - loss: 0.0383 - categorical_accuracy: 0.9955\n",
      "Epoch 14: saving model to model_initCNN2DLSTM_2_2022-08-2400_24_46.361790\\model-00014-0.03835-0.99548-0.78350-0.74000.h5\n",
      "67/67 [==============================] - 144s 2s/step - loss: 0.0383 - categorical_accuracy: 0.9955 - val_loss: 0.7835 - val_categorical_accuracy: 0.7400 - lr: 2.5000e-05\n",
      "Epoch 15/45\n",
      "67/67 [==============================] - ETA: 0s - loss: 0.0364 - categorical_accuracy: 0.9955\n",
      "Epoch 15: saving model to model_initCNN2DLSTM_2_2022-08-2400_24_46.361790\\model-00015-0.03638-0.99548-0.40833-0.87000.h5\n",
      "67/67 [==============================] - 145s 2s/step - loss: 0.0364 - categorical_accuracy: 0.9955 - val_loss: 0.4083 - val_categorical_accuracy: 0.8700 - lr: 2.5000e-05\n",
      "Epoch 16/45\n",
      "67/67 [==============================] - ETA: 0s - loss: 0.0302 - categorical_accuracy: 0.9985\n",
      "Epoch 16: saving model to model_initCNN2DLSTM_2_2022-08-2400_24_46.361790\\model-00016-0.03024-0.99849-0.60088-0.82000.h5\n",
      "67/67 [==============================] - 145s 2s/step - loss: 0.0302 - categorical_accuracy: 0.9985 - val_loss: 0.6009 - val_categorical_accuracy: 0.8200 - lr: 2.5000e-05\n",
      "Epoch 17/45\n",
      "67/67 [==============================] - ETA: 0s - loss: 0.0218 - categorical_accuracy: 1.0000\n",
      "Epoch 17: saving model to model_initCNN2DLSTM_2_2022-08-2400_24_46.361790\\model-00017-0.02180-1.00000-0.53719-0.84000.h5\n",
      "\n",
      "Epoch 17: ReduceLROnPlateau reducing learning rate to 1.249999968422344e-05.\n",
      "67/67 [==============================] - 142s 2s/step - loss: 0.0218 - categorical_accuracy: 1.0000 - val_loss: 0.5372 - val_categorical_accuracy: 0.8400 - lr: 2.5000e-05\n",
      "Epoch 18/45\n",
      "67/67 [==============================] - ETA: 0s - loss: 0.0315 - categorical_accuracy: 0.9970\n",
      "Epoch 18: saving model to model_initCNN2DLSTM_2_2022-08-2400_24_46.361790\\model-00018-0.03151-0.99698-0.70907-0.76000.h5\n",
      "67/67 [==============================] - 144s 2s/step - loss: 0.0315 - categorical_accuracy: 0.9970 - val_loss: 0.7091 - val_categorical_accuracy: 0.7600 - lr: 1.2500e-05\n",
      "Epoch 19/45\n",
      "67/67 [==============================] - ETA: 0s - loss: 0.0237 - categorical_accuracy: 1.0000\n",
      "Epoch 19: saving model to model_initCNN2DLSTM_2_2022-08-2400_24_46.361790\\model-00019-0.02371-1.00000-0.50901-0.86000.h5\n",
      "\n",
      "Epoch 19: ReduceLROnPlateau reducing learning rate to 6.24999984211172e-06.\n",
      "67/67 [==============================] - 145s 2s/step - loss: 0.0237 - categorical_accuracy: 1.0000 - val_loss: 0.5090 - val_categorical_accuracy: 0.8600 - lr: 1.2500e-05\n",
      "Epoch 20/45\n",
      "67/67 [==============================] - ETA: 0s - loss: 0.0181 - categorical_accuracy: 1.0000\n",
      "Epoch 20: saving model to model_initCNN2DLSTM_2_2022-08-2400_24_46.361790\\model-00020-0.01807-1.00000-0.65815-0.79000.h5\n"
     ]
    },
    {
     "name": "stdout",
     "output_type": "stream",
     "text": [
      "67/67 [==============================] - 143s 2s/step - loss: 0.0181 - categorical_accuracy: 1.0000 - val_loss: 0.6581 - val_categorical_accuracy: 0.7900 - lr: 6.2500e-06\n",
      "Epoch 21/45\n",
      "67/67 [==============================] - ETA: 0s - loss: 0.0184 - categorical_accuracy: 1.0000\n",
      "Epoch 21: saving model to model_initCNN2DLSTM_2_2022-08-2400_24_46.361790\\model-00021-0.01844-1.00000-0.58292-0.82000.h5\n",
      "\n",
      "Epoch 21: ReduceLROnPlateau reducing learning rate to 3.12499992105586e-06.\n",
      "67/67 [==============================] - 146s 2s/step - loss: 0.0184 - categorical_accuracy: 1.0000 - val_loss: 0.5829 - val_categorical_accuracy: 0.8200 - lr: 6.2500e-06\n",
      "Epoch 22/45\n",
      "67/67 [==============================] - ETA: 0s - loss: 0.0205 - categorical_accuracy: 1.0000\n",
      "Epoch 22: saving model to model_initCNN2DLSTM_2_2022-08-2400_24_46.361790\\model-00022-0.02051-1.00000-0.66519-0.79000.h5\n",
      "67/67 [==============================] - 146s 2s/step - loss: 0.0205 - categorical_accuracy: 1.0000 - val_loss: 0.6652 - val_categorical_accuracy: 0.7900 - lr: 3.1250e-06\n",
      "Epoch 23/45\n",
      "67/67 [==============================] - ETA: 0s - loss: 0.0234 - categorical_accuracy: 0.9985\n",
      "Epoch 23: saving model to model_initCNN2DLSTM_2_2022-08-2400_24_46.361790\\model-00023-0.02340-0.99849-0.54662-0.83000.h5\n",
      "\n",
      "Epoch 23: ReduceLROnPlateau reducing learning rate to 1.56249996052793e-06.\n",
      "67/67 [==============================] - 145s 2s/step - loss: 0.0234 - categorical_accuracy: 0.9985 - val_loss: 0.5466 - val_categorical_accuracy: 0.8300 - lr: 3.1250e-06\n",
      "Epoch 24/45\n",
      "67/67 [==============================] - ETA: 0s - loss: 0.0197 - categorical_accuracy: 0.9985\n",
      "Epoch 24: saving model to model_initCNN2DLSTM_2_2022-08-2400_24_46.361790\\model-00024-0.01969-0.99849-0.56610-0.82000.h5\n",
      "67/67 [==============================] - 145s 2s/step - loss: 0.0197 - categorical_accuracy: 0.9985 - val_loss: 0.5661 - val_categorical_accuracy: 0.8200 - lr: 1.5625e-06\n",
      "Epoch 25/45\n",
      "67/67 [==============================] - ETA: 0s - loss: 0.0196 - categorical_accuracy: 1.0000\n",
      "Epoch 25: saving model to model_initCNN2DLSTM_2_2022-08-2400_24_46.361790\\model-00025-0.01961-1.00000-0.61290-0.82000.h5\n",
      "\n",
      "Epoch 25: ReduceLROnPlateau reducing learning rate to 7.81249980263965e-07.\n",
      "67/67 [==============================] - 145s 2s/step - loss: 0.0196 - categorical_accuracy: 1.0000 - val_loss: 0.6129 - val_categorical_accuracy: 0.8200 - lr: 1.5625e-06\n",
      "Epoch 26/45\n",
      "67/67 [==============================] - ETA: 0s - loss: 0.0237 - categorical_accuracy: 0.9970\n",
      "Epoch 26: saving model to model_initCNN2DLSTM_2_2022-08-2400_24_46.361790\\model-00026-0.02370-0.99698-0.42997-0.86000.h5\n",
      "67/67 [==============================] - 144s 2s/step - loss: 0.0237 - categorical_accuracy: 0.9970 - val_loss: 0.4300 - val_categorical_accuracy: 0.8600 - lr: 7.8125e-07\n",
      "Epoch 27/45\n",
      "67/67 [==============================] - ETA: 0s - loss: 0.0185 - categorical_accuracy: 1.0000\n",
      "Epoch 27: saving model to model_initCNN2DLSTM_2_2022-08-2400_24_46.361790\\model-00027-0.01852-1.00000-0.65779-0.79000.h5\n",
      "\n",
      "Epoch 27: ReduceLROnPlateau reducing learning rate to 3.906249901319825e-07.\n",
      "67/67 [==============================] - 146s 2s/step - loss: 0.0185 - categorical_accuracy: 1.0000 - val_loss: 0.6578 - val_categorical_accuracy: 0.7900 - lr: 7.8125e-07\n",
      "Epoch 28/45\n",
      "67/67 [==============================] - ETA: 0s - loss: 0.0202 - categorical_accuracy: 1.0000\n",
      "Epoch 28: saving model to model_initCNN2DLSTM_2_2022-08-2400_24_46.361790\\model-00028-0.02021-1.00000-0.58635-0.83000.h5\n",
      "67/67 [==============================] - 145s 2s/step - loss: 0.0202 - categorical_accuracy: 1.0000 - val_loss: 0.5863 - val_categorical_accuracy: 0.8300 - lr: 3.9062e-07\n",
      "Epoch 29/45\n",
      "67/67 [==============================] - ETA: 0s - loss: 0.0192 - categorical_accuracy: 1.0000\n",
      "Epoch 29: saving model to model_initCNN2DLSTM_2_2022-08-2400_24_46.361790\\model-00029-0.01921-1.00000-0.59619-0.80000.h5\n",
      "\n",
      "Epoch 29: ReduceLROnPlateau reducing learning rate to 1.9531249506599124e-07.\n",
      "67/67 [==============================] - 143s 2s/step - loss: 0.0192 - categorical_accuracy: 1.0000 - val_loss: 0.5962 - val_categorical_accuracy: 0.8000 - lr: 3.9062e-07\n",
      "Epoch 30/45\n",
      "67/67 [==============================] - ETA: 0s - loss: 0.0205 - categorical_accuracy: 1.0000\n",
      "Epoch 30: saving model to model_initCNN2DLSTM_2_2022-08-2400_24_46.361790\\model-00030-0.02047-1.00000-0.59183-0.82000.h5\n",
      "67/67 [==============================] - 145s 2s/step - loss: 0.0205 - categorical_accuracy: 1.0000 - val_loss: 0.5918 - val_categorical_accuracy: 0.8200 - lr: 1.9531e-07\n",
      "Epoch 31/45\n",
      "67/67 [==============================] - ETA: 0s - loss: 0.0191 - categorical_accuracy: 1.0000\n",
      "Epoch 31: saving model to model_initCNN2DLSTM_2_2022-08-2400_24_46.361790\\model-00031-0.01906-1.00000-0.58164-0.82000.h5\n",
      "\n",
      "Epoch 31: ReduceLROnPlateau reducing learning rate to 9.765624753299562e-08.\n",
      "67/67 [==============================] - 143s 2s/step - loss: 0.0191 - categorical_accuracy: 1.0000 - val_loss: 0.5816 - val_categorical_accuracy: 0.8200 - lr: 1.9531e-07\n",
      "Epoch 32/45\n",
      "67/67 [==============================] - ETA: 0s - loss: 0.0237 - categorical_accuracy: 0.9985\n",
      "Epoch 32: saving model to model_initCNN2DLSTM_2_2022-08-2400_24_46.361790\\model-00032-0.02370-0.99849-0.58277-0.82000.h5\n",
      "67/67 [==============================] - 143s 2s/step - loss: 0.0237 - categorical_accuracy: 0.9985 - val_loss: 0.5828 - val_categorical_accuracy: 0.8200 - lr: 9.7656e-08\n",
      "Epoch 33/45\n",
      "67/67 [==============================] - ETA: 0s - loss: 0.0179 - categorical_accuracy: 1.0000\n",
      "Epoch 33: saving model to model_initCNN2DLSTM_2_2022-08-2400_24_46.361790\\model-00033-0.01787-1.00000-0.59144-0.81000.h5\n",
      "\n",
      "Epoch 33: ReduceLROnPlateau reducing learning rate to 4.882812376649781e-08.\n",
      "67/67 [==============================] - 145s 2s/step - loss: 0.0179 - categorical_accuracy: 1.0000 - val_loss: 0.5914 - val_categorical_accuracy: 0.8100 - lr: 9.7656e-08\n",
      "Epoch 34/45\n",
      "67/67 [==============================] - ETA: 0s - loss: 0.0188 - categorical_accuracy: 1.0000\n",
      "Epoch 34: saving model to model_initCNN2DLSTM_2_2022-08-2400_24_46.361790\\model-00034-0.01878-1.00000-0.71599-0.78000.h5\n",
      "67/67 [==============================] - 143s 2s/step - loss: 0.0188 - categorical_accuracy: 1.0000 - val_loss: 0.7160 - val_categorical_accuracy: 0.7800 - lr: 4.8828e-08\n",
      "Epoch 35/45\n",
      "67/67 [==============================] - ETA: 0s - loss: 0.0227 - categorical_accuracy: 0.9985\n",
      "Epoch 35: saving model to model_initCNN2DLSTM_2_2022-08-2400_24_46.361790\\model-00035-0.02269-0.99849-0.44957-0.86000.h5\n",
      "\n",
      "Epoch 35: ReduceLROnPlateau reducing learning rate to 2.4414061883248905e-08.\n",
      "67/67 [==============================] - 144s 2s/step - loss: 0.0227 - categorical_accuracy: 0.9985 - val_loss: 0.4496 - val_categorical_accuracy: 0.8600 - lr: 4.8828e-08\n",
      "Epoch 36/45\n",
      "67/67 [==============================] - ETA: 0s - loss: 0.0225 - categorical_accuracy: 0.9985\n",
      "Epoch 36: saving model to model_initCNN2DLSTM_2_2022-08-2400_24_46.361790\\model-00036-0.02248-0.99849-0.68508-0.80000.h5\n",
      "67/67 [==============================] - 146s 2s/step - loss: 0.0225 - categorical_accuracy: 0.9985 - val_loss: 0.6851 - val_categorical_accuracy: 0.8000 - lr: 2.4414e-08\n",
      "Epoch 37/45\n",
      "67/67 [==============================] - ETA: 0s - loss: 0.0246 - categorical_accuracy: 0.9970\n",
      "Epoch 37: saving model to model_initCNN2DLSTM_2_2022-08-2400_24_46.361790\\model-00037-0.02461-0.99698-0.63269-0.80000.h5\n",
      "\n",
      "Epoch 37: ReduceLROnPlateau reducing learning rate to 1.2207030941624453e-08.\n",
      "67/67 [==============================] - 144s 2s/step - loss: 0.0246 - categorical_accuracy: 0.9970 - val_loss: 0.6327 - val_categorical_accuracy: 0.8000 - lr: 2.4414e-08\n",
      "Epoch 38/45\n",
      "67/67 [==============================] - ETA: 0s - loss: 0.0227 - categorical_accuracy: 0.9985\n",
      "Epoch 38: saving model to model_initCNN2DLSTM_2_2022-08-2400_24_46.361790\\model-00038-0.02267-0.99849-0.46512-0.84000.h5\n",
      "67/67 [==============================] - 144s 2s/step - loss: 0.0227 - categorical_accuracy: 0.9985 - val_loss: 0.4651 - val_categorical_accuracy: 0.8400 - lr: 1.2207e-08\n",
      "Epoch 39/45\n",
      "67/67 [==============================] - ETA: 0s - loss: 0.0198 - categorical_accuracy: 1.0000\n",
      "Epoch 39: saving model to model_initCNN2DLSTM_2_2022-08-2400_24_46.361790\\model-00039-0.01976-1.00000-0.60723-0.81000.h5\n"
     ]
    },
    {
     "name": "stdout",
     "output_type": "stream",
     "text": [
      "\n",
      "Epoch 39: ReduceLROnPlateau reducing learning rate to 6.103515470812226e-09.\n",
      "67/67 [==============================] - 144s 2s/step - loss: 0.0198 - categorical_accuracy: 1.0000 - val_loss: 0.6072 - val_categorical_accuracy: 0.8100 - lr: 1.2207e-08\n",
      "Epoch 40/45\n",
      "67/67 [==============================] - ETA: 0s - loss: 0.0191 - categorical_accuracy: 1.0000\n",
      "Epoch 40: saving model to model_initCNN2DLSTM_2_2022-08-2400_24_46.361790\\model-00040-0.01911-1.00000-0.58542-0.82000.h5\n",
      "67/67 [==============================] - 146s 2s/step - loss: 0.0191 - categorical_accuracy: 1.0000 - val_loss: 0.5854 - val_categorical_accuracy: 0.8200 - lr: 6.1035e-09\n",
      "Epoch 41/45\n",
      "67/67 [==============================] - ETA: 0s - loss: 0.0236 - categorical_accuracy: 0.9985\n",
      "Epoch 41: saving model to model_initCNN2DLSTM_2_2022-08-2400_24_46.361790\\model-00041-0.02363-0.99849-0.58245-0.82000.h5\n",
      "\n",
      "Epoch 41: ReduceLROnPlateau reducing learning rate to 3.051757735406113e-09.\n",
      "67/67 [==============================] - 144s 2s/step - loss: 0.0236 - categorical_accuracy: 0.9985 - val_loss: 0.5824 - val_categorical_accuracy: 0.8200 - lr: 6.1035e-09\n",
      "Epoch 42/45\n",
      "67/67 [==============================] - ETA: 0s - loss: 0.0205 - categorical_accuracy: 1.0000\n",
      "Epoch 42: saving model to model_initCNN2DLSTM_2_2022-08-2400_24_46.361790\\model-00042-0.02055-1.00000-0.58238-0.82000.h5\n",
      "67/67 [==============================] - 144s 2s/step - loss: 0.0205 - categorical_accuracy: 1.0000 - val_loss: 0.5824 - val_categorical_accuracy: 0.8200 - lr: 3.0518e-09\n",
      "Epoch 43/45\n",
      "67/67 [==============================] - ETA: 0s - loss: 0.0186 - categorical_accuracy: 1.0000\n",
      "Epoch 43: saving model to model_initCNN2DLSTM_2_2022-08-2400_24_46.361790\\model-00043-0.01857-1.00000-0.54849-0.83000.h5\n",
      "\n",
      "Epoch 43: ReduceLROnPlateau reducing learning rate to 1.5258788677030566e-09.\n",
      "67/67 [==============================] - 144s 2s/step - loss: 0.0186 - categorical_accuracy: 1.0000 - val_loss: 0.5485 - val_categorical_accuracy: 0.8300 - lr: 3.0518e-09\n",
      "Epoch 44/45\n",
      "67/67 [==============================] - ETA: 0s - loss: 0.0241 - categorical_accuracy: 1.0000\n",
      "Epoch 44: saving model to model_initCNN2DLSTM_2_2022-08-2400_24_46.361790\\model-00044-0.02409-1.00000-0.73519-0.78000.h5\n",
      "67/67 [==============================] - 144s 2s/step - loss: 0.0241 - categorical_accuracy: 1.0000 - val_loss: 0.7352 - val_categorical_accuracy: 0.7800 - lr: 1.5259e-09\n",
      "Epoch 45/45\n",
      "67/67 [==============================] - ETA: 0s - loss: 0.0202 - categorical_accuracy: 1.0000\n",
      "Epoch 45: saving model to model_initCNN2DLSTM_2_2022-08-2400_24_46.361790\\model-00045-0.02020-1.00000-0.52631-0.85000.h5\n",
      "\n",
      "Epoch 45: ReduceLROnPlateau reducing learning rate to 7.629394338515283e-10.\n",
      "67/67 [==============================] - 147s 2s/step - loss: 0.0202 - categorical_accuracy: 1.0000 - val_loss: 0.5263 - val_categorical_accuracy: 0.8500 - lr: 1.5259e-09\n"
     ]
    }
   ],
   "source": [
    "history = model.fit_generator(train_generator, steps_per_epoch=steps_per_epoch, epochs=epochs, verbose=1, \n",
    "                    callbacks=callbacks_list, validation_data=val_generator, \n",
    "                    validation_steps=validation_steps, class_weight=None, workers=1, initial_epoch=0)"
   ]
  },
  {
   "cell_type": "code",
   "execution_count": 56,
   "metadata": {},
   "outputs": [
    {
     "data": {
      "text/plain": [
       "<matplotlib.legend.Legend at 0x222b55fd760>"
      ]
     },
     "execution_count": 56,
     "metadata": {},
     "output_type": "execute_result"
    },
    {
     "data": {
      "image/png": "[encoded data removed]",
      "text/plain": [
       "<Figure size 1440x432 with 2 Axes>"
      ]
     },
     "metadata": {
      "needs_background": "light"
     },
     "output_type": "display_data"
    }
   ],
   "source": [
    "plt.figure(figsize=(20,6))\n",
    "ax1 = plt.subplot(121)\n",
    "ax1 = plt.plot(history.history['loss'])\n",
    "ax1 = plt.plot(history.history['val_loss'])\n",
    "plt.title('model loss')\n",
    "plt.ylabel('loss')\n",
    "plt.xlabel('epoch')\n",
    "plt.legend(['train', 'validation'], loc='lower left')\n",
    "ax2 = plt.subplot(122)\n",
    "ax2 = plt.plot(history.history['categorical_accuracy'])\n",
    "ax2 = plt.plot(history.history['val_categorical_accuracy'])\n",
    "plt.title('model accuracy')\n",
    "plt.ylabel('categorical_accuracy')\n",
    "plt.xlabel('epoch')\n",
    "plt.legend(['train', 'validation'], loc='lower left')"
   ]
  },
  {
   "cell_type": "markdown",
   "metadata": {},
   "source": [
    "The model doesn't seem to be overfitting, it has good train accuracy and validation accuracy with improved training loss than the first CNN2D + GRU Model. But there is not much significant improvement in the model even after training it for more epochs.\n",
    "- Training Accuracy: 99.85%\n",
    "- Validation Accuracy: 86.00%"
   ]
  },
  {
   "cell_type": "markdown",
   "metadata": {},
   "source": [
    "# Conclusion"
   ]
  },
  {
   "cell_type": "markdown",
   "metadata": {},
   "source": [
    "### After trying out multiple models, CNN2D + LSTM (45 Epochs) seems to be a better model in terms of Accuracy of Training and Validation and has comparitively less Training Loss. The selected checkpoint .h5 has been attached with the same."
   ]
  },
  {
   "cell_type": "code",
   "execution_count": null,
   "metadata": {},
   "outputs": [],
   "source": []
  }
 ],
 "metadata": {
  "kernelspec": {
   "display_name": "Python 3 (ipykernel)",
   "language": "python",
   "name": "python3"
  },
  "language_info": {
   "codemirror_mode": {
    "name": "ipython",
    "version": 3
   },
   "file_extension": ".py",
   "mimetype": "text/x-python",
   "name": "python",
   "nbconvert_exporter": "python",
   "pygments_lexer": "ipython3",
   "version": "3.9.12"
  }
 },
 "nbformat": 4,
 "nbformat_minor": 2
}
